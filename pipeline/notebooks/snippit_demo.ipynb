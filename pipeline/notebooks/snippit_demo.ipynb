{
 "cells": [
  {
   "cell_type": "code",
   "execution_count": 1,
   "id": "358d5f3e-8f03-4557-b9ff-731a52f9f762",
   "metadata": {},
   "outputs": [
    {
     "name": "stdout",
     "output_type": "stream",
     "text": [
      "/home/daan/ws/tide/team-tulip-troops/pipeline/src\n"
     ]
    },
    {
     "name": "stderr",
     "output_type": "stream",
     "text": [
      "/home/daan/miniconda3/envs/tuliptroops/lib/python3.8/site-packages/tqdm/auto.py:22: TqdmWarning: IProgress not found. Please update jupyter and ipywidgets. See https://ipywidgets.readthedocs.io/en/stable/user_install.html\n",
      "  from .autonotebook import tqdm as notebook_tqdm\n"
     ]
    }
   ],
   "source": [
    "%cd ../src\n",
    "%load_ext autoreload\n",
    "%autoreload 2\n",
    "\n",
    "from credibility import claim_or_opinion\n",
    "import json\n",
    "import pandas as pd\n",
    "from IPython.display import display, HTML\n",
    "\n",
    "df = pd.read_csv('/home/daan/ws/tide/data/Russian_border_Ukraine.csv')\n",
    "print = lambda tweet: display(HTML(tweet))"
   ]
  },
  {
   "cell_type": "code",
   "execution_count": 2,
   "id": "3ae78ff7-75d5-46a1-b2f4-b70b4ada7c73",
   "metadata": {},
   "outputs": [],
   "source": [
    "tweet1 = df.loc[46265,'renderedContent']"
   ]
  },
  {
   "cell_type": "code",
   "execution_count": 3,
   "id": "8be5b19a-5b76-41a5-95f8-4d810f8b6965",
   "metadata": {},
   "outputs": [],
   "source": [
    "tweet2 = df.loc[552,'renderedContent']"
   ]
  },
  {
   "cell_type": "code",
   "execution_count": 4,
   "id": "0a975db9-756f-4877-9784-d09088313c1e",
   "metadata": {},
   "outputs": [
    {
     "data": {
      "text/html": [
       "The Pentagon said Monday that Defense Secretary Lloyd Austin has put up to 8,500 troops on heightened alert, so they will be prepared to deploy if needed to reassure NATO allies in the face of ongoing Russian aggression on the border of Ukraine. trib.al/DyFT2Gj"
      ],
      "text/plain": [
       "<IPython.core.display.HTML object>"
      ]
     },
     "metadata": {},
     "output_type": "display_data"
    },
    {
     "data": {
      "text/plain": [
       "('statement', 0.9215100407600403)"
      ]
     },
     "execution_count": 4,
     "metadata": {},
     "output_type": "execute_result"
    }
   ],
   "source": [
    "print(tweet1)\n",
    "claim_or_opinion(tweet1)"
   ]
  },
  {
   "cell_type": "code",
   "execution_count": 5,
   "id": "0b690a8c-d0c9-4f8b-a429-55182bce8f56",
   "metadata": {},
   "outputs": [
    {
     "data": {
      "text/html": [
       "#putin needs #sectioning under an #insanity act. At the beginning “It’s just an exercise” not long after the border to #ukraine is crossed. #war begins. #UkraineRussianWar . From there on every #russian official are acting like they’ve lost their marbles. #russians #protes now https://t.co/oq8a0wh6qI"
      ],
      "text/plain": [
       "<IPython.core.display.HTML object>"
      ]
     },
     "metadata": {},
     "output_type": "display_data"
    },
    {
     "data": {
      "text/plain": [
       "('opinion', 0.6656166315078735)"
      ]
     },
     "execution_count": 5,
     "metadata": {},
     "output_type": "execute_result"
    }
   ],
   "source": [
    "print(tweet2)\n",
    "claim_or_opinion(tweet2)"
   ]
  },
  {
   "cell_type": "code",
   "execution_count": 9,
   "id": "ee372760-994e-407a-8ed6-d842e71367c4",
   "metadata": {},
   "outputs": [],
   "source": [
    "from credibility import zero_shot_model\n",
    "from credibility import initialize_nli\n",
    "from credibility import collect_evidences\n",
    "\n",
    "def parse_conclusion(conclusion):\n",
    "    return dict(zip(map(lambda l: l.split(':')[0],conclusion['labels']),conclusion['scores']))"
   ]
  },
  {
   "cell_type": "code",
   "execution_count": 10,
   "id": "f4186d67-d10e-49b9-ace3-06047889a88f",
   "metadata": {},
   "outputs": [
    {
     "data": {
      "text/html": [
       "U.S. watching to see if Russia moves tactical nuclear weapons to the Ukraine border after Russian officials suggest that the move could be possible, according to a NYT article."
      ],
      "text/plain": [
       "<IPython.core.display.HTML object>"
      ]
     },
     "metadata": {},
     "output_type": "display_data"
    },
    {
     "data": {
      "text/plain": [
       "('statement', 0.8697166442871094)"
      ]
     },
     "execution_count": 10,
     "metadata": {},
     "output_type": "execute_result"
    }
   ],
   "source": [
    "tweet3 = df.loc[51886,'renderedContent'].replace(\"\\n\",\" \")\n",
    "print(tweet3)\n",
    "claim_or_opinion(tweet3)"
   ]
  },
  {
   "cell_type": "code",
   "execution_count": 11,
   "id": "0c0a5f1e-db17-4499-a9c3-2e5aa6c6855d",
   "metadata": {},
   "outputs": [],
   "source": [
    "evidence = collect_evidences(tweet3,datasource='elastic')\n",
    "evidence_text = evidence.loc[6].to_dict()['summary']"
   ]
  },
  {
   "cell_type": "code",
   "execution_count": 12,
   "id": "25bccdd2-a7d3-4941-881d-87f41b1b78ea",
   "metadata": {},
   "outputs": [
    {
     "data": {
      "text/html": [
       "Tweet: U.S. watching to see if Russia moves tactical nuclear weapons to the Ukraine border after Russian officials suggest that the move could be possible, according to a NYT article."
      ],
      "text/plain": [
       "<IPython.core.display.HTML object>"
      ]
     },
     "metadata": {},
     "output_type": "display_data"
    },
    {
     "data": {
      "text/html": [
       "Evidence:  Around 100 civilians evacuated from Azovstal steelworks in Mariupol on Sunday . Around 1,000 civilians and 2,000 Ukrainian fighters thought to be sheltering in bunkers . Jill Biden set to visit Romania and Slovakia on Thursday for five days . South Korean ambassador Kim Hyung-tae has returned to Kyiv along with some embassy staff ."
      ],
      "text/plain": [
       "<IPython.core.display.HTML object>"
      ]
     },
     "metadata": {},
     "output_type": "display_data"
    },
    {
     "data": {
      "text/plain": [
       "{'The following statement is True': 0.47842562198638916,\n",
       " 'Not enough information to verify the following statement': 0.2614210844039917,\n",
       " 'The following statement is False': 0.26015326380729675}"
      ]
     },
     "execution_count": 12,
     "metadata": {},
     "output_type": "execute_result"
    }
   ],
   "source": [
    "print(\"Tweet: \"+ tweet3)\n",
    "print(\"Evidence: \"+ evidence_text)\n",
    "zeroshot_labels = [f\"The following statement is True: {tweet3}\",\n",
    "                   f\"Not enough information to verify the following statement: {tweet3}\",\n",
    "                   f\"The following statement is False: {tweet3}\"]\n",
    "conclusion = zero_shot_model(evidence_text, candidate_labels=zeroshot_labels)\n",
    "parse_conclusion(conclusion)"
   ]
  },
  {
   "cell_type": "code",
   "execution_count": 13,
   "id": "49ecccbd-6e3f-4985-a34c-7aa63249614b",
   "metadata": {},
   "outputs": [
    {
     "data": {
      "text/html": [
       "The Ministry of Defense of the Russian Federation stated that the Ukrainian border guards captured on Zmein were brought to Sevastopol. According to them, 82 Ukrainian servicemen plan to be sent home. #Ukraine #UcraniaRussia #worldwar3 #war https://t.co/tDyFehjP8Z"
      ],
      "text/plain": [
       "<IPython.core.display.HTML object>"
      ]
     },
     "metadata": {},
     "output_type": "display_data"
    },
    {
     "data": {
      "text/plain": [
       "('statement', 0.8970088958740234)"
      ]
     },
     "execution_count": 13,
     "metadata": {},
     "output_type": "execute_result"
    }
   ],
   "source": [
    "tweet4 = df.loc[12866,'renderedContent'].replace(\"\\n\",\" \")\n",
    "print(tweet4)\n",
    "claim_or_opinion(tweet4)"
   ]
  },
  {
   "cell_type": "code",
   "execution_count": 14,
   "id": "9d43665b-b218-4485-9c78-6d3fc64d45aa",
   "metadata": {},
   "outputs": [],
   "source": [
    "evidence = collect_evidences(tweet4,datasource='elastic')\n",
    "evidence_text = evidence.loc[6].to_dict()['summary']"
   ]
  },
  {
   "cell_type": "code",
   "execution_count": 15,
   "id": "9194cfc6-4991-434a-b1f4-0dd667eaf106",
   "metadata": {},
   "outputs": [
    {
     "data": {
      "text/html": [
       "Tweet: The Ministry of Defense of the Russian Federation stated that the Ukrainian border guards captured on Zmein were brought to Sevastopol. According to them, 82 Ukrainian servicemen plan to be sent home. #Ukraine #UcraniaRussia #worldwar3 #war https://t.co/tDyFehjP8Z"
      ],
      "text/plain": [
       "<IPython.core.display.HTML object>"
      ]
     },
     "metadata": {},
     "output_type": "display_data"
    },
    {
     "data": {
      "text/html": [],
      "text/plain": [
       "<IPython.core.display.HTML object>"
      ]
     },
     "metadata": {},
     "output_type": "display_data"
    },
    {
     "data": {
      "text/html": [
       "Evidence:  Russia claims it has taken full control of Lysychansk, the last major stronghold in the Luhansk region . Ukraine’s defence ministry has denied the claims, saying that the city was not under “full control” of Russia . If the entire Donbas region were to fall, it would not be “game over” for Ukraine, spokesman said ."
      ],
      "text/plain": [
       "<IPython.core.display.HTML object>"
      ]
     },
     "metadata": {},
     "output_type": "display_data"
    },
    {
     "data": {
      "text/plain": [
       "{'The following statement is False': 0.5344493389129639,\n",
       " 'Not enough information to verify the following statement': 0.34265515208244324,\n",
       " 'The following statement is True': 0.12289545685052872}"
      ]
     },
     "execution_count": 15,
     "metadata": {},
     "output_type": "execute_result"
    }
   ],
   "source": [
    "print(\"Tweet: \"+ tweet4)\n",
    "print(\"\")\n",
    "print(\"Evidence: \"+ evidence_text)\n",
    "zeroshot_labels = [f\"The following statement is True: {tweet4}\",\n",
    "                   f\"Not enough information to verify the following statement: {tweet4}\",\n",
    "                   f\"The following statement is False: {tweet4}\"]\n",
    "conclusion = zero_shot_model(evidence_text, candidate_labels=zeroshot_labels)\n",
    "parse_conclusion(conclusion)"
   ]
  },
  {
   "cell_type": "code",
   "execution_count": 16,
   "id": "dec9c4dc-f2fe-40af-be20-8d44f1e808cf",
   "metadata": {},
   "outputs": [],
   "source": [
    "from urllib.parse import urlparse"
   ]
  },
  {
   "cell_type": "code",
   "execution_count": 24,
   "id": "28351f88-37da-4019-906d-8788b4f5a680",
   "metadata": {},
   "outputs": [],
   "source": [
    "def get_clean_source(source):\n",
    "    if source.startswith(\"http\"):\n",
    "        return '.'.join(urlparse(source).netloc.split('.')[-2:-1])\n",
    "    elif \" - \" in source:\n",
    "        return source.split(' - ')[0]"
   ]
  },
  {
   "cell_type": "code",
   "execution_count": 26,
   "id": "cb58f780-d874-4aa9-80eb-a04a580b319f",
   "metadata": {},
   "outputs": [
    {
     "data": {
      "text/plain": [
       "('bbc',\n",
       " {'credible source': 0.8198277354240417,\n",
       "  'uncredible source': 0.18017227947711945})"
      ]
     },
     "execution_count": 26,
     "metadata": {},
     "output_type": "execute_result"
    }
   ],
   "source": [
    "source_url = \"https://www.bbc.com/news/world-europe-60534959\"\n",
    "source_name = get_clean_source(source_url)\n",
    "\n",
    "zeroshot_labels = ['credible source', 'uncredible source']\n",
    "conclusion = zero_shot_model(source_name, candidate_labels=zeroshot_labels)\n",
    "\n",
    "source_name, parse_conclusion(conclusion)"
   ]
  },
  {
   "cell_type": "code",
   "execution_count": 30,
   "id": "c1af86e6-6358-457e-8b39-32505e4f7feb",
   "metadata": {},
   "outputs": [
    {
     "data": {
      "text/plain": [
       "('bbc',\n",
       " {'british affiliation': 0.9695330858230591,\n",
       "  'canadian affiliaion': 0.019143691286444664,\n",
       "  'russian affiliaion': 0.01132317166775465})"
      ]
     },
     "execution_count": 30,
     "metadata": {},
     "output_type": "execute_result"
    }
   ],
   "source": [
    "source_url = \"https://www.bbc.com/news/world-europe-60534959\"\n",
    "source_name = get_clean_source(source_url)\n",
    "\n",
    "zeroshot_labels = ['british affiliation', 'russian affiliaion', 'canadian affiliaion']\n",
    "conclusion = zero_shot_model(source_name, candidate_labels=zeroshot_labels)\n",
    "\n",
    "source_name, parse_conclusion(conclusion)"
   ]
  },
  {
   "cell_type": "code",
   "execution_count": 54,
   "id": "11460d1d-af19-4766-871f-6c7ffdbe0a1c",
   "metadata": {},
   "outputs": [
    {
     "data": {
      "text/plain": [
       "('infowars',\n",
       " {'uncredible source': 0.8476134538650513,\n",
       "  'credible source': 0.15238656103610992})"
      ]
     },
     "execution_count": 54,
     "metadata": {},
     "output_type": "execute_result"
    }
   ],
   "source": [
    "source_url = \"https://news-front.info/2023/02/22/doroga-zhizni-kak-zhivut-zhiteli-odnogo-iz-razrushennyh-poselkov-v-hersonskoj-oblasti/\"\n",
    "source_url = \"https://www.infowars.com/posts/alex-jones-backs-trump-after-anti-war-speech/\"\n",
    "#source_url = \"https://www.bbc.com/news/world-europe-60534959\"\n",
    "source_name = get_clean_source(source_url)\n",
    "\n",
    "zeroshot_labels = ['misinformation', 'credible source']\n",
    "zeroshot_labels = ['credible source', 'uncredible source']\n",
    "conclusion = zero_shot_model(source_name, candidate_labels=zeroshot_labels)\n",
    "\n",
    "#zeroshot_labels = ['Russian affiliation', 'no Russian affiliation']\n",
    "#conclusion = zero_shot_model(source_name, candidate_labels=zeroshot_labels)\n",
    "\n",
    "source_name, parse_conclusion(conclusion)"
   ]
  },
  {
   "cell_type": "code",
   "execution_count": 96,
   "id": "e1230bb3-69d9-4119-b8b4-3556c3efe5f1",
   "metadata": {},
   "outputs": [
    {
     "data": {
      "text/plain": [
       "'verify'"
      ]
     },
     "execution_count": 96,
     "metadata": {},
     "output_type": "execute_result"
    }
   ],
   "source": [
    "parsed_conclusion = conclusion['labels'][2].split(' ')[4].lower().replace(':', '')\n",
    "parsed_conclusion"
   ]
  },
  {
   "cell_type": "code",
   "execution_count": 47,
   "id": "ba824b6f-df75-49f0-830c-66a62d266ad7",
   "metadata": {},
   "outputs": [],
   "source": [
    "nli_model = initialize_nli()\n",
    "scores = nli_model.predict([(tweet3, evidence_text)])"
   ]
  },
  {
   "cell_type": "code",
   "execution_count": 64,
   "id": "87357be4-f4c4-4b9c-8b6d-30ad16d3f008",
   "metadata": {},
   "outputs": [],
   "source": [
    "unsure_threshold = 0.4\n",
    "evidence_dict = {}\n",
    "label_mapping = ['false', 'true', 'neutral']\n",
    "confidence = scores[0,scores.argmax(axis=1)[0]]\n",
    "label = 'neutral' if confidence <= unsure_threshold else label_mapping[scores.argmax(axis=1)[0]]\n",
    "result = {'label':label,'confidence':confidence}\n",
    "evidence_dict.update(result)"
   ]
  },
  {
   "cell_type": "code",
   "execution_count": 65,
   "id": "47e59f95-948b-4ccb-a2c2-e2ed6577cc87",
   "metadata": {},
   "outputs": [
    {
     "data": {
      "text/plain": [
       "0.6832002"
      ]
     },
     "execution_count": 65,
     "metadata": {},
     "output_type": "execute_result"
    }
   ],
   "source": [
    "scores[0,2]"
   ]
  },
  {
   "cell_type": "code",
   "execution_count": 67,
   "id": "7735a92a-7d65-4913-91e0-06ea1f09bcc6",
   "metadata": {},
   "outputs": [
    {
     "data": {
      "text/plain": [
       "{'label': 'neutral', 'confidence': 0.6832002}"
      ]
     },
     "execution_count": 67,
     "metadata": {},
     "output_type": "execute_result"
    }
   ],
   "source": [
    "evidence_dict"
   ]
  },
  {
   "cell_type": "code",
   "execution_count": 54,
   "id": "9d755574-30cd-4f7c-b694-f9453daee4d3",
   "metadata": {},
   "outputs": [
    {
     "data": {
      "text/plain": [
       "{'false': -0.005442068, 'true': -1.0628991, 'neutral': 0.6832002}"
      ]
     },
     "execution_count": 54,
     "metadata": {},
     "output_type": "execute_result"
    }
   ],
   "source": [
    "dict(zip(['false', 'true', 'neutral'],list(scores[0])))"
   ]
  },
  {
   "cell_type": "code",
   "execution_count": 43,
   "id": "dd1890de-c3ec-45c1-bd89-cee6c05aac3d",
   "metadata": {},
   "outputs": [
    {
     "data": {
      "text/html": [
       "<div>\n",
       "<style scoped>\n",
       "    .dataframe tbody tr th:only-of-type {\n",
       "        vertical-align: middle;\n",
       "    }\n",
       "\n",
       "    .dataframe tbody tr th {\n",
       "        vertical-align: top;\n",
       "    }\n",
       "\n",
       "    .dataframe thead th {\n",
       "        text-align: right;\n",
       "    }\n",
       "</style>\n",
       "<table border=\"1\" class=\"dataframe\">\n",
       "  <thead>\n",
       "    <tr style=\"text-align: right;\">\n",
       "      <th></th>\n",
       "      <th>Unnamed: 0</th>\n",
       "      <th>source</th>\n",
       "      <th>text</th>\n",
       "      <th>texthash</th>\n",
       "      <th>summary</th>\n",
       "    </tr>\n",
       "  </thead>\n",
       "  <tbody>\n",
       "    <tr>\n",
       "      <th>0</th>\n",
       "      <td>0</td>\n",
       "      <td>Nyt - 2022-05-31T00:00:00 - U.S. to Send Ukrai...</td>\n",
       "      <td>U.S. to Send Ukraine $700 Million in Military ...</td>\n",
       "      <td>ba8b57792c2814b905740b9b54f0c628</td>\n",
       "      <td>Biden: \"Any use of nuclear weapons in this co...</td>\n",
       "    </tr>\n",
       "    <tr>\n",
       "      <th>1</th>\n",
       "      <td>1</td>\n",
       "      <td>The Guardian - 2022-07-31T06:00:47Z - Ukrainia...</td>\n",
       "      <td>Ukrainian offensive forces Russia to bolster t...</td>\n",
       "      <td>7466404018a9fde0122a2acba741b500</td>\n",
       "      <td>Russian troop movements come in response to U...</td>\n",
       "    </tr>\n",
       "    <tr>\n",
       "      <th>2</th>\n",
       "      <td>2</td>\n",
       "      <td>Nyt - 2022-06-01T00:00:00 - Two Telling Numbers</td>\n",
       "      <td>Two Telling Numbers  In the Opinion section, P...</td>\n",
       "      <td>eed93cc82b84d99319c9aa8370b7fcf5</td>\n",
       "      <td>The big question is whether Russia can encirc...</td>\n",
       "    </tr>\n",
       "    <tr>\n",
       "      <th>3</th>\n",
       "      <td>3</td>\n",
       "      <td>Nyt - 2022-07-27T00:00:00 - Special Military C...</td>\n",
       "      <td>Special Military Cell Flows Weapons and Equipm...</td>\n",
       "      <td>ad745320a1e9e12c5943349028d496a2</td>\n",
       "      <td>About 75 percent of the arms are sent to stag...</td>\n",
       "    </tr>\n",
       "    <tr>\n",
       "      <th>4</th>\n",
       "      <td>4</td>\n",
       "      <td>The Guardian - 2022-02-24T19:54:49Z - War in U...</td>\n",
       "      <td>War in Ukraine: where has Russia attacked?  Ru...</td>\n",
       "      <td>b7d8e3cc1feeeb14325a8a3f86c7e633</td>\n",
       "      <td>Russia's attack on Ukraine began at about 5am...</td>\n",
       "    </tr>\n",
       "    <tr>\n",
       "      <th>5</th>\n",
       "      <td>5</td>\n",
       "      <td>The Guardian - 2022-07-08T15:58:40Z - Germany ...</td>\n",
       "      <td>Germany to reactivate coal power plants as Rus...</td>\n",
       "      <td>204013a47046f4fe0727b61a309fa229</td>\n",
       "      <td>Germany to reactivate mothballed coal-fired p...</td>\n",
       "    </tr>\n",
       "    <tr>\n",
       "      <th>6</th>\n",
       "      <td>6</td>\n",
       "      <td>The Guardian - 2022-05-02T04:42:11Z - Russia-U...</td>\n",
       "      <td>Russia-Ukraine war: South Korea set to reopen ...</td>\n",
       "      <td>a42d76f869eeca13c163b2f5b678193f</td>\n",
       "      <td>Around 100 civilians evacuated from Azovstal ...</td>\n",
       "    </tr>\n",
       "    <tr>\n",
       "      <th>7</th>\n",
       "      <td>7</td>\n",
       "      <td>The Guardian - 2022-07-19T12:28:54Z - Ukrainia...</td>\n",
       "      <td>Ukrainian boy held hostage by Russia tells of ...</td>\n",
       "      <td>70561f9b29ee69b909d480d9824e9d58</td>\n",
       "      <td>Vladislav Buryak, 16, was separated from his ...</td>\n",
       "    </tr>\n",
       "    <tr>\n",
       "      <th>8</th>\n",
       "      <td>8</td>\n",
       "      <td>Nyt - 2022-06-01T00:00:00 - Putin’s Threats Hi...</td>\n",
       "      <td>Putin’s Threats Highlight the Dangers of a New...</td>\n",
       "      <td>3f089af740049f18bbaf5c6469f61f5b</td>\n",
       "      <td>Biden: Any use of nuclear weapons in Ukraine ...</td>\n",
       "    </tr>\n",
       "    <tr>\n",
       "      <th>9</th>\n",
       "      <td>9</td>\n",
       "      <td>Nyt - 2022-07-27T00:00:00 - The U.S. and Russi...</td>\n",
       "      <td>The U.S. and Russia Need to Start Talking Befo...</td>\n",
       "      <td>46617db584a1a91681b08ab519d901bc</td>\n",
       "      <td>The U.S. and Russia need to start talking bef...</td>\n",
       "    </tr>\n",
       "  </tbody>\n",
       "</table>\n",
       "</div>"
      ],
      "text/plain": [
       "   Unnamed: 0                                             source  \\\n",
       "0           0  Nyt - 2022-05-31T00:00:00 - U.S. to Send Ukrai...   \n",
       "1           1  The Guardian - 2022-07-31T06:00:47Z - Ukrainia...   \n",
       "2           2    Nyt - 2022-06-01T00:00:00 - Two Telling Numbers   \n",
       "3           3  Nyt - 2022-07-27T00:00:00 - Special Military C...   \n",
       "4           4  The Guardian - 2022-02-24T19:54:49Z - War in U...   \n",
       "5           5  The Guardian - 2022-07-08T15:58:40Z - Germany ...   \n",
       "6           6  The Guardian - 2022-05-02T04:42:11Z - Russia-U...   \n",
       "7           7  The Guardian - 2022-07-19T12:28:54Z - Ukrainia...   \n",
       "8           8  Nyt - 2022-06-01T00:00:00 - Putin’s Threats Hi...   \n",
       "9           9  Nyt - 2022-07-27T00:00:00 - The U.S. and Russi...   \n",
       "\n",
       "                                                text  \\\n",
       "0  U.S. to Send Ukraine $700 Million in Military ...   \n",
       "1  Ukrainian offensive forces Russia to bolster t...   \n",
       "2  Two Telling Numbers  In the Opinion section, P...   \n",
       "3  Special Military Cell Flows Weapons and Equipm...   \n",
       "4  War in Ukraine: where has Russia attacked?  Ru...   \n",
       "5  Germany to reactivate coal power plants as Rus...   \n",
       "6  Russia-Ukraine war: South Korea set to reopen ...   \n",
       "7  Ukrainian boy held hostage by Russia tells of ...   \n",
       "8  Putin’s Threats Highlight the Dangers of a New...   \n",
       "9  The U.S. and Russia Need to Start Talking Befo...   \n",
       "\n",
       "                           texthash  \\\n",
       "0  ba8b57792c2814b905740b9b54f0c628   \n",
       "1  7466404018a9fde0122a2acba741b500   \n",
       "2  eed93cc82b84d99319c9aa8370b7fcf5   \n",
       "3  ad745320a1e9e12c5943349028d496a2   \n",
       "4  b7d8e3cc1feeeb14325a8a3f86c7e633   \n",
       "5  204013a47046f4fe0727b61a309fa229   \n",
       "6  a42d76f869eeca13c163b2f5b678193f   \n",
       "7  70561f9b29ee69b909d480d9824e9d58   \n",
       "8  3f089af740049f18bbaf5c6469f61f5b   \n",
       "9  46617db584a1a91681b08ab519d901bc   \n",
       "\n",
       "                                             summary  \n",
       "0   Biden: \"Any use of nuclear weapons in this co...  \n",
       "1   Russian troop movements come in response to U...  \n",
       "2   The big question is whether Russia can encirc...  \n",
       "3   About 75 percent of the arms are sent to stag...  \n",
       "4   Russia's attack on Ukraine began at about 5am...  \n",
       "5   Germany to reactivate mothballed coal-fired p...  \n",
       "6   Around 100 civilians evacuated from Azovstal ...  \n",
       "7   Vladislav Buryak, 16, was separated from his ...  \n",
       "8   Biden: Any use of nuclear weapons in Ukraine ...  \n",
       "9   The U.S. and Russia need to start talking bef...  "
      ]
     },
     "execution_count": 43,
     "metadata": {},
     "output_type": "execute_result"
    }
   ],
   "source": [
    "evidence"
   ]
  },
  {
   "cell_type": "code",
   "execution_count": null,
   "id": "290b655e-8a45-408e-ae52-448f640004eb",
   "metadata": {},
   "outputs": [],
   "source": []
  }
 ],
 "metadata": {
  "kernelspec": {
   "display_name": "Tulip Troops (Py3.8)",
   "language": "python",
   "name": "tuliptroops"
  },
  "language_info": {
   "codemirror_mode": {
    "name": "ipython",
    "version": 3
   },
   "file_extension": ".py",
   "mimetype": "text/x-python",
   "name": "python",
   "nbconvert_exporter": "python",
   "pygments_lexer": "ipython3",
   "version": "3.8.16"
  }
 },
 "nbformat": 4,
 "nbformat_minor": 5
}
