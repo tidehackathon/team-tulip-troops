{
 "cells": [
  {
   "cell_type": "code",
   "execution_count": null,
   "metadata": {},
   "outputs": [],
   "source": [
    "%cd ../src\n",
    "%load_ext autoreload\n",
    "%autoreload 2"
   ]
  },
  {
   "cell_type": "code",
   "execution_count": null,
   "metadata": {},
   "outputs": [],
   "source": [
    "import requests\n",
    "requests.packages.urllib3.disable_warnings() \n",
    "\n",
    "import claim_verification"
   ]
  },
  {
   "cell_type": "markdown",
   "metadata": {},
   "source": [
    "# Apply model on several test claims"
   ]
  },
  {
   "cell_type": "markdown",
   "metadata": {},
   "source": [
    "### Brad pitt marrying Britney Spears)"
   ]
  },
  {
   "cell_type": "code",
   "execution_count": null,
   "metadata": {},
   "outputs": [],
   "source": [
    "claim = \"brad pitt is to marry with britney spears\"\n",
    "evidence = claim_verification.investigate_claim(claim, model_type='zero-shot')"
   ]
  },
  {
   "cell_type": "code",
   "execution_count": null,
   "metadata": {},
   "outputs": [],
   "source": [
    "claim = \"brad pitt is not married to britney spears\"\n",
    "evidence = claim_verification.investigate_claim(claim, model_type='zero-shot')"
   ]
  },
  {
   "cell_type": "markdown",
   "metadata": {},
   "source": [
    "### Joe Biden taking home classified documents"
   ]
  },
  {
   "cell_type": "code",
   "execution_count": null,
   "metadata": {
    "scrolled": true
   },
   "outputs": [],
   "source": [
    "claim = \"Joe Biden took home classified documents after leaving the vice-presidency\"\n",
    "evidence = claim_verification.investigate_claim(claim, model_type='zero-shot')"
   ]
  },
  {
   "cell_type": "code",
   "execution_count": null,
   "metadata": {},
   "outputs": [],
   "source": [
    "claim = \"Joe Biden never took home any classified documents after leaving the vice-presidency\"\n",
    "evidence = claim_verification.investigate_claim(claim, model_type='zero-shot')"
   ]
  },
  {
   "cell_type": "markdown",
   "metadata": {},
   "source": [
    "### COVID-19 vaccine and (in)fertility"
   ]
  },
  {
   "cell_type": "code",
   "execution_count": null,
   "metadata": {},
   "outputs": [],
   "source": [
    "claim = \"COVID-19 vaccine causes infertility\"\n",
    "evidence = claim_verification.investigate_claim(claim, model_type='zero-shot')"
   ]
  },
  {
   "cell_type": "code",
   "execution_count": null,
   "metadata": {},
   "outputs": [],
   "source": [
    "claim = \"COVID-19 vaccine does not cause infertility\"\n",
    "evidence = claim_verification.investigate_claim(claim, model_type='zero-shot')"
   ]
  },
  {
   "cell_type": "markdown",
   "metadata": {},
   "source": [
    "### Jan Smit met de US president (fake, but no relevant evidence)"
   ]
  },
  {
   "cell_type": "code",
   "execution_count": null,
   "metadata": {
    "scrolled": true
   },
   "outputs": [],
   "source": [
    "claim = \"jan smit has met with US president in 2012\"\n",
    "evidence = claim_verification.investigate_claim(claim, model_type='zero-shot')"
   ]
  },
  {
   "cell_type": "markdown",
   "metadata": {},
   "source": [
    "# Apply model on real tweets"
   ]
  },
  {
   "cell_type": "markdown",
   "metadata": {},
   "source": [
    "### Manual tweet example #1"
   ]
  },
  {
   "cell_type": "code",
   "execution_count": null,
   "metadata": {},
   "outputs": [],
   "source": [
    "tweet = \"@ianbremmer Russia also has troops on Moldova's border with Ukraine.\"\n",
    "evidence = claim_verification.investigate_claim(tweet, model_type='zero-shot')"
   ]
  },
  {
   "cell_type": "code",
   "execution_count": null,
   "metadata": {},
   "outputs": [],
   "source": [
    "# Experiment: how does rephrasing as a question impact results?\n",
    "tweet = \"does russia have troops on moldova border?\"\n",
    "evidence = claim_verification.investigate_claim(tweet, model_type='zero-shot')"
   ]
  },
  {
   "cell_type": "markdown",
   "metadata": {},
   "source": [
    "### Filter opinions"
   ]
  },
  {
   "cell_type": "code",
   "execution_count": null,
   "metadata": {},
   "outputs": [],
   "source": [
    "tweet = \"Ukraine already is a puppet government. The US started a puppet regime, now the Russians might install their own to secure their border. I feel bad for the civilians caught between them\"\n",
    "evidence = claim_verification.investigate_claim(tweet, model_type='zero-shot')"
   ]
  },
  {
   "cell_type": "raw",
   "metadata": {},
   "source": [
    "# What if we do check this tweet?\n",
    "tweet = \"Ukraine already is a puppet government. The US started a puppet regime, now the Russians might install their own to secure their border. I feel bad for the civilians caught between them\"\n",
    "evidence = claim_verification.investigate_claim(tweet, model_type='zero-shot', filter_opinions=False)"
   ]
  },
  {
   "cell_type": "code",
   "execution_count": null,
   "metadata": {},
   "outputs": [],
   "source": [
    "tweet = \"Ukraine in NATO is how we get to WWIII. I can't see how that ever works when Russia controls Crimea. I think Ukraine would have to agree to give up Crimea and possibly other areas and redraw its eastern border before it could happen. https://t.co/sptiD5yxbi,Ukraine in NATO is how we get to WWIII. I can't see how that ever works when Russia controls Crimea. I think Ukraine would have to agree to give up Crimea and possibly other areas and redraw its eastern border before it could happen.\"\n",
    "evidence = claim_verification.investigate_claim(tweet, model_type='zero-shot')"
   ]
  },
  {
   "cell_type": "markdown",
   "metadata": {},
   "source": [
    "### Questionable news from Russian sources"
   ]
  },
  {
   "cell_type": "markdown",
   "metadata": {},
   "source": [
    "Example of questionable news by Russian press service and media channels. This news was denied by Ukraine. Note: Russian news sources might be filtered from search results in Poland."
   ]
  },
  {
   "cell_type": "code",
   "execution_count": null,
   "metadata": {},
   "outputs": [],
   "source": [
    "tweet = \"The Russian military destroyed two infantry fighting vehicles of the Ukrainian army, which crossed the Russian border from Ukraine for the emergency evacuation of the Ukrainian sabotage group, reports the Southern Military District.\"\n",
    "evidence = claim_verification.investigate_claim(tweet, model_type='zero-shot')"
   ]
  },
  {
   "cell_type": "markdown",
   "metadata": {},
   "source": [
    "### Breitbart news article"
   ]
  },
  {
   "cell_type": "code",
   "execution_count": null,
   "metadata": {},
   "outputs": [],
   "source": [
    "news = 'WWIII Watch: E.U. Warns China Arming Russia Would Cross ‘Red Line’'\n",
    "evidence = claim_verification.investigate_claim(news, model_type='zero-shot')"
   ]
  },
  {
   "cell_type": "code",
   "execution_count": null,
   "metadata": {},
   "outputs": [],
   "source": []
  }
 ],
 "metadata": {
  "kernelspec": {
   "display_name": "venv-team-tulip",
   "language": "python",
   "name": "venv-team-tulip"
  },
  "language_info": {
   "codemirror_mode": {
    "name": "ipython",
    "version": 3
   },
   "file_extension": ".py",
   "mimetype": "text/x-python",
   "name": "python",
   "nbconvert_exporter": "python",
   "pygments_lexer": "ipython3",
   "version": "3.8.10"
  }
 },
 "nbformat": 4,
 "nbformat_minor": 4
}
