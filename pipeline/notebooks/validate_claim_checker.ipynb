{
 "cells": [
  {
   "cell_type": "code",
   "execution_count": null,
   "metadata": {},
   "outputs": [],
   "source": [
    "%cd ../src\n",
    "%load_ext autoreload\n",
    "%autoreload 2"
   ]
  },
  {
   "cell_type": "code",
   "execution_count": null,
   "metadata": {
    "scrolled": true
   },
   "outputs": [],
   "source": [
    "import os\n",
    "import requests\n",
    "requests.packages.urllib3.disable_warnings() \n",
    "\n",
    "import pandas as pd\n",
    "import numpy as np\n",
    "\n",
    "import credibility"
   ]
  },
  {
   "cell_type": "markdown",
   "metadata": {},
   "source": [
    "# Qualitative evaluation"
   ]
  },
  {
   "cell_type": "markdown",
   "metadata": {},
   "source": [
    "### Brad pitt marrying Britney Spears)"
   ]
  },
  {
   "cell_type": "code",
   "execution_count": null,
   "metadata": {},
   "outputs": [],
   "source": [
    "claim = \"brad pitt is to marry with britney spears\"\n",
    "evidence = credibility.investigate_claim(claim, model_type='zero-shot')\n",
    "evidence['credibility_score']"
   ]
  },
  {
   "cell_type": "code",
   "execution_count": null,
   "metadata": {},
   "outputs": [],
   "source": [
    "claim = \"brad pitt is not married to britney spears\"\n",
    "evidence = credibility.investigate_claim(claim, model_type='zero-shot')\n",
    "evidence['credibility_score']"
   ]
  },
  {
   "cell_type": "markdown",
   "metadata": {},
   "source": [
    "### Joe Biden taking home classified documents"
   ]
  },
  {
   "cell_type": "code",
   "execution_count": null,
   "metadata": {
    "scrolled": true
   },
   "outputs": [],
   "source": [
    "claim = \"Joe Biden took home classified documents after leaving the vice-presidency\"\n",
    "evidence = credibility.investigate_claim(claim, model_type='zero-shot')\n",
    "evidence['credibility_score']"
   ]
  },
  {
   "cell_type": "code",
   "execution_count": null,
   "metadata": {},
   "outputs": [],
   "source": [
    "claim = \"Joe Biden never took home any classified documents after leaving the vice-presidency\"\n",
    "evidence = credibility.investigate_claim(claim, model_type='zero-shot')\n",
    "evidence['credibility_score']"
   ]
  },
  {
   "cell_type": "markdown",
   "metadata": {},
   "source": [
    "### COVID-19 vaccine and (in)fertility"
   ]
  },
  {
   "cell_type": "code",
   "execution_count": null,
   "metadata": {},
   "outputs": [],
   "source": [
    "claim = \"COVID-19 vaccine causes infertility\"\n",
    "evidence = credibility.investigate_claim(claim, model_type='zero-shot')\n",
    "evidence['credibility_score']"
   ]
  },
  {
   "cell_type": "code",
   "execution_count": null,
   "metadata": {},
   "outputs": [],
   "source": [
    "claim = \"COVID-19 vaccine does not cause infertility\"\n",
    "evidence = credibility.investigate_claim(claim, model_type='zero-shot')\n",
    "evidence['credibility_score']"
   ]
  },
  {
   "cell_type": "markdown",
   "metadata": {},
   "source": [
    "### Jan Smit met de US president (fake, but no relevant evidence)"
   ]
  },
  {
   "cell_type": "code",
   "execution_count": null,
   "metadata": {
    "scrolled": true
   },
   "outputs": [],
   "source": [
    "claim = \"jan smit has met with US president in 2012\"\n",
    "evidence = credibility.investigate_claim(claim, model_type='zero-shot')\n",
    "evidence['credibility_score']"
   ]
  },
  {
   "cell_type": "markdown",
   "metadata": {},
   "source": [
    "# Apply model on real tweets"
   ]
  },
  {
   "cell_type": "markdown",
   "metadata": {},
   "source": [
    "### Manual tweet example #1"
   ]
  },
  {
   "cell_type": "code",
   "execution_count": null,
   "metadata": {},
   "outputs": [],
   "source": [
    "tweet = \"@ianbremmer Russia also has troops on Moldova's border with Ukraine.\"\n",
    "evidence = credibility.investigate_claim(tweet, model_type='zero-shot')\n",
    "evidence['credibility_score']"
   ]
  },
  {
   "cell_type": "code",
   "execution_count": null,
   "metadata": {},
   "outputs": [],
   "source": [
    "# Experiment: how does rephrasing as a question impact results?\n",
    "tweet = \"does russia have troops on moldova border?\"\n",
    "evidence = credibility.investigate_claim(tweet, model_type='zero-shot')\n",
    "evidence['credibility_score']"
   ]
  },
  {
   "cell_type": "markdown",
   "metadata": {},
   "source": [
    "### Filter opinions"
   ]
  },
  {
   "cell_type": "code",
   "execution_count": null,
   "metadata": {},
   "outputs": [],
   "source": [
    "tweet = \"Ukraine already is a puppet government. The US started a puppet regime, now the Russians might install their own to secure their border. I feel bad for the civilians caught between them\"\n",
    "evidence = credibility.investigate_claim(tweet, model_type='zero-shot')"
   ]
  },
  {
   "cell_type": "raw",
   "metadata": {},
   "source": [
    "# What if we do check this tweet?\n",
    "tweet = \"Ukraine already is a puppet government. The US started a puppet regime, now the Russians might install their own to secure their border. I feel bad for the civilians caught between them\"\n",
    "evidence = credibility.investigate_claim(tweet, model_type='zero-shot', filter_opinions=False)"
   ]
  },
  {
   "cell_type": "code",
   "execution_count": null,
   "metadata": {},
   "outputs": [],
   "source": [
    "tweet = \"Ukraine in NATO is how we get to WWIII. I can't see how that ever works when Russia controls Crimea. I think Ukraine would have to agree to give up Crimea and possibly other areas and redraw its eastern border before it could happen. https://t.co/sptiD5yxbi,Ukraine in NATO is how we get to WWIII. I can't see how that ever works when Russia controls Crimea. I think Ukraine would have to agree to give up Crimea and possibly other areas and redraw its eastern border before it could happen.\"\n",
    "evidence = credibility.investigate_claim(tweet, model_type='zero-shot')"
   ]
  },
  {
   "cell_type": "markdown",
   "metadata": {},
   "source": [
    "### Questionable news from Russian sources"
   ]
  },
  {
   "cell_type": "markdown",
   "metadata": {},
   "source": [
    "Example of questionable news by Russian press service and media channels. This news was denied by Ukraine. Note: Russian news sources might be filtered from search results in Poland."
   ]
  },
  {
   "cell_type": "code",
   "execution_count": null,
   "metadata": {},
   "outputs": [],
   "source": [
    "tweet = \"The Russian military destroyed two infantry fighting vehicles of the Ukrainian army, which crossed the Russian border from Ukraine for the emergency evacuation of the Ukrainian sabotage group, reports the Southern Military District.\"\n",
    "evidence = credibility.investigate_claim(tweet, model_type='zero-shot')\n",
    "evidence['credibility_score']"
   ]
  },
  {
   "cell_type": "markdown",
   "metadata": {},
   "source": [
    "### Breitbart news article"
   ]
  },
  {
   "cell_type": "code",
   "execution_count": null,
   "metadata": {},
   "outputs": [],
   "source": [
    "news = 'WWIII Watch: E.U. Warns China Arming Russia Would Cross ‘Red Line’'\n",
    "evidence = credibility.investigate_claim(news, model_type='zero-shot')\n",
    "evidence['credibility_score']"
   ]
  },
  {
   "cell_type": "markdown",
   "metadata": {},
   "source": [
    "# Quantitative evaluation"
   ]
  },
  {
   "cell_type": "code",
   "execution_count": null,
   "metadata": {},
   "outputs": [],
   "source": [
    "# https://www.euronews.com/my-europe/2022/08/24/ukraine-war-five-of-the-most-viral-misinformation-posts-and-false-claims-since-the-conflic"
   ]
  },
  {
   "cell_type": "code",
   "execution_count": null,
   "metadata": {},
   "outputs": [],
   "source": [
    "# Keywords to look for fake tweets: 'special military operation', 'nazi'"
   ]
  },
  {
   "cell_type": "code",
   "execution_count": null,
   "metadata": {},
   "outputs": [],
   "source": [
    "test_set_path = '../data/tide_test_data.csv'\n",
    "border_path = '../data/tide/Russian_border_Ukraine.csv'"
   ]
  },
  {
   "cell_type": "code",
   "execution_count": null,
   "metadata": {},
   "outputs": [],
   "source": [
    "border_data = pd.read_csv(border_path)"
   ]
  },
  {
   "cell_type": "code",
   "execution_count": null,
   "metadata": {},
   "outputs": [],
   "source": [
    "# ids for russian border ukraine\n",
    "border_fake = [25598, 8574, 43431, 7007, 18274, 20443, 12586]\n",
    "border_real = [20131, 44508, 41529, 36136, 7478, 9307, 19483]\n",
    "border_opinion = [1611, 43289]"
   ]
  },
  {
   "cell_type": "code",
   "execution_count": null,
   "metadata": {},
   "outputs": [],
   "source": [
    "fake_df = pd.DataFrame(border_data['renderedContent'][border_fake])\n",
    "fake_df['is_true_label'] = 0\n",
    "\n",
    "real_df = pd.DataFrame(border_data['renderedContent'][border_real])\n",
    "real_df['is_true_label'] = 1\n",
    "\n",
    "# Concat all\n",
    "test_df = pd.concat([fake_df, real_df])\n",
    "test_df.reset_index(names='id', inplace=True)\n",
    "test_df.rename({'renderedContent': 'text'}, axis=1, inplace=True)\n",
    "\n",
    "# Save\n",
    "test_df.to_csv(test_set_path, index=False, sep='\\t')"
   ]
  },
  {
   "cell_type": "code",
   "execution_count": null,
   "metadata": {},
   "outputs": [],
   "source": [
    "test_df.set_index('id').sample(frac=1)"
   ]
  },
  {
   "cell_type": "code",
   "execution_count": null,
   "metadata": {
    "scrolled": true
   },
   "outputs": [],
   "source": [
    "# Reload\n",
    "test_df = pd.read_csv(test_set_path, sep='\\t')\n",
    "\n",
    "results_path = '../data/tide_test_results.csv'\n",
    "\n",
    "try:\n",
    "    results_df = pd.read_csv(results_path, sep='\\t')\n",
    "except:\n",
    "    results_df = pd.DataFrame()\n",
    "\n",
    "if len(results_df) > 0:\n",
    "    prev_ids = results_df.id.values\n",
    "else:\n",
    "    prev_ids = []\n",
    "    \n",
    "# Shuffled test\n",
    "for i, (idx, row) in enumerate(test_df.sample(frac=1).iterrows()):\n",
    "    if row.id not in prev_ids:\n",
    "        print(f'Row {i+1} out of {len(test_df)}')\n",
    "        \n",
    "        txt = row.text\n",
    "        cleaned_txt = credibility.clean_input(txt)\n",
    "        print(f'Input: {cleaned_txt}')\n",
    "        \n",
    "        result = credibility.investigate_claim(txt, filter_opinions=False, datasource='google')\n",
    "        print('Num evidence: ', len(result['credibility_evidences']))\n",
    "\n",
    "        row = pd.DataFrame(row).T    \n",
    "        row['num_evidence'] = len(result['credibility_evidences'])\n",
    "        row['credibility_score'] = result['credibility_score']\n",
    "        row['is_true_pred'] = int(result['credibility_score'] > 0.5)\n",
    "        print('True label: ', row.is_true_label.values[0])\n",
    "        print('Credibility score: ', result['credibility_score'])\n",
    "        \n",
    "        results_df = results_df.append(row)\n",
    "        results_df.drop_duplicates(subset='id', inplace=True, keep='last')\n",
    "        results_df.to_csv(results_path, mode='w', index=False, sep='\\t', header=True)\n",
    "        \n",
    "        # Compute current score\n",
    "        y_true = results_df.is_true_label.values[:i+1]\n",
    "        y_pred = results_df.is_true_pred.values[:i+1]\n",
    "        acc = np.sum(np.equal(y_true, y_pred)) / len(y_true)\n",
    "        print(f'Computed accuracy after iteration {i}: {acc}\\n')\n",
    "    else:\n",
    "        print('Skipping id ', row.id)"
   ]
  },
  {
   "cell_type": "code",
   "execution_count": null,
   "metadata": {},
   "outputs": [],
   "source": []
  }
 ],
 "metadata": {
  "kernelspec": {
   "display_name": "venv-team-tulip",
   "language": "python",
   "name": "venv-team-tulip"
  },
  "language_info": {
   "codemirror_mode": {
    "name": "ipython",
    "version": 3
   },
   "file_extension": ".py",
   "mimetype": "text/x-python",
   "name": "python",
   "nbconvert_exporter": "python",
   "pygments_lexer": "ipython3",
   "version": "3.8.10"
  }
 },
 "nbformat": 4,
 "nbformat_minor": 4
}
