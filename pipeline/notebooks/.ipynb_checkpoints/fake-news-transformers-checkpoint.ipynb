{
 "cells": [
  {
   "cell_type": "markdown",
   "metadata": {},
   "source": [
    "Source: https://www.kaggle.com/code/abrafey/fake-news-transformers"
   ]
  },
  {
   "cell_type": "markdown",
   "metadata": {
    "papermill": {
     "duration": 0.010694,
     "end_time": "2022-10-19T19:10:30.254454",
     "exception": false,
     "start_time": "2022-10-19T19:10:30.243760",
     "status": "completed"
    },
    "tags": []
   },
   "source": [
    "# **Step 1: Importing the Relevant Libraries**"
   ]
  },
  {
   "cell_type": "raw",
   "metadata": {
    "execution": {
     "iopub.execute_input": "2022-10-19T19:10:30.279423Z",
     "iopub.status.busy": "2022-10-19T19:10:30.278547Z",
     "iopub.status.idle": "2022-10-19T19:10:41.891652Z",
     "shell.execute_reply": "2022-10-19T19:10:41.889865Z"
    },
    "id": "y7vZEmswSxZT",
    "outputId": "1a29eead-6594-47ed-e361-7dc5dd73d42c",
    "papermill": {
     "duration": 11.630468,
     "end_time": "2022-10-19T19:10:41.896353",
     "exception": false,
     "start_time": "2022-10-19T19:10:30.265885",
     "status": "completed"
    },
    "tags": []
   },
   "source": [
    "!pip install transformers"
   ]
  },
  {
   "cell_type": "code",
   "execution_count": 1,
   "metadata": {
    "execution": {
     "iopub.execute_input": "2022-10-19T19:10:41.954959Z",
     "iopub.status.busy": "2022-10-19T19:10:41.952421Z",
     "iopub.status.idle": "2022-10-19T19:10:55.607717Z",
     "shell.execute_reply": "2022-10-19T19:10:55.606393Z"
    },
    "id": "-7ZeTDPOZi1w",
    "outputId": "7e58acc9-eef9-449b-e1ed-cff8624d2945",
    "papermill": {
     "duration": 13.688056,
     "end_time": "2022-10-19T19:10:55.610681",
     "exception": false,
     "start_time": "2022-10-19T19:10:41.922625",
     "status": "completed"
    },
    "tags": []
   },
   "outputs": [
    {
     "name": "stderr",
     "output_type": "stream",
     "text": [
      "[nltk_data] Downloading package stopwords to\n",
      "[nltk_data]     C:\\Users\\rik\\AppData\\Roaming\\nltk_data...\n",
      "[nltk_data]   Package stopwords is already up-to-date!\n",
      "[nltk_data] Downloading package punkt to\n",
      "[nltk_data]     C:\\Users\\rik\\AppData\\Roaming\\nltk_data...\n",
      "[nltk_data]   Package punkt is already up-to-date!\n",
      "[nltk_data] Downloading package averaged_perceptron_tagger to\n",
      "[nltk_data]     C:\\Users\\rik\\AppData\\Roaming\\nltk_data...\n",
      "[nltk_data]   Package averaged_perceptron_tagger is already up-to-\n",
      "[nltk_data]       date!\n",
      "[nltk_data] Downloading package wordnet to\n",
      "[nltk_data]     C:\\Users\\rik\\AppData\\Roaming\\nltk_data...\n",
      "[nltk_data]   Package wordnet is already up-to-date!\n",
      "C:\\Git\\Tulip_troops_API\\venv-tulip-troops\\lib\\site-packages\\tqdm\\auto.py:22: TqdmWarning: IProgress not found. Please update jupyter and ipywidgets. See https://ipywidgets.readthedocs.io/en/stable/user_install.html\n",
      "  from .autonotebook import tqdm as notebook_tqdm\n"
     ]
    }
   ],
   "source": [
    "import pandas as pd\n",
    "from sklearn.model_selection import train_test_split\n",
    "import seaborn as sns\n",
    "import matplotlib.pyplot as plt\n",
    "import re\n",
    "import os\n",
    "\n",
    "import nltk\n",
    "nltk.download('stopwords')\n",
    "nltk.download('punkt')\n",
    "nltk.download('averaged_perceptron_tagger')\n",
    "nltk.download('wordnet')\n",
    "from nltk.corpus import stopwords, wordnet\n",
    "from nltk.stem import WordNetLemmatizer\n",
    "from nltk.tokenize import word_tokenize\n",
    "from nltk.probability import FreqDist\n",
    "\n",
    "from sklearn.feature_extraction.text import CountVectorizer, TfidfVectorizer\n",
    "from sklearn.decomposition import LatentDirichletAllocation, NMF\n",
    "from sklearn.metrics import f1_score, accuracy_score, confusion_matrix, precision_score, recall_score\n",
    "\n",
    "from wordcloud import WordCloud, STOPWORDS\n",
    "from collections import Counter, defaultdict\n",
    "from PIL import Image\n",
    "import spacy\n",
    "# import en_core_web_sm\n",
    "\n",
    "import random\n",
    "import warnings\n",
    "import time\n",
    "import datetime\n",
    "\n",
    "import pandas as pd\n",
    "import random, time\n",
    "from babel.dates import format_date, format_datetime, format_time\n",
    "import numpy as np\n",
    "import seaborn as sns\n",
    "import matplotlib.pyplot as plt\n",
    "import itertools\n",
    "\n",
    "from sklearn.linear_model import LogisticRegression\n",
    "from sklearn.model_selection import train_test_split, GridSearchCV\n",
    "from sklearn.pipeline import Pipeline\n",
    "from sklearn.feature_extraction.text import TfidfVectorizer\n",
    "from sklearn.utils.class_weight import compute_class_weight\n",
    "from sklearn.metrics import classification_report, accuracy_score\n",
    "\n",
    "\n",
    "import torch\n",
    "from transformers import BertTokenizer, BertForSequenceClassification, AdamW, BertConfig, get_linear_schedule_with_warmup, \\\n",
    "LongformerTokenizerFast, LongformerForSequenceClassification, TextClassificationPipeline\n",
    "from accelerate import Accelerator\n",
    "from torch.utils.data import TensorDataset, random_split, DataLoader, RandomSampler, SequentialSampler"
   ]
  },
  {
   "cell_type": "markdown",
   "metadata": {
    "id": "R8pkm_ow4AMQ",
    "papermill": {
     "duration": 0.01098,
     "end_time": "2022-10-19T19:10:55.633000",
     "exception": false,
     "start_time": "2022-10-19T19:10:55.622020",
     "status": "completed"
    },
    "tags": []
   },
   "source": [
    "# **Step 2: Configurations**"
   ]
  },
  {
   "cell_type": "code",
   "execution_count": 2,
   "metadata": {
    "execution": {
     "iopub.execute_input": "2022-10-19T19:10:55.657564Z",
     "iopub.status.busy": "2022-10-19T19:10:55.656453Z",
     "iopub.status.idle": "2022-10-19T19:10:55.666461Z",
     "shell.execute_reply": "2022-10-19T19:10:55.665498Z"
    },
    "id": "30OUk96xSWxS",
    "papermill": {
     "duration": 0.025032,
     "end_time": "2022-10-19T19:10:55.668784",
     "exception": false,
     "start_time": "2022-10-19T19:10:55.643752",
     "status": "completed"
    },
    "tags": []
   },
   "outputs": [],
   "source": [
    "#Setting seeds for consistent results.\n",
    "seed_val = 42\n",
    "random.seed(seed_val)\n",
    "np.random.seed(seed_val)\n",
    "torch.manual_seed(seed_val)\n",
    "torch.cuda.manual_seed_all(seed_val)"
   ]
  },
  {
   "cell_type": "code",
   "execution_count": 3,
   "metadata": {
    "execution": {
     "iopub.execute_input": "2022-10-19T19:10:55.693614Z",
     "iopub.status.busy": "2022-10-19T19:10:55.693316Z",
     "iopub.status.idle": "2022-10-19T19:10:55.705119Z",
     "shell.execute_reply": "2022-10-19T19:10:55.704220Z"
    },
    "id": "Y1F1PJnpAC0K",
    "outputId": "89c018de-ac4c-4542-c65f-dc2fe427ff2c",
    "papermill": {
     "duration": 0.026277,
     "end_time": "2022-10-19T19:10:55.707302",
     "exception": false,
     "start_time": "2022-10-19T19:10:55.681025",
     "status": "completed"
    },
    "tags": []
   },
   "outputs": [
    {
     "name": "stdout",
     "output_type": "stream",
     "text": [
      "There are %d GPU(s) available. 1\n",
      "We will use the GPU: NVIDIA GeForce GTX 1080\n"
     ]
    }
   ],
   "source": [
    "if torch.cuda.is_available():    \n",
    "    # Tell PyTorch to use the GPU.    \n",
    "    device = torch.device(\"cuda\")\n",
    "    print('There are %d GPU(s) available. {}'.format(torch.cuda.device_count()))\n",
    "    print('We will use the GPU: {}'.format(torch.cuda.get_device_name(0)))\n",
    "\n",
    "# If we dont have GPU but a CPU, training will take place on CPU instead\n",
    "else:\n",
    "    print('No GPU available, using the CPU instead.')\n",
    "    device = torch.device(\"cpu\")"
   ]
  },
  {
   "cell_type": "markdown",
   "metadata": {
    "id": "27uMh6XVzMw1",
    "papermill": {
     "duration": 0.011653,
     "end_time": "2022-10-19T19:10:55.730448",
     "exception": false,
     "start_time": "2022-10-19T19:10:55.718795",
     "status": "completed"
    },
    "tags": []
   },
   "source": [
    "# **Step 3: Data Inspection**"
   ]
  },
  {
   "cell_type": "code",
   "execution_count": 4,
   "metadata": {
    "execution": {
     "iopub.execute_input": "2022-10-19T19:10:55.753543Z",
     "iopub.status.busy": "2022-10-19T19:10:55.753237Z",
     "iopub.status.idle": "2022-10-19T19:10:58.614627Z",
     "shell.execute_reply": "2022-10-19T19:10:58.613674Z"
    },
    "id": "x1tYVinv4MmS",
    "papermill": {
     "duration": 2.876341,
     "end_time": "2022-10-19T19:10:58.617557",
     "exception": false,
     "start_time": "2022-10-19T19:10:55.741216",
     "status": "completed"
    },
    "tags": []
   },
   "outputs": [],
   "source": [
    "train = pd.read_csv('../data/kaggle/train.csv')\n",
    "test = pd.read_csv('../data/kaggle/test.csv')"
   ]
  },
  {
   "cell_type": "code",
   "execution_count": 5,
   "metadata": {
    "execution": {
     "iopub.execute_input": "2022-10-19T19:10:58.642577Z",
     "iopub.status.busy": "2022-10-19T19:10:58.642253Z",
     "iopub.status.idle": "2022-10-19T19:10:58.665657Z",
     "shell.execute_reply": "2022-10-19T19:10:58.664553Z"
    },
    "id": "fcoePr0qjEA4",
    "outputId": "257d845c-ee35-4777-b12f-62e4a70dd2e9",
    "papermill": {
     "duration": 0.038872,
     "end_time": "2022-10-19T19:10:58.668443",
     "exception": false,
     "start_time": "2022-10-19T19:10:58.629571",
     "status": "completed"
    },
    "tags": []
   },
   "outputs": [
    {
     "data": {
      "text/html": [
       "<div>\n",
       "<style scoped>\n",
       "    .dataframe tbody tr th:only-of-type {\n",
       "        vertical-align: middle;\n",
       "    }\n",
       "\n",
       "    .dataframe tbody tr th {\n",
       "        vertical-align: top;\n",
       "    }\n",
       "\n",
       "    .dataframe thead th {\n",
       "        text-align: right;\n",
       "    }\n",
       "</style>\n",
       "<table border=\"1\" class=\"dataframe\">\n",
       "  <thead>\n",
       "    <tr style=\"text-align: right;\">\n",
       "      <th></th>\n",
       "      <th>id</th>\n",
       "      <th>title</th>\n",
       "      <th>author</th>\n",
       "      <th>text</th>\n",
       "      <th>label</th>\n",
       "    </tr>\n",
       "  </thead>\n",
       "  <tbody>\n",
       "    <tr>\n",
       "      <th>0</th>\n",
       "      <td>0</td>\n",
       "      <td>House Dem Aide: We Didn’t Even See Comey’s Let...</td>\n",
       "      <td>Darrell Lucus</td>\n",
       "      <td>House Dem Aide: We Didn’t Even See Comey’s Let...</td>\n",
       "      <td>1</td>\n",
       "    </tr>\n",
       "    <tr>\n",
       "      <th>1</th>\n",
       "      <td>1</td>\n",
       "      <td>FLYNN: Hillary Clinton, Big Woman on Campus - ...</td>\n",
       "      <td>Daniel J. Flynn</td>\n",
       "      <td>Ever get the feeling your life circles the rou...</td>\n",
       "      <td>0</td>\n",
       "    </tr>\n",
       "    <tr>\n",
       "      <th>2</th>\n",
       "      <td>2</td>\n",
       "      <td>Why the Truth Might Get You Fired</td>\n",
       "      <td>Consortiumnews.com</td>\n",
       "      <td>Why the Truth Might Get You Fired October 29, ...</td>\n",
       "      <td>1</td>\n",
       "    </tr>\n",
       "    <tr>\n",
       "      <th>3</th>\n",
       "      <td>3</td>\n",
       "      <td>15 Civilians Killed In Single US Airstrike Hav...</td>\n",
       "      <td>Jessica Purkiss</td>\n",
       "      <td>Videos 15 Civilians Killed In Single US Airstr...</td>\n",
       "      <td>1</td>\n",
       "    </tr>\n",
       "    <tr>\n",
       "      <th>4</th>\n",
       "      <td>4</td>\n",
       "      <td>Iranian woman jailed for fictional unpublished...</td>\n",
       "      <td>Howard Portnoy</td>\n",
       "      <td>Print \\nAn Iranian woman has been sentenced to...</td>\n",
       "      <td>1</td>\n",
       "    </tr>\n",
       "  </tbody>\n",
       "</table>\n",
       "</div>"
      ],
      "text/plain": [
       "   id                                              title              author  \\\n",
       "0   0  House Dem Aide: We Didn’t Even See Comey’s Let...       Darrell Lucus   \n",
       "1   1  FLYNN: Hillary Clinton, Big Woman on Campus - ...     Daniel J. Flynn   \n",
       "2   2                  Why the Truth Might Get You Fired  Consortiumnews.com   \n",
       "3   3  15 Civilians Killed In Single US Airstrike Hav...     Jessica Purkiss   \n",
       "4   4  Iranian woman jailed for fictional unpublished...      Howard Portnoy   \n",
       "\n",
       "                                                text  label  \n",
       "0  House Dem Aide: We Didn’t Even See Comey’s Let...      1  \n",
       "1  Ever get the feeling your life circles the rou...      0  \n",
       "2  Why the Truth Might Get You Fired October 29, ...      1  \n",
       "3  Videos 15 Civilians Killed In Single US Airstr...      1  \n",
       "4  Print \\nAn Iranian woman has been sentenced to...      1  "
      ]
     },
     "execution_count": 5,
     "metadata": {},
     "output_type": "execute_result"
    }
   ],
   "source": [
    "train.head()"
   ]
  },
  {
   "cell_type": "code",
   "execution_count": 6,
   "metadata": {
    "execution": {
     "iopub.execute_input": "2022-10-19T19:10:58.692425Z",
     "iopub.status.busy": "2022-10-19T19:10:58.692148Z",
     "iopub.status.idle": "2022-10-19T19:10:58.725075Z",
     "shell.execute_reply": "2022-10-19T19:10:58.724122Z"
    },
    "id": "-FzGL5X1zuGe",
    "outputId": "8c10f1e4-afe2-4b4d-df58-fc0d7370c883",
    "papermill": {
     "duration": 0.047685,
     "end_time": "2022-10-19T19:10:58.727418",
     "exception": false,
     "start_time": "2022-10-19T19:10:58.679733",
     "status": "completed"
    },
    "tags": []
   },
   "outputs": [
    {
     "name": "stdout",
     "output_type": "stream",
     "text": [
      "<class 'pandas.core.frame.DataFrame'>\n",
      "RangeIndex: 20800 entries, 0 to 20799\n",
      "Data columns (total 5 columns):\n",
      " #   Column  Non-Null Count  Dtype \n",
      "---  ------  --------------  ----- \n",
      " 0   id      20800 non-null  int64 \n",
      " 1   title   20242 non-null  object\n",
      " 2   author  18843 non-null  object\n",
      " 3   text    20761 non-null  object\n",
      " 4   label   20800 non-null  int64 \n",
      "dtypes: int64(2), object(3)\n",
      "memory usage: 812.6+ KB\n"
     ]
    }
   ],
   "source": [
    "train.info()"
   ]
  },
  {
   "cell_type": "code",
   "execution_count": 7,
   "metadata": {
    "execution": {
     "iopub.execute_input": "2022-10-19T19:10:58.752138Z",
     "iopub.status.busy": "2022-10-19T19:10:58.751808Z",
     "iopub.status.idle": "2022-10-19T19:10:58.758302Z",
     "shell.execute_reply": "2022-10-19T19:10:58.757269Z"
    },
    "id": "lMQfkzIVjL4V",
    "outputId": "727fdbcb-285a-4c9e-d72e-9d6562a4567d",
    "papermill": {
     "duration": 0.021253,
     "end_time": "2022-10-19T19:10:58.760395",
     "exception": false,
     "start_time": "2022-10-19T19:10:58.739142",
     "status": "completed"
    },
    "tags": []
   },
   "outputs": [
    {
     "data": {
      "text/plain": [
       "((20800, 5), (5200, 4))"
      ]
     },
     "execution_count": 7,
     "metadata": {},
     "output_type": "execute_result"
    }
   ],
   "source": [
    "train.shape,test.shape"
   ]
  },
  {
   "cell_type": "code",
   "execution_count": 8,
   "metadata": {
    "execution": {
     "iopub.execute_input": "2022-10-19T19:10:58.785995Z",
     "iopub.status.busy": "2022-10-19T19:10:58.785075Z",
     "iopub.status.idle": "2022-10-19T19:10:58.793095Z",
     "shell.execute_reply": "2022-10-19T19:10:58.792038Z"
    },
    "id": "P-jqAKf7jTdY",
    "outputId": "6b6007ce-a84b-453d-c50c-53bba51d6b52",
    "papermill": {
     "duration": 0.022919,
     "end_time": "2022-10-19T19:10:58.795354",
     "exception": false,
     "start_time": "2022-10-19T19:10:58.772435",
     "status": "completed"
    },
    "tags": []
   },
   "outputs": [
    {
     "data": {
      "text/plain": [
       "1    10413\n",
       "0    10387\n",
       "Name: label, dtype: int64"
      ]
     },
     "execution_count": 8,
     "metadata": {},
     "output_type": "execute_result"
    }
   ],
   "source": [
    "train.label.value_counts()"
   ]
  },
  {
   "cell_type": "code",
   "execution_count": 9,
   "metadata": {
    "execution": {
     "iopub.execute_input": "2022-10-19T19:10:58.820924Z",
     "iopub.status.busy": "2022-10-19T19:10:58.820592Z",
     "iopub.status.idle": "2022-10-19T19:10:59.059944Z",
     "shell.execute_reply": "2022-10-19T19:10:59.058976Z"
    },
    "id": "QJTFZ-NH1YEJ",
    "outputId": "3fb6fc0f-62ca-4f09-a016-b37cd07d65d4",
    "papermill": {
     "duration": 0.254651,
     "end_time": "2022-10-19T19:10:59.062226",
     "exception": false,
     "start_time": "2022-10-19T19:10:58.807575",
     "status": "completed"
    },
    "tags": []
   },
   "outputs": [
    {
     "data": {
      "text/plain": [
       "Text(0.5, 1.0, 'Target Count')"
      ]
     },
     "execution_count": 9,
     "metadata": {},
     "output_type": "execute_result"
    },
    {
     "data": {
      "image/png": "[encoded data removed]",
      "text/plain": [
       "<Figure size 640x480 with 1 Axes>"
      ]
     },
     "metadata": {},
     "output_type": "display_data"
    }
   ],
   "source": [
    "label = train[\"label\"].value_counts()\n",
    "sns.barplot(x=label.index, y=label)\n",
    "plt.title('Target Count', fontsize=14)"
   ]
  },
  {
   "cell_type": "code",
   "execution_count": 10,
   "metadata": {
    "execution": {
     "iopub.execute_input": "2022-10-19T19:10:59.113840Z",
     "iopub.status.busy": "2022-10-19T19:10:59.112349Z",
     "iopub.status.idle": "2022-10-19T19:10:59.129244Z",
     "shell.execute_reply": "2022-10-19T19:10:59.128285Z"
    },
    "id": "_f2k_t7CvNaZ",
    "outputId": "603e1a08-5b29-478d-b3a4-ccb5f37d0701",
    "papermill": {
     "duration": 0.032122,
     "end_time": "2022-10-19T19:10:59.131541",
     "exception": false,
     "start_time": "2022-10-19T19:10:59.099419",
     "status": "completed"
    },
    "tags": []
   },
   "outputs": [
    {
     "data": {
      "text/plain": [
       "id        0.000000\n",
       "title     2.682692\n",
       "author    9.408654\n",
       "text      0.187500\n",
       "label     0.000000\n",
       "dtype: float64"
      ]
     },
     "execution_count": 10,
     "metadata": {},
     "output_type": "execute_result"
    }
   ],
   "source": [
    "#ratio of null values\n",
    "train.isnull().sum()/train.shape[0] *100"
   ]
  },
  {
   "cell_type": "code",
   "execution_count": 11,
   "metadata": {
    "execution": {
     "iopub.execute_input": "2022-10-19T19:10:59.157795Z",
     "iopub.status.busy": "2022-10-19T19:10:59.156973Z",
     "iopub.status.idle": "2022-10-19T19:10:59.463945Z",
     "shell.execute_reply": "2022-10-19T19:10:59.463028Z"
    },
    "id": "D3msaYw6AgqL",
    "outputId": "16340010-dbd0-4178-e254-355d1bfbf991",
    "papermill": {
     "duration": 0.322264,
     "end_time": "2022-10-19T19:10:59.466255",
     "exception": false,
     "start_time": "2022-10-19T19:10:59.143991",
     "status": "completed"
    },
    "tags": []
   },
   "outputs": [
    {
     "data": {
      "text/plain": [
       "<AxesSubplot: >"
      ]
     },
     "execution_count": 11,
     "metadata": {},
     "output_type": "execute_result"
    },
    {
     "data": {
      "image/png": "[encoded data removed]",
      "text/plain": [
       "<Figure size 640x480 with 1 Axes>"
      ]
     },
     "metadata": {},
     "output_type": "display_data"
    }
   ],
   "source": [
    "seq_len_premise = [len(str(i).split()) for i in train['title']]\n",
    "\n",
    "pd.Series(seq_len_premise).hist(bins = 25)"
   ]
  },
  {
   "cell_type": "code",
   "execution_count": 12,
   "metadata": {
    "execution": {
     "iopub.execute_input": "2022-10-19T19:10:59.493641Z",
     "iopub.status.busy": "2022-10-19T19:10:59.493322Z",
     "iopub.status.idle": "2022-10-19T19:11:00.735126Z",
     "shell.execute_reply": "2022-10-19T19:11:00.734005Z"
    },
    "id": "J8N8LqumAsqZ",
    "outputId": "a2a8806e-be3d-48cc-c642-0f625bbc6b8b",
    "papermill": {
     "duration": 1.257874,
     "end_time": "2022-10-19T19:11:00.737302",
     "exception": false,
     "start_time": "2022-10-19T19:10:59.479428",
     "status": "completed"
    },
    "tags": []
   },
   "outputs": [
    {
     "data": {
      "text/plain": [
       "<AxesSubplot: >"
      ]
     },
     "execution_count": 12,
     "metadata": {},
     "output_type": "execute_result"
    },
    {
     "data": {
      "image/png": "[encoded data removed]",
      "text/plain": [
       "<Figure size 640x480 with 1 Axes>"
      ]
     },
     "metadata": {},
     "output_type": "display_data"
    }
   ],
   "source": [
    "seq_len_premise = [len(str(i).split()) for i in train['text']]\n",
    "pd.Series(seq_len_premise).hist(bins = 25)"
   ]
  },
  {
   "cell_type": "markdown",
   "metadata": {
    "id": "mBoVv0uJwhEy",
    "papermill": {
     "duration": 0.014,
     "end_time": "2022-10-19T19:11:00.765127",
     "exception": false,
     "start_time": "2022-10-19T19:11:00.751127",
     "status": "completed"
    },
    "tags": []
   },
   "source": [
    "# **Step 4: Data Cleaning**"
   ]
  },
  {
   "cell_type": "code",
   "execution_count": 13,
   "metadata": {
    "execution": {
     "iopub.execute_input": "2022-10-19T19:11:00.793613Z",
     "iopub.status.busy": "2022-10-19T19:11:00.792701Z",
     "iopub.status.idle": "2022-10-19T19:11:00.821011Z",
     "shell.execute_reply": "2022-10-19T19:11:00.819307Z"
    },
    "id": "S2bwgfzEF2K3",
    "outputId": "dc0b2f63-1aa2-44ce-cb2b-953b348b8a58",
    "papermill": {
     "duration": 0.045421,
     "end_time": "2022-10-19T19:11:00.823891",
     "exception": false,
     "start_time": "2022-10-19T19:11:00.778470",
     "status": "completed"
    },
    "tags": []
   },
   "outputs": [
    {
     "name": "stdout",
     "output_type": "stream",
     "text": [
      "id           0\n",
      "title      558\n",
      "author    1957\n",
      "text        39\n",
      "label        0\n",
      "dtype: int64 \n",
      "\n",
      "id           0\n",
      "title      558\n",
      "author    1957\n",
      "text        39\n",
      "label        0\n",
      "dtype: int64\n"
     ]
    }
   ],
   "source": [
    "print(train.isna().sum(),'\\n')\n",
    "print(train.dropna(how='all').isna().sum())"
   ]
  },
  {
   "cell_type": "code",
   "execution_count": 14,
   "metadata": {
    "execution": {
     "iopub.execute_input": "2022-10-19T19:11:00.854343Z",
     "iopub.status.busy": "2022-10-19T19:11:00.853371Z",
     "iopub.status.idle": "2022-10-19T19:11:00.860365Z",
     "shell.execute_reply": "2022-10-19T19:11:00.859318Z"
    },
    "id": "B5oafCf9GUJm",
    "outputId": "23971fd6-fa5d-4649-a6b9-9c084cc8710a",
    "papermill": {
     "duration": 0.02362,
     "end_time": "2022-10-19T19:11:00.862562",
     "exception": false,
     "start_time": "2022-10-19T19:11:00.838942",
     "status": "completed"
    },
    "tags": []
   },
   "outputs": [
    {
     "data": {
      "text/plain": [
       "(20800, 5)"
      ]
     },
     "execution_count": 14,
     "metadata": {},
     "output_type": "execute_result"
    }
   ],
   "source": [
    "train.shape"
   ]
  },
  {
   "cell_type": "code",
   "execution_count": 15,
   "metadata": {
    "execution": {
     "iopub.execute_input": "2022-10-19T19:11:00.891372Z",
     "iopub.status.busy": "2022-10-19T19:11:00.890435Z",
     "iopub.status.idle": "2022-10-19T19:11:00.904448Z",
     "shell.execute_reply": "2022-10-19T19:11:00.903497Z"
    },
    "id": "WM5xN0S3G1a5",
    "papermill": {
     "duration": 0.030388,
     "end_time": "2022-10-19T19:11:00.906615",
     "exception": false,
     "start_time": "2022-10-19T19:11:00.876227",
     "status": "completed"
    },
    "tags": []
   },
   "outputs": [],
   "source": [
    "train = train.fillna('')\n",
    "test = test.fillna('')"
   ]
  },
  {
   "cell_type": "code",
   "execution_count": 16,
   "metadata": {
    "execution": {
     "iopub.execute_input": "2022-10-19T19:11:00.936763Z",
     "iopub.status.busy": "2022-10-19T19:11:00.935184Z",
     "iopub.status.idle": "2022-10-19T19:11:00.942468Z",
     "shell.execute_reply": "2022-10-19T19:11:00.941533Z"
    },
    "id": "j1L2FHBiA-OT",
    "papermill": {
     "duration": 0.024159,
     "end_time": "2022-10-19T19:11:00.944585",
     "exception": false,
     "start_time": "2022-10-19T19:11:00.920426",
     "status": "completed"
    },
    "tags": []
   },
   "outputs": [],
   "source": [
    "def text_cleaning(text):\n",
    "    text = str(text)\n",
    "    text = re.sub(\"[^a-zA-Z]\", \" \", text) # removing punctuation\n",
    "    # remove special characters from text column\n",
    "    text = re.sub('[#,@,&]', '',text)\n",
    "    # Remove digits\n",
    "    text = re.sub('\\d*','', text)\n",
    "    #Remove www\n",
    "    text = re.sub('w{3}','', text)\n",
    "    # remove urls\n",
    "    text = re.sub(\"http\\S+\", \"\", text)\n",
    "    # remove multiple spaces with single space\n",
    "    text = re.sub('\\s+', ' ', text)\n",
    "    #remove all single characters\n",
    "    text = re.sub(r'\\s+[a-zA-Z]\\s+', '', text)\n",
    "\n",
    "    return text"
   ]
  },
  {
   "cell_type": "code",
   "execution_count": 17,
   "metadata": {
    "execution": {
     "iopub.execute_input": "2022-10-19T19:11:00.973262Z",
     "iopub.status.busy": "2022-10-19T19:11:00.972357Z",
     "iopub.status.idle": "2022-10-19T19:11:43.584118Z",
     "shell.execute_reply": "2022-10-19T19:11:43.582825Z"
    },
    "id": "FjU4245yGTep",
    "papermill": {
     "duration": 42.629493,
     "end_time": "2022-10-19T19:11:43.587339",
     "exception": false,
     "start_time": "2022-10-19T19:11:00.957846",
     "status": "completed"
    },
    "tags": []
   },
   "outputs": [],
   "source": [
    "train['tokenized_text'] = train['text'].apply(text_cleaning)\n",
    "train['tokenized_title'] = train['title'].apply(text_cleaning)\n",
    "\n",
    "test['tokenized_text'] = test['text'].apply(text_cleaning)\n",
    "test['tokenized_title'] = test['title'].apply(text_cleaning)"
   ]
  },
  {
   "cell_type": "code",
   "execution_count": 18,
   "metadata": {
    "execution": {
     "iopub.execute_input": "2022-10-19T19:11:43.618881Z",
     "iopub.status.busy": "2022-10-19T19:11:43.618513Z",
     "iopub.status.idle": "2022-10-19T19:12:23.354160Z",
     "shell.execute_reply": "2022-10-19T19:12:23.353109Z"
    },
    "id": "GH6v4hhZBIIF",
    "papermill": {
     "duration": 39.754318,
     "end_time": "2022-10-19T19:12:23.356693",
     "exception": false,
     "start_time": "2022-10-19T19:11:43.602375",
     "status": "completed"
    },
    "tags": []
   },
   "outputs": [],
   "source": [
    "stop_words = stopwords.words('english')\n",
    "\n",
    "train['tokenized_text'] = train['tokenized_text'].apply(lambda x: ' '.join([word for word in x.split() if word not in (stop_words)]))\n",
    "test['tokenized_text'] = test['tokenized_text'].apply(lambda x: ' '.join([word for word in x.split() if word not in (stop_words)]))\n",
    "\n",
    "train['tokenized_title'] = train['tokenized_title'].apply(lambda x: ' '.join([word for word in x.split() if word not in (stop_words)]))\n",
    "test['tokenized_title'] = test['tokenized_title'].apply(lambda x: ' '.join([word for word in x.split() if word not in (stop_words)]))"
   ]
  },
  {
   "cell_type": "markdown",
   "metadata": {},
   "source": [
    "## Save / load interim data"
   ]
  },
  {
   "cell_type": "code",
   "execution_count": 19,
   "metadata": {},
   "outputs": [],
   "source": [
    "# Save interim data\n",
    "train.to_csv('../data/kaggle/interim/train_cleaned.csv', index=False)\n",
    "test.to_csv('../data/kaggle/interim/test_cleaned.csv', index=False)"
   ]
  },
  {
   "cell_type": "code",
   "execution_count": 44,
   "metadata": {},
   "outputs": [],
   "source": [
    "# Load interim data\n",
    "train = pd.read_csv('../data/kaggle/interim/train_cleaned.csv').fillna('')\n",
    "test = pd.read_csv('../data/kaggle/interim/test_cleaned.csv').fillna('')"
   ]
  },
  {
   "cell_type": "markdown",
   "metadata": {},
   "source": [
    "## Finalize train/test inputs"
   ]
  },
  {
   "cell_type": "code",
   "execution_count": 45,
   "metadata": {
    "execution": {
     "iopub.execute_input": "2022-10-19T19:12:23.421450Z",
     "iopub.status.busy": "2022-10-19T19:12:23.421132Z",
     "iopub.status.idle": "2022-10-19T19:12:23.433478Z",
     "shell.execute_reply": "2022-10-19T19:12:23.432382Z"
    },
    "id": "L5dwm1H6UF1F",
    "papermill": {
     "duration": 0.028773,
     "end_time": "2022-10-19T19:12:23.435555",
     "exception": false,
     "start_time": "2022-10-19T19:12:23.406782",
     "status": "completed"
    },
    "tags": []
   },
   "outputs": [],
   "source": [
    "max_length=100\n",
    "\n",
    "# labels\n",
    "labels = train['label'].values\n",
    "\n",
    "#case\n",
    "train_data = (train['tokenized_title'] + ' ' + train['author'] + ' ' + train['tokenized_text']).values\n",
    "test_data = (test['tokenized_title'] + ' ' + test['author'] + ' ' + test['tokenized_text']).values\n",
    "\n",
    "# Full input for longformer\n",
    "# train_data = (train['title'] + ' ' + train['author'] + ' ' + train['tokenized']).values\n",
    "# test_data = (test['title'] + ' ' + test['author'] + ' ' + test['tokenized']).values"
   ]
  },
  {
   "cell_type": "code",
   "execution_count": 47,
   "metadata": {},
   "outputs": [],
   "source": [
    "# To speed up tokenization + mapping phase, already truncate the text based on max_length * 1.5 (multiplied for some leeway)\n",
    "train_data = np.array([' '.join(txt.split(' ')[:int(max_length*1.5)]) for txt in train_data])\n",
    "test_data = np.array([' '.join(txt.split(' ')[:int(max_length*1.5)]) for txt in test_data])"
   ]
  },
  {
   "cell_type": "markdown",
   "metadata": {
    "id": "IKopmeW3SnA3",
    "papermill": {
     "duration": 0.012949,
     "end_time": "2022-10-19T19:12:23.461791",
     "exception": false,
     "start_time": "2022-10-19T19:12:23.448842",
     "status": "completed"
    },
    "tags": []
   },
   "source": [
    "# **Step 4: Initializing the model**"
   ]
  },
  {
   "cell_type": "markdown",
   "metadata": {
    "id": "zt0E1wmfTH6v",
    "papermill": {
     "duration": 0.01297,
     "end_time": "2022-10-19T19:12:23.488215",
     "exception": false,
     "start_time": "2022-10-19T19:12:23.475245",
     "status": "completed"
    },
    "tags": []
   },
   "source": [
    "**4.1 Tokenization**"
   ]
  },
  {
   "cell_type": "code",
   "execution_count": 49,
   "metadata": {},
   "outputs": [],
   "source": [
    "USE_LONGFORMER = False"
   ]
  },
  {
   "cell_type": "code",
   "execution_count": 50,
   "metadata": {
    "execution": {
     "iopub.execute_input": "2022-10-19T19:12:23.516812Z",
     "iopub.status.busy": "2022-10-19T19:12:23.515177Z",
     "iopub.status.idle": "2022-10-19T19:12:24.493505Z",
     "shell.execute_reply": "2022-10-19T19:12:24.492339Z"
    },
    "id": "OmhWMAmNWwfh",
    "papermill": {
     "duration": 0.994936,
     "end_time": "2022-10-19T19:12:24.495948",
     "exception": false,
     "start_time": "2022-10-19T19:12:23.501012",
     "status": "completed"
    },
    "tags": []
   },
   "outputs": [],
   "source": [
    "if USE_LONGFORMER:\n",
    "    tokenizer = LongformerTokenizerFast.from_pretrained('allenai/longformer-base-4096', gradient_checkpointing=True)\n",
    "else:\n",
    "    tokenizer = BertTokenizer.from_pretrained('bert-base-uncased')"
   ]
  },
  {
   "cell_type": "code",
   "execution_count": 51,
   "metadata": {
    "execution": {
     "iopub.execute_input": "2022-10-19T19:12:24.525576Z",
     "iopub.status.busy": "2022-10-19T19:12:24.525215Z",
     "iopub.status.idle": "2022-10-19T19:12:50.176813Z",
     "shell.execute_reply": "2022-10-19T19:12:50.175851Z"
    },
    "id": "aWhUqp_aS-Cx",
    "outputId": "0ad2d69e-9d9c-4733-c2e3-ea51d2acffaf",
    "papermill": {
     "duration": 25.668411,
     "end_time": "2022-10-19T19:12:50.179030",
     "exception": false,
     "start_time": "2022-10-19T19:12:24.510619",
     "status": "completed"
    },
    "tags": []
   },
   "outputs": [
    {
     "name": "stderr",
     "output_type": "stream",
     "text": [
      "Some weights of the model checkpoint at bert-base-uncased were not used when initializing BertForSequenceClassification: ['cls.predictions.transform.LayerNorm.bias', 'cls.seq_relationship.weight', 'cls.predictions.transform.dense.weight', 'cls.seq_relationship.bias', 'cls.predictions.bias', 'cls.predictions.transform.LayerNorm.weight', 'cls.predictions.transform.dense.bias', 'cls.predictions.decoder.weight']\n",
      "- This IS expected if you are initializing BertForSequenceClassification from the checkpoint of a model trained on another task or with another architecture (e.g. initializing a BertForSequenceClassification model from a BertForPreTraining model).\n",
      "- This IS NOT expected if you are initializing BertForSequenceClassification from the checkpoint of a model that you expect to be exactly identical (initializing a BertForSequenceClassification model from a BertForSequenceClassification model).\n",
      "Some weights of BertForSequenceClassification were not initialized from the model checkpoint at bert-base-uncased and are newly initialized: ['classifier.bias', 'classifier.weight']\n",
      "You should probably TRAIN this model on a down-stream task to be able to use it for predictions and inference.\n"
     ]
    },
    {
     "data": {
      "text/plain": [
       "BertForSequenceClassification(\n",
       "  (bert): BertModel(\n",
       "    (embeddings): BertEmbeddings(\n",
       "      (word_embeddings): Embedding(30522, 768, padding_idx=0)\n",
       "      (position_embeddings): Embedding(512, 768)\n",
       "      (token_type_embeddings): Embedding(2, 768)\n",
       "      (LayerNorm): LayerNorm((768,), eps=1e-12, elementwise_affine=True)\n",
       "      (dropout): Dropout(p=0.1, inplace=False)\n",
       "    )\n",
       "    (encoder): BertEncoder(\n",
       "      (layer): ModuleList(\n",
       "        (0): BertLayer(\n",
       "          (attention): BertAttention(\n",
       "            (self): BertSelfAttention(\n",
       "              (query): Linear(in_features=768, out_features=768, bias=True)\n",
       "              (key): Linear(in_features=768, out_features=768, bias=True)\n",
       "              (value): Linear(in_features=768, out_features=768, bias=True)\n",
       "              (dropout): Dropout(p=0.1, inplace=False)\n",
       "            )\n",
       "            (output): BertSelfOutput(\n",
       "              (dense): Linear(in_features=768, out_features=768, bias=True)\n",
       "              (LayerNorm): LayerNorm((768,), eps=1e-12, elementwise_affine=True)\n",
       "              (dropout): Dropout(p=0.1, inplace=False)\n",
       "            )\n",
       "          )\n",
       "          (intermediate): BertIntermediate(\n",
       "            (dense): Linear(in_features=768, out_features=3072, bias=True)\n",
       "            (intermediate_act_fn): GELUActivation()\n",
       "          )\n",
       "          (output): BertOutput(\n",
       "            (dense): Linear(in_features=3072, out_features=768, bias=True)\n",
       "            (LayerNorm): LayerNorm((768,), eps=1e-12, elementwise_affine=True)\n",
       "            (dropout): Dropout(p=0.1, inplace=False)\n",
       "          )\n",
       "        )\n",
       "        (1): BertLayer(\n",
       "          (attention): BertAttention(\n",
       "            (self): BertSelfAttention(\n",
       "              (query): Linear(in_features=768, out_features=768, bias=True)\n",
       "              (key): Linear(in_features=768, out_features=768, bias=True)\n",
       "              (value): Linear(in_features=768, out_features=768, bias=True)\n",
       "              (dropout): Dropout(p=0.1, inplace=False)\n",
       "            )\n",
       "            (output): BertSelfOutput(\n",
       "              (dense): Linear(in_features=768, out_features=768, bias=True)\n",
       "              (LayerNorm): LayerNorm((768,), eps=1e-12, elementwise_affine=True)\n",
       "              (dropout): Dropout(p=0.1, inplace=False)\n",
       "            )\n",
       "          )\n",
       "          (intermediate): BertIntermediate(\n",
       "            (dense): Linear(in_features=768, out_features=3072, bias=True)\n",
       "            (intermediate_act_fn): GELUActivation()\n",
       "          )\n",
       "          (output): BertOutput(\n",
       "            (dense): Linear(in_features=3072, out_features=768, bias=True)\n",
       "            (LayerNorm): LayerNorm((768,), eps=1e-12, elementwise_affine=True)\n",
       "            (dropout): Dropout(p=0.1, inplace=False)\n",
       "          )\n",
       "        )\n",
       "        (2): BertLayer(\n",
       "          (attention): BertAttention(\n",
       "            (self): BertSelfAttention(\n",
       "              (query): Linear(in_features=768, out_features=768, bias=True)\n",
       "              (key): Linear(in_features=768, out_features=768, bias=True)\n",
       "              (value): Linear(in_features=768, out_features=768, bias=True)\n",
       "              (dropout): Dropout(p=0.1, inplace=False)\n",
       "            )\n",
       "            (output): BertSelfOutput(\n",
       "              (dense): Linear(in_features=768, out_features=768, bias=True)\n",
       "              (LayerNorm): LayerNorm((768,), eps=1e-12, elementwise_affine=True)\n",
       "              (dropout): Dropout(p=0.1, inplace=False)\n",
       "            )\n",
       "          )\n",
       "          (intermediate): BertIntermediate(\n",
       "            (dense): Linear(in_features=768, out_features=3072, bias=True)\n",
       "            (intermediate_act_fn): GELUActivation()\n",
       "          )\n",
       "          (output): BertOutput(\n",
       "            (dense): Linear(in_features=3072, out_features=768, bias=True)\n",
       "            (LayerNorm): LayerNorm((768,), eps=1e-12, elementwise_affine=True)\n",
       "            (dropout): Dropout(p=0.1, inplace=False)\n",
       "          )\n",
       "        )\n",
       "        (3): BertLayer(\n",
       "          (attention): BertAttention(\n",
       "            (self): BertSelfAttention(\n",
       "              (query): Linear(in_features=768, out_features=768, bias=True)\n",
       "              (key): Linear(in_features=768, out_features=768, bias=True)\n",
       "              (value): Linear(in_features=768, out_features=768, bias=True)\n",
       "              (dropout): Dropout(p=0.1, inplace=False)\n",
       "            )\n",
       "            (output): BertSelfOutput(\n",
       "              (dense): Linear(in_features=768, out_features=768, bias=True)\n",
       "              (LayerNorm): LayerNorm((768,), eps=1e-12, elementwise_affine=True)\n",
       "              (dropout): Dropout(p=0.1, inplace=False)\n",
       "            )\n",
       "          )\n",
       "          (intermediate): BertIntermediate(\n",
       "            (dense): Linear(in_features=768, out_features=3072, bias=True)\n",
       "            (intermediate_act_fn): GELUActivation()\n",
       "          )\n",
       "          (output): BertOutput(\n",
       "            (dense): Linear(in_features=3072, out_features=768, bias=True)\n",
       "            (LayerNorm): LayerNorm((768,), eps=1e-12, elementwise_affine=True)\n",
       "            (dropout): Dropout(p=0.1, inplace=False)\n",
       "          )\n",
       "        )\n",
       "        (4): BertLayer(\n",
       "          (attention): BertAttention(\n",
       "            (self): BertSelfAttention(\n",
       "              (query): Linear(in_features=768, out_features=768, bias=True)\n",
       "              (key): Linear(in_features=768, out_features=768, bias=True)\n",
       "              (value): Linear(in_features=768, out_features=768, bias=True)\n",
       "              (dropout): Dropout(p=0.1, inplace=False)\n",
       "            )\n",
       "            (output): BertSelfOutput(\n",
       "              (dense): Linear(in_features=768, out_features=768, bias=True)\n",
       "              (LayerNorm): LayerNorm((768,), eps=1e-12, elementwise_affine=True)\n",
       "              (dropout): Dropout(p=0.1, inplace=False)\n",
       "            )\n",
       "          )\n",
       "          (intermediate): BertIntermediate(\n",
       "            (dense): Linear(in_features=768, out_features=3072, bias=True)\n",
       "            (intermediate_act_fn): GELUActivation()\n",
       "          )\n",
       "          (output): BertOutput(\n",
       "            (dense): Linear(in_features=3072, out_features=768, bias=True)\n",
       "            (LayerNorm): LayerNorm((768,), eps=1e-12, elementwise_affine=True)\n",
       "            (dropout): Dropout(p=0.1, inplace=False)\n",
       "          )\n",
       "        )\n",
       "        (5): BertLayer(\n",
       "          (attention): BertAttention(\n",
       "            (self): BertSelfAttention(\n",
       "              (query): Linear(in_features=768, out_features=768, bias=True)\n",
       "              (key): Linear(in_features=768, out_features=768, bias=True)\n",
       "              (value): Linear(in_features=768, out_features=768, bias=True)\n",
       "              (dropout): Dropout(p=0.1, inplace=False)\n",
       "            )\n",
       "            (output): BertSelfOutput(\n",
       "              (dense): Linear(in_features=768, out_features=768, bias=True)\n",
       "              (LayerNorm): LayerNorm((768,), eps=1e-12, elementwise_affine=True)\n",
       "              (dropout): Dropout(p=0.1, inplace=False)\n",
       "            )\n",
       "          )\n",
       "          (intermediate): BertIntermediate(\n",
       "            (dense): Linear(in_features=768, out_features=3072, bias=True)\n",
       "            (intermediate_act_fn): GELUActivation()\n",
       "          )\n",
       "          (output): BertOutput(\n",
       "            (dense): Linear(in_features=3072, out_features=768, bias=True)\n",
       "            (LayerNorm): LayerNorm((768,), eps=1e-12, elementwise_affine=True)\n",
       "            (dropout): Dropout(p=0.1, inplace=False)\n",
       "          )\n",
       "        )\n",
       "        (6): BertLayer(\n",
       "          (attention): BertAttention(\n",
       "            (self): BertSelfAttention(\n",
       "              (query): Linear(in_features=768, out_features=768, bias=True)\n",
       "              (key): Linear(in_features=768, out_features=768, bias=True)\n",
       "              (value): Linear(in_features=768, out_features=768, bias=True)\n",
       "              (dropout): Dropout(p=0.1, inplace=False)\n",
       "            )\n",
       "            (output): BertSelfOutput(\n",
       "              (dense): Linear(in_features=768, out_features=768, bias=True)\n",
       "              (LayerNorm): LayerNorm((768,), eps=1e-12, elementwise_affine=True)\n",
       "              (dropout): Dropout(p=0.1, inplace=False)\n",
       "            )\n",
       "          )\n",
       "          (intermediate): BertIntermediate(\n",
       "            (dense): Linear(in_features=768, out_features=3072, bias=True)\n",
       "            (intermediate_act_fn): GELUActivation()\n",
       "          )\n",
       "          (output): BertOutput(\n",
       "            (dense): Linear(in_features=3072, out_features=768, bias=True)\n",
       "            (LayerNorm): LayerNorm((768,), eps=1e-12, elementwise_affine=True)\n",
       "            (dropout): Dropout(p=0.1, inplace=False)\n",
       "          )\n",
       "        )\n",
       "        (7): BertLayer(\n",
       "          (attention): BertAttention(\n",
       "            (self): BertSelfAttention(\n",
       "              (query): Linear(in_features=768, out_features=768, bias=True)\n",
       "              (key): Linear(in_features=768, out_features=768, bias=True)\n",
       "              (value): Linear(in_features=768, out_features=768, bias=True)\n",
       "              (dropout): Dropout(p=0.1, inplace=False)\n",
       "            )\n",
       "            (output): BertSelfOutput(\n",
       "              (dense): Linear(in_features=768, out_features=768, bias=True)\n",
       "              (LayerNorm): LayerNorm((768,), eps=1e-12, elementwise_affine=True)\n",
       "              (dropout): Dropout(p=0.1, inplace=False)\n",
       "            )\n",
       "          )\n",
       "          (intermediate): BertIntermediate(\n",
       "            (dense): Linear(in_features=768, out_features=3072, bias=True)\n",
       "            (intermediate_act_fn): GELUActivation()\n",
       "          )\n",
       "          (output): BertOutput(\n",
       "            (dense): Linear(in_features=3072, out_features=768, bias=True)\n",
       "            (LayerNorm): LayerNorm((768,), eps=1e-12, elementwise_affine=True)\n",
       "            (dropout): Dropout(p=0.1, inplace=False)\n",
       "          )\n",
       "        )\n",
       "        (8): BertLayer(\n",
       "          (attention): BertAttention(\n",
       "            (self): BertSelfAttention(\n",
       "              (query): Linear(in_features=768, out_features=768, bias=True)\n",
       "              (key): Linear(in_features=768, out_features=768, bias=True)\n",
       "              (value): Linear(in_features=768, out_features=768, bias=True)\n",
       "              (dropout): Dropout(p=0.1, inplace=False)\n",
       "            )\n",
       "            (output): BertSelfOutput(\n",
       "              (dense): Linear(in_features=768, out_features=768, bias=True)\n",
       "              (LayerNorm): LayerNorm((768,), eps=1e-12, elementwise_affine=True)\n",
       "              (dropout): Dropout(p=0.1, inplace=False)\n",
       "            )\n",
       "          )\n",
       "          (intermediate): BertIntermediate(\n",
       "            (dense): Linear(in_features=768, out_features=3072, bias=True)\n",
       "            (intermediate_act_fn): GELUActivation()\n",
       "          )\n",
       "          (output): BertOutput(\n",
       "            (dense): Linear(in_features=3072, out_features=768, bias=True)\n",
       "            (LayerNorm): LayerNorm((768,), eps=1e-12, elementwise_affine=True)\n",
       "            (dropout): Dropout(p=0.1, inplace=False)\n",
       "          )\n",
       "        )\n",
       "        (9): BertLayer(\n",
       "          (attention): BertAttention(\n",
       "            (self): BertSelfAttention(\n",
       "              (query): Linear(in_features=768, out_features=768, bias=True)\n",
       "              (key): Linear(in_features=768, out_features=768, bias=True)\n",
       "              (value): Linear(in_features=768, out_features=768, bias=True)\n",
       "              (dropout): Dropout(p=0.1, inplace=False)\n",
       "            )\n",
       "            (output): BertSelfOutput(\n",
       "              (dense): Linear(in_features=768, out_features=768, bias=True)\n",
       "              (LayerNorm): LayerNorm((768,), eps=1e-12, elementwise_affine=True)\n",
       "              (dropout): Dropout(p=0.1, inplace=False)\n",
       "            )\n",
       "          )\n",
       "          (intermediate): BertIntermediate(\n",
       "            (dense): Linear(in_features=768, out_features=3072, bias=True)\n",
       "            (intermediate_act_fn): GELUActivation()\n",
       "          )\n",
       "          (output): BertOutput(\n",
       "            (dense): Linear(in_features=3072, out_features=768, bias=True)\n",
       "            (LayerNorm): LayerNorm((768,), eps=1e-12, elementwise_affine=True)\n",
       "            (dropout): Dropout(p=0.1, inplace=False)\n",
       "          )\n",
       "        )\n",
       "        (10): BertLayer(\n",
       "          (attention): BertAttention(\n",
       "            (self): BertSelfAttention(\n",
       "              (query): Linear(in_features=768, out_features=768, bias=True)\n",
       "              (key): Linear(in_features=768, out_features=768, bias=True)\n",
       "              (value): Linear(in_features=768, out_features=768, bias=True)\n",
       "              (dropout): Dropout(p=0.1, inplace=False)\n",
       "            )\n",
       "            (output): BertSelfOutput(\n",
       "              (dense): Linear(in_features=768, out_features=768, bias=True)\n",
       "              (LayerNorm): LayerNorm((768,), eps=1e-12, elementwise_affine=True)\n",
       "              (dropout): Dropout(p=0.1, inplace=False)\n",
       "            )\n",
       "          )\n",
       "          (intermediate): BertIntermediate(\n",
       "            (dense): Linear(in_features=768, out_features=3072, bias=True)\n",
       "            (intermediate_act_fn): GELUActivation()\n",
       "          )\n",
       "          (output): BertOutput(\n",
       "            (dense): Linear(in_features=3072, out_features=768, bias=True)\n",
       "            (LayerNorm): LayerNorm((768,), eps=1e-12, elementwise_affine=True)\n",
       "            (dropout): Dropout(p=0.1, inplace=False)\n",
       "          )\n",
       "        )\n",
       "        (11): BertLayer(\n",
       "          (attention): BertAttention(\n",
       "            (self): BertSelfAttention(\n",
       "              (query): Linear(in_features=768, out_features=768, bias=True)\n",
       "              (key): Linear(in_features=768, out_features=768, bias=True)\n",
       "              (value): Linear(in_features=768, out_features=768, bias=True)\n",
       "              (dropout): Dropout(p=0.1, inplace=False)\n",
       "            )\n",
       "            (output): BertSelfOutput(\n",
       "              (dense): Linear(in_features=768, out_features=768, bias=True)\n",
       "              (LayerNorm): LayerNorm((768,), eps=1e-12, elementwise_affine=True)\n",
       "              (dropout): Dropout(p=0.1, inplace=False)\n",
       "            )\n",
       "          )\n",
       "          (intermediate): BertIntermediate(\n",
       "            (dense): Linear(in_features=768, out_features=3072, bias=True)\n",
       "            (intermediate_act_fn): GELUActivation()\n",
       "          )\n",
       "          (output): BertOutput(\n",
       "            (dense): Linear(in_features=3072, out_features=768, bias=True)\n",
       "            (LayerNorm): LayerNorm((768,), eps=1e-12, elementwise_affine=True)\n",
       "            (dropout): Dropout(p=0.1, inplace=False)\n",
       "          )\n",
       "        )\n",
       "      )\n",
       "    )\n",
       "    (pooler): BertPooler(\n",
       "      (dense): Linear(in_features=768, out_features=768, bias=True)\n",
       "      (activation): Tanh()\n",
       "    )\n",
       "  )\n",
       "  (dropout): Dropout(p=0.1, inplace=False)\n",
       "  (classifier): Linear(in_features=768, out_features=2, bias=True)\n",
       ")"
      ]
     },
     "execution_count": 51,
     "metadata": {},
     "output_type": "execute_result"
    }
   ],
   "source": [
    "if USE_LONGFORMER:\n",
    "    model = LongformerForSequenceClassification.from_pretrained(\n",
    "    'allenai/longformer-base-4096', # Use the 124-layer, 1024-hidden, 16-heads, 340M parameters BERT model with an uncased vocab.\n",
    "    num_labels = 2, \n",
    "    output_attentions = False, \n",
    "    output_hidden_states = False, \n",
    "    )\n",
    "else:\n",
    "    model = BertForSequenceClassification.from_pretrained(\n",
    "    'bert-base-uncased', # Use the 124-layer, 1024-hidden, 16-heads, 340M parameters BERT model with an uncased vocab.\n",
    "    num_labels = 2, \n",
    "    output_attentions = False, \n",
    "    output_hidden_states = False,\n",
    "    )\n",
    "\n",
    "model.to(device)"
   ]
  },
  {
   "cell_type": "code",
   "execution_count": 52,
   "metadata": {
    "execution": {
     "iopub.execute_input": "2022-10-19T19:12:50.212264Z",
     "iopub.status.busy": "2022-10-19T19:12:50.211886Z",
     "iopub.status.idle": "2022-10-19T19:12:50.220622Z",
     "shell.execute_reply": "2022-10-19T19:12:50.219554Z"
    },
    "id": "I7RFJtsKZlF6",
    "outputId": "9264d7e1-5821-431a-c516-ccb43221b867",
    "papermill": {
     "duration": 0.029032,
     "end_time": "2022-10-19T19:12:50.223075",
     "exception": false,
     "start_time": "2022-10-19T19:12:50.194043",
     "status": "completed"
    },
    "tags": []
   },
   "outputs": [
    {
     "name": "stdout",
     "output_type": "stream",
     "text": [
      " Original:  House Dem Aide We DidnEven See ComeyLetter Until Jason Chaffetz Tweeted It Darrell Lucus House Dem Aide We DidnEven See ComeyLetter Until Jason Chaffetz Tweeted It By Darrell Lucus October Subscribe Jason Chaffetz stump American Fork Utah image courtesy Michael Jolley available underCreative Commons BY license With apologies Keith Olbermann doubt Worst Person The World week FBI Director James Comey But according toHouse Democratic aide looks like also know second worst person well It turns Comey sent infamous letter announcing FBI looking emails may related Hillary Clintonemail server ranking Democrats relevant committees didnhear Comey They found viatweet one Republican committee chairmen As know Comey notified Republican chairmen Democratic ranking members House Intelligence Judiciary Oversight committees agency reviewing emails recently discovered order see contained classified information Not long letter went Oversight Committee Chairman Jason Chaffetz set political world ablaze tweet FBI Dir informed The FBI learned existence emails appear pertinent investigation\n",
      "Tokenized:  ['house', 'dem', 'aide', 'we', 'didn', '##eve', '##n', 'see', 'come', '##yle', '##tter', 'until', 'jason', 'cha', '##ffe', '##tz', 't', '##wee', '##ted', 'it', 'darrell', 'luc', '##us', 'house', 'dem', 'aide', 'we', 'didn', '##eve', '##n', 'see', 'come', '##yle', '##tter', 'until', 'jason', 'cha', '##ffe', '##tz', 't', '##wee', '##ted', 'it', 'by', 'darrell', 'luc', '##us', 'october', 'sub', '##scribe', 'jason', 'cha', '##ffe', '##tz', 'stump', 'american', 'fork', 'utah', 'image', 'courtesy', 'michael', 'jo', '##lley', 'available', 'under', '##cre', '##ative', 'commons', 'by', 'license', 'with', 'apologies', 'keith', 'ol', '##berman', '##n', 'doubt', 'worst', 'person', 'the', 'world', 'week', 'fbi', 'director', 'james', 'come', '##y', 'but', 'according', 'to', '##house', 'democratic', 'aide', 'looks', 'like', 'also', 'know', 'second', 'worst', 'person', 'well', 'it', 'turns', 'come', '##y', 'sent', 'infamous', 'letter', 'announcing', 'fbi', 'looking', 'emails', 'may', 'related', 'hillary', 'clinton', '##ema', '##il', 'server', 'ranking', 'democrats', 'relevant', 'committees', 'didn', '##hear', 'come', '##y', 'they', 'found', 'via', '##t', '##wee', '##t', 'one', 'republican', 'committee', 'chair', '##men', 'as', 'know', 'come', '##y', 'notified', 'republican', 'chair', '##men', 'democratic', 'ranking', 'members', 'house', 'intelligence', 'judiciary', 'oversight', 'committees', 'agency', 'reviewing', 'emails', 'recently', 'discovered', 'order', 'see', 'contained', 'classified', 'information', 'not', 'long', 'letter', 'went', 'oversight', 'committee', 'chairman', 'jason', 'cha', '##ffe', '##tz', 'set', 'political', 'world', 'ab', '##laze', 't', '##wee', '##t', 'fbi', 'dir', 'informed', 'the', 'fbi', 'learned', 'existence', 'emails', 'appear', 'per', '##tine', '##nt', 'investigation']\n",
      "Token IDs:  [2160, 17183, 14895, 2057, 2134, 18697, 2078, 2156, 2272, 12844, 12079, 2127, 4463, 15775, 16020, 5753, 1056, 28394, 3064, 2009, 23158, 12776, 2271, 2160, 17183, 14895, 2057, 2134, 18697, 2078, 2156, 2272, 12844, 12079, 2127, 4463, 15775, 16020, 5753, 1056, 28394, 3064, 2009, 2011, 23158, 12776, 2271, 2255, 4942, 29234, 4463, 15775, 16020, 5753, 22475, 2137, 9292, 6646, 3746, 14571, 2745, 8183, 25105, 2800, 2104, 16748, 8082, 7674, 2011, 6105, 2007, 25380, 6766, 19330, 23991, 2078, 4797, 5409, 2711, 1996, 2088, 2733, 8495, 2472, 2508, 2272, 2100, 2021, 2429, 2000, 4580, 3537, 14895, 3504, 2066, 2036, 2113, 2117, 5409, 2711, 2092, 2009, 4332, 2272, 2100, 2741, 14429, 3661, 13856, 8495, 2559, 22028, 2089, 3141, 18520, 7207, 14545, 4014, 8241, 5464, 8037, 7882, 9528, 2134, 26560, 2272, 2100, 2027, 2179, 3081, 2102, 28394, 2102, 2028, 3951, 2837, 3242, 3549, 2004, 2113, 2272, 2100, 19488, 3951, 3242, 3549, 3537, 5464, 2372, 2160, 4454, 14814, 15709, 9528, 4034, 15252, 22028, 3728, 3603, 2344, 2156, 4838, 6219, 2592, 2025, 2146, 3661, 2253, 15709, 2837, 3472, 4463, 15775, 16020, 5753, 2275, 2576, 2088, 11113, 24472, 1056, 28394, 2102, 8495, 16101, 6727, 1996, 8495, 4342, 4598, 22028, 3711, 2566, 10196, 3372, 4812]\n"
     ]
    }
   ],
   "source": [
    "print(' Original: ', train_data[0])\n",
    "print('Tokenized: ', tokenizer.tokenize(train_data[0]))\n",
    "print('Token IDs: ', tokenizer.convert_tokens_to_ids(tokenizer.tokenize(train_data[0])))"
   ]
  },
  {
   "cell_type": "raw",
   "metadata": {
    "execution": {
     "iopub.execute_input": "2022-10-19T19:12:50.253200Z",
     "iopub.status.busy": "2022-10-19T19:12:50.252878Z",
     "iopub.status.idle": "2022-10-19T19:13:02.244276Z",
     "shell.execute_reply": "2022-10-19T19:13:02.242887Z"
    },
    "id": "oFmD0iPYZvLd",
    "outputId": "54d2a565-f831-4cce-fa82-57ee57860b23",
    "papermill": {
     "duration": 12.00992,
     "end_time": "2022-10-19T19:13:02.247178",
     "exception": false,
     "start_time": "2022-10-19T19:12:50.237258",
     "status": "completed"
    },
    "tags": []
   },
   "source": [
    "max_len = 0\n",
    "id_len = []\n",
    "for text in train_data:    \n",
    "    input_ids = tokenizer.encode(text, add_special_tokens=True)\n",
    "    id_len.append(len(input_ids))\n",
    "    max_len = max(max_len, len(input_ids))\n",
    "print('Max sentence length: ', max_len)"
   ]
  },
  {
   "cell_type": "markdown",
   "metadata": {
    "id": "48qaFdfYKqzj",
    "papermill": {
     "duration": 0.014634,
     "end_time": "2022-10-19T19:13:02.277567",
     "exception": false,
     "start_time": "2022-10-19T19:13:02.262933",
     "status": "completed"
    },
    "tags": []
   },
   "source": [
    "since 651>512 , hence need to set max length"
   ]
  },
  {
   "cell_type": "raw",
   "metadata": {
    "execution": {
     "iopub.execute_input": "2022-10-19T19:13:02.308895Z",
     "iopub.status.busy": "2022-10-19T19:13:02.308526Z",
     "iopub.status.idle": "2022-10-19T19:13:02.573306Z",
     "shell.execute_reply": "2022-10-19T19:13:02.572371Z"
    },
    "id": "ZpIMAj7NzC9i",
    "outputId": "ca5d54b2-fbe7-4cf3-e8ed-c7aef28087da",
    "papermill": {
     "duration": 0.283088,
     "end_time": "2022-10-19T19:13:02.575472",
     "exception": false,
     "start_time": "2022-10-19T19:13:02.292384",
     "status": "completed"
    },
    "tags": []
   },
   "source": [
    "pd.Series(id_len).hist(bins = 25)"
   ]
  },
  {
   "cell_type": "raw",
   "metadata": {
    "execution": {
     "iopub.execute_input": "2022-10-19T19:13:02.607922Z",
     "iopub.status.busy": "2022-10-19T19:13:02.606935Z",
     "iopub.status.idle": "2022-10-19T19:13:02.614024Z",
     "shell.execute_reply": "2022-10-19T19:13:02.612997Z"
    },
    "id": "3SU6mqYmnrUZ",
    "outputId": "e512cbb8-7376-4936-dcea-bc5a38d8c6b4",
    "papermill": {
     "duration": 0.026537,
     "end_time": "2022-10-19T19:13:02.617341",
     "exception": false,
     "start_time": "2022-10-19T19:13:02.590804",
     "status": "completed"
    },
    "tags": []
   },
   "source": [
    "sum(id_len)/len(id_len)"
   ]
  },
  {
   "cell_type": "markdown",
   "metadata": {
    "id": "qvLGzTnt0qP6",
    "papermill": {
     "duration": 0.015565,
     "end_time": "2022-10-19T19:13:02.648484",
     "exception": false,
     "start_time": "2022-10-19T19:13:02.632919",
     "status": "completed"
    },
    "tags": []
   },
   "source": [
    "we can say max_length = *2200* (for longformers)"
   ]
  },
  {
   "cell_type": "code",
   "execution_count": 53,
   "metadata": {
    "execution": {
     "iopub.execute_input": "2022-10-19T19:13:02.723514Z",
     "iopub.status.busy": "2022-10-19T19:13:02.722592Z",
     "iopub.status.idle": "2022-10-19T19:13:05.839423Z",
     "shell.execute_reply": "2022-10-19T19:13:05.836883Z"
    },
    "id": "loczJVhsyMMT",
    "outputId": "71e9535f-c20c-4bfc-ffcb-97c03f7985ab",
    "papermill": {
     "duration": 3.136958,
     "end_time": "2022-10-19T19:13:05.842583",
     "exception": false,
     "start_time": "2022-10-19T19:13:02.705625",
     "status": "completed"
    },
    "tags": []
   },
   "outputs": [
    {
     "name": "stderr",
     "output_type": "stream",
     "text": [
      "Token indices sequence length is longer than the specified maximum sequence length for this model (636 > 512). Running this sequence through the model will result in indexing errors\n"
     ]
    },
    {
     "name": "stdout",
     "output_type": "stream",
     "text": [
      "Max sentence length:  636\n"
     ]
    }
   ],
   "source": [
    "max_len = 0\n",
    "for text in test_data:    \n",
    "    input_ids = tokenizer.encode(text, add_special_tokens=True)\n",
    "    max_len = max(max_len, len(input_ids))\n",
    "print('Max sentence length: ', max_len)"
   ]
  },
  {
   "cell_type": "code",
   "execution_count": 54,
   "metadata": {
    "execution": {
     "iopub.execute_input": "2022-10-19T19:13:05.877488Z",
     "iopub.status.busy": "2022-10-19T19:13:05.876791Z",
     "iopub.status.idle": "2022-10-19T19:13:05.885037Z",
     "shell.execute_reply": "2022-10-19T19:13:05.883208Z"
    },
    "id": "_JKOTrc9yYRv",
    "outputId": "6ca81201-12e2-4aa5-bc72-9571f93129b8",
    "papermill": {
     "duration": 0.027918,
     "end_time": "2022-10-19T19:13:05.887173",
     "exception": false,
     "start_time": "2022-10-19T19:13:05.859255",
     "status": "completed"
    },
    "tags": []
   },
   "outputs": [
    {
     "data": {
      "text/plain": [
       "((20800,), (5200,))"
      ]
     },
     "execution_count": 54,
     "metadata": {},
     "output_type": "execute_result"
    }
   ],
   "source": [
    "train_data.shape, test_data.shape"
   ]
  },
  {
   "cell_type": "code",
   "execution_count": 55,
   "metadata": {
    "execution": {
     "iopub.execute_input": "2022-10-19T19:13:05.921627Z",
     "iopub.status.busy": "2022-10-19T19:13:05.920572Z",
     "iopub.status.idle": "2022-10-19T19:13:05.929714Z",
     "shell.execute_reply": "2022-10-19T19:13:05.928471Z"
    },
    "id": "KYVXGMQGbRpB",
    "papermill": {
     "duration": 0.029542,
     "end_time": "2022-10-19T19:13:05.932263",
     "exception": false,
     "start_time": "2022-10-19T19:13:05.902721",
     "status": "completed"
    },
    "tags": []
   },
   "outputs": [],
   "source": [
    "def tokenize_map(sentence, max_length, labs='None'):\n",
    "    \n",
    "    \"\"\"A function for tokenize all of the sentences and map the tokens to their word IDs.\"\"\"\n",
    "    \n",
    "    global labels\n",
    "    input_ids = []\n",
    "    attention_masks = []\n",
    "    for text in sentence:  \n",
    "        encoded_dict = tokenizer.encode_plus(\n",
    "                            text,                      # Sentence to encode.\n",
    "                            add_special_tokens = True, # Add '[CLS]' and '[SEP]'\n",
    "                            truncation='longest_first', # Activate and control truncation\n",
    "                            max_length = max_length,           # Max length according to our text data.\n",
    "                            pad_to_max_length = True, # Pad & truncate all sentences.\n",
    "                            return_attention_mask = True,   # Construct attn. masks.\n",
    "                            return_tensors = 'pt',     # Return pytorch tensors.\n",
    "                       )    \n",
    "        input_ids.append(encoded_dict['input_ids'])     \n",
    "        attention_masks.append(encoded_dict['attention_mask'])   \n",
    "    input_ids = torch.cat(input_ids, dim=0)\n",
    "    attention_masks = torch.cat(attention_masks, dim=0)   \n",
    "    if labs != 'None': # Setting this for using this definition for both train and test data so labels won't be a problem in our outputs.\n",
    "        labels = torch.tensor(labels)\n",
    "        return input_ids, attention_masks, labels\n",
    "    else:\n",
    "        return input_ids, attention_masks"
   ]
  },
  {
   "cell_type": "code",
   "execution_count": 56,
   "metadata": {
    "execution": {
     "iopub.execute_input": "2022-10-19T19:13:05.966775Z",
     "iopub.status.busy": "2022-10-19T19:13:05.966095Z",
     "iopub.status.idle": "2022-10-19T19:13:23.839078Z",
     "shell.execute_reply": "2022-10-19T19:13:23.838092Z"
    },
    "id": "qm3igAo0cR6W",
    "outputId": "adc549e3-7cbb-4e24-affd-83b20c1af968",
    "papermill": {
     "duration": 17.893294,
     "end_time": "2022-10-19T19:13:23.841605",
     "exception": false,
     "start_time": "2022-10-19T19:13:05.948311",
     "status": "completed"
    },
    "tags": []
   },
   "outputs": [
    {
     "name": "stderr",
     "output_type": "stream",
     "text": [
      "C:\\Git\\Tulip_troops_API\\venv-tulip-troops\\lib\\site-packages\\transformers\\tokenization_utils_base.py:2339: FutureWarning: The `pad_to_max_length` argument is deprecated and will be removed in a future version, use `padding=True` or `padding='longest'` to pad to the longest sequence in the batch, or use `padding='max_length'` to pad to a max length. In this case, you can give a specific length with `max_length` (e.g. `max_length=45`) or leave max_length to None to pad to the maximal input size of the model (e.g. 512 for Bert).\n",
      "  warnings.warn(\n",
      "C:\\Users\\rik\\AppData\\Local\\Temp\\ipykernel_11704\\2393738221.py:22: FutureWarning: elementwise comparison failed; returning scalar instead, but in the future will perform elementwise comparison\n",
      "  if labs != 'None': # Setting this for using this definition for both train and test data so labels won't be a problem in our outputs.\n"
     ]
    }
   ],
   "source": [
    "input_ids, attention_masks, labels = tokenize_map(train_data, max_length, labels)\n",
    "test_input_ids, test_attention_masks = tokenize_map(test_data, max_length)"
   ]
  },
  {
   "cell_type": "markdown",
   "metadata": {
    "id": "3xcNaU2QWBhz",
    "papermill": {
     "duration": 0.015699,
     "end_time": "2022-10-19T19:13:23.874659",
     "exception": false,
     "start_time": "2022-10-19T19:13:23.858960",
     "status": "completed"
    },
    "tags": []
   },
   "source": [
    "**4.2 Train Validation split**"
   ]
  },
  {
   "cell_type": "code",
   "execution_count": 57,
   "metadata": {
    "execution": {
     "iopub.execute_input": "2022-10-19T19:13:23.909443Z",
     "iopub.status.busy": "2022-10-19T19:13:23.908472Z",
     "iopub.status.idle": "2022-10-19T19:13:23.915999Z",
     "shell.execute_reply": "2022-10-19T19:13:23.915078Z"
    },
    "id": "4Sj9o5vgcUgd",
    "papermill": {
     "duration": 0.026865,
     "end_time": "2022-10-19T19:13:23.918099",
     "exception": false,
     "start_time": "2022-10-19T19:13:23.891234",
     "status": "completed"
    },
    "tags": []
   },
   "outputs": [],
   "source": [
    "dataset = TensorDataset(input_ids, attention_masks, labels)\n",
    "\n",
    "train_size = int(0.8 * len(dataset))\n",
    "val_size = len(dataset) - train_size\n",
    "\n",
    "train_dataset, val_dataset = random_split(dataset, [train_size, val_size])"
   ]
  },
  {
   "cell_type": "code",
   "execution_count": 58,
   "metadata": {
    "execution": {
     "iopub.execute_input": "2022-10-19T19:13:23.951270Z",
     "iopub.status.busy": "2022-10-19T19:13:23.950381Z",
     "iopub.status.idle": "2022-10-19T19:13:23.957090Z",
     "shell.execute_reply": "2022-10-19T19:13:23.956069Z"
    },
    "id": "Cw6hqxTgzw4v",
    "outputId": "3162de4d-2863-423b-bfbf-fed455b60882",
    "papermill": {
     "duration": 0.025724,
     "end_time": "2022-10-19T19:13:23.959372",
     "exception": false,
     "start_time": "2022-10-19T19:13:23.933648",
     "status": "completed"
    },
    "tags": []
   },
   "outputs": [
    {
     "data": {
      "text/plain": [
       "(16640, 4160)"
      ]
     },
     "execution_count": 58,
     "metadata": {},
     "output_type": "execute_result"
    }
   ],
   "source": [
    "train_size, val_size"
   ]
  },
  {
   "cell_type": "markdown",
   "metadata": {
    "id": "-2GbdtYKWP4F",
    "papermill": {
     "duration": 0.015375,
     "end_time": "2022-10-19T19:13:23.990443",
     "exception": false,
     "start_time": "2022-10-19T19:13:23.975068",
     "status": "completed"
    },
    "tags": []
   },
   "source": [
    "**4.3 DataLoaders**"
   ]
  },
  {
   "cell_type": "code",
   "execution_count": 59,
   "metadata": {
    "execution": {
     "iopub.execute_input": "2022-10-19T19:13:24.023479Z",
     "iopub.status.busy": "2022-10-19T19:13:24.023141Z",
     "iopub.status.idle": "2022-10-19T19:13:24.028349Z",
     "shell.execute_reply": "2022-10-19T19:13:24.027428Z"
    },
    "id": "ZNO3W3sMcYFc",
    "papermill": {
     "duration": 0.023637,
     "end_time": "2022-10-19T19:13:24.030267",
     "exception": false,
     "start_time": "2022-10-19T19:13:24.006630",
     "status": "completed"
    },
    "tags": []
   },
   "outputs": [],
   "source": [
    "batch_size = int(32 / (max_length/50))\n",
    "    \n",
    "train_dataloader = DataLoader(\n",
    "            train_dataset,  \n",
    "            sampler = RandomSampler(train_dataset), \n",
    "            batch_size = batch_size \n",
    "        )\n",
    "\n",
    "validation_dataloader = DataLoader(\n",
    "            val_dataset, \n",
    "            sampler = SequentialSampler(val_dataset), \n",
    "            batch_size = batch_size \n",
    ")"
   ]
  },
  {
   "cell_type": "code",
   "execution_count": 60,
   "metadata": {
    "execution": {
     "iopub.execute_input": "2022-10-19T19:13:24.062516Z",
     "iopub.status.busy": "2022-10-19T19:13:24.061681Z",
     "iopub.status.idle": "2022-10-19T19:13:24.066670Z",
     "shell.execute_reply": "2022-10-19T19:13:24.065630Z"
    },
    "id": "ovWOl-DucaoQ",
    "papermill": {
     "duration": 0.023243,
     "end_time": "2022-10-19T19:13:24.068727",
     "exception": false,
     "start_time": "2022-10-19T19:13:24.045484",
     "status": "completed"
    },
    "tags": []
   },
   "outputs": [],
   "source": [
    "prediction_data = TensorDataset(test_input_ids, test_attention_masks)\n",
    "prediction_sampler = SequentialSampler(prediction_data)\n",
    "prediction_dataloader = DataLoader(prediction_data, sampler=prediction_sampler, batch_size=batch_size)"
   ]
  },
  {
   "cell_type": "markdown",
   "metadata": {
    "id": "9gULLtRfWedH",
    "papermill": {
     "duration": 0.016062,
     "end_time": "2022-10-19T19:13:24.100669",
     "exception": false,
     "start_time": "2022-10-19T19:13:24.084607",
     "status": "completed"
    },
    "tags": []
   },
   "source": [
    "**4.4 Optimizer & Learning Rate Scheduler**"
   ]
  },
  {
   "cell_type": "code",
   "execution_count": 61,
   "metadata": {
    "execution": {
     "iopub.execute_input": "2022-10-19T19:13:24.134269Z",
     "iopub.status.busy": "2022-10-19T19:13:24.133892Z",
     "iopub.status.idle": "2022-10-19T19:13:24.144360Z",
     "shell.execute_reply": "2022-10-19T19:13:24.143285Z"
    },
    "id": "fa0Ba7A4crOT",
    "papermill": {
     "duration": 0.029569,
     "end_time": "2022-10-19T19:13:24.146501",
     "exception": false,
     "start_time": "2022-10-19T19:13:24.116932",
     "status": "completed"
    },
    "tags": []
   },
   "outputs": [
    {
     "name": "stderr",
     "output_type": "stream",
     "text": [
      "C:\\Git\\Tulip_troops_API\\venv-tulip-troops\\lib\\site-packages\\transformers\\optimization.py:306: FutureWarning: This implementation of AdamW is deprecated and will be removed in a future version. Use the PyTorch implementation torch.optim.AdamW instead, or set `no_deprecation_warning=True` to disable this warning\n",
      "  warnings.warn(\n"
     ]
    }
   ],
   "source": [
    "optimizer = AdamW(model.parameters(),\n",
    "                  lr = 6e-6, # args.learning_rate\n",
    "                  eps = 1e-8 # args.adam_epsilon\n",
    "                )"
   ]
  },
  {
   "cell_type": "code",
   "execution_count": 62,
   "metadata": {
    "execution": {
     "iopub.execute_input": "2022-10-19T19:13:24.179620Z",
     "iopub.status.busy": "2022-10-19T19:13:24.179041Z",
     "iopub.status.idle": "2022-10-19T19:13:24.184188Z",
     "shell.execute_reply": "2022-10-19T19:13:24.183205Z"
    },
    "id": "YyP2PEUjct9W",
    "papermill": {
     "duration": 0.023793,
     "end_time": "2022-10-19T19:13:24.186165",
     "exception": false,
     "start_time": "2022-10-19T19:13:24.162372",
     "status": "completed"
    },
    "tags": []
   },
   "outputs": [],
   "source": [
    "epochs = 2\n",
    "\n",
    "total_steps = len(train_dataloader) * epochs\n",
    "\n",
    "scheduler = get_linear_schedule_with_warmup(optimizer, \n",
    "                                            num_warmup_steps = 0, # Default value in run_glue.py\n",
    "                                            num_training_steps = total_steps)"
   ]
  },
  {
   "cell_type": "code",
   "execution_count": 63,
   "metadata": {
    "execution": {
     "iopub.execute_input": "2022-10-19T19:13:24.219346Z",
     "iopub.status.busy": "2022-10-19T19:13:24.218433Z",
     "iopub.status.idle": "2022-10-19T19:13:24.224840Z",
     "shell.execute_reply": "2022-10-19T19:13:24.224047Z"
    },
    "id": "Jc8wFe6Pcxt9",
    "papermill": {
     "duration": 0.02541,
     "end_time": "2022-10-19T19:13:24.226962",
     "exception": false,
     "start_time": "2022-10-19T19:13:24.201552",
     "status": "completed"
    },
    "tags": []
   },
   "outputs": [],
   "source": [
    "def flat_accuracy(preds, labels):\n",
    "    pred_flat = np.argmax(preds, axis=1).flatten()\n",
    "    labels_flat = labels.flatten()\n",
    "    \n",
    "    return accuracy_score(labels_flat, pred_flat)\n",
    "\n",
    "def flat_f1(preds, labels):\n",
    "    pred_flat = np.argmax(preds, axis=1).flatten()\n",
    "    labels_flat = labels.flatten()\n",
    "\n",
    "    # print(\"pred_flat \", pred_flat)\n",
    "    # print(\"labels_flat\", labels_flat)\n",
    "    \n",
    "    # print(\"for 0: \",f1_score(labels_flat, pred_flat, pos_label=0))\n",
    "    # print(\"for 1: \",f1_score(labels_flat, pred_flat, pos_label=1))\n",
    "    return f1_score(labels_flat, pred_flat)"
   ]
  },
  {
   "cell_type": "code",
   "execution_count": 64,
   "metadata": {
    "execution": {
     "iopub.execute_input": "2022-10-19T19:13:24.259662Z",
     "iopub.status.busy": "2022-10-19T19:13:24.258788Z",
     "iopub.status.idle": "2022-10-19T19:13:24.267369Z",
     "shell.execute_reply": "2022-10-19T19:13:24.266451Z"
    },
    "id": "vgEzLamyuG9-",
    "papermill": {
     "duration": 0.02735,
     "end_time": "2022-10-19T19:13:24.269366",
     "exception": false,
     "start_time": "2022-10-19T19:13:24.242016",
     "status": "completed"
    },
    "tags": []
   },
   "outputs": [],
   "source": [
    "def plot_confusion_matrix(cm, classes,\n",
    "                          normalize=False,\n",
    "                          title='Confusion matrix',\n",
    "                          cmap=plt.cm.Blues):\n",
    "    \n",
    "    plt.imshow(cm, interpolation='nearest', cmap=cmap)\n",
    "    plt.title(title)\n",
    "    plt.colorbar()\n",
    "    tick_marks = np.arange(len(classes))\n",
    "    plt.xticks(tick_marks, classes, rotation=45)\n",
    "    plt.yticks(tick_marks, classes)\n",
    "    thresh = cm.max() / 2.\n",
    "    for i, j in itertools.product(range(cm.shape[0]), range(cm.shape[1])):\n",
    "        plt.text(j, i, cm[i, j],\n",
    "                 horizontalalignment=\"center\",\n",
    "                 color=\"white\" if cm[i, j] > thresh else \"black\")\n",
    "\n",
    "    plt.tight_layout()\n",
    "    plt.ylabel('True label')\n",
    "    plt.xlabel('Predicted label')"
   ]
  },
  {
   "cell_type": "code",
   "execution_count": 65,
   "metadata": {
    "execution": {
     "iopub.execute_input": "2022-10-19T19:13:24.303341Z",
     "iopub.status.busy": "2022-10-19T19:13:24.302433Z",
     "iopub.status.idle": "2022-10-19T19:13:24.307756Z",
     "shell.execute_reply": "2022-10-19T19:13:24.306856Z"
    },
    "id": "orbDB-itcz4P",
    "papermill": {
     "duration": 0.024122,
     "end_time": "2022-10-19T19:13:24.309784",
     "exception": false,
     "start_time": "2022-10-19T19:13:24.285662",
     "status": "completed"
    },
    "tags": []
   },
   "outputs": [],
   "source": [
    "def format_time(elapsed):    \n",
    "    # Round to the nearest second.\n",
    "    elapsed_rounded = int(round((elapsed)))\n",
    "    \n",
    "    # Format as hh:mm:ss\n",
    "    return str(datetime.timedelta(seconds=elapsed_rounded))"
   ]
  },
  {
   "cell_type": "markdown",
   "metadata": {
    "id": "JUQewaNkWodH",
    "papermill": {
     "duration": 0.015455,
     "end_time": "2022-10-19T19:13:24.340657",
     "exception": false,
     "start_time": "2022-10-19T19:13:24.325202",
     "status": "completed"
    },
    "tags": []
   },
   "source": [
    "# **Step 5: Training and Validation**"
   ]
  },
  {
   "cell_type": "code",
   "execution_count": 67,
   "metadata": {
    "execution": {
     "iopub.execute_input": "2022-10-19T19:13:24.374373Z",
     "iopub.status.busy": "2022-10-19T19:13:24.373415Z",
     "iopub.status.idle": "2022-10-19T19:17:07.352847Z",
     "shell.execute_reply": "2022-10-19T19:17:07.351794Z"
    },
    "id": "TyU3Dl0Bc7Jn",
    "outputId": "ccb739d3-83e0-4f92-8616-80b100f72cb7",
    "papermill": {
     "duration": 222.998924,
     "end_time": "2022-10-19T19:17:07.355871",
     "exception": false,
     "start_time": "2022-10-19T19:13:24.356947",
     "status": "completed"
    },
    "tags": []
   },
   "outputs": [
    {
     "name": "stdout",
     "output_type": "stream",
     "text": [
      "\n",
      "Training...\n",
      "----- Epoch 1 / 2 -----\n",
      "  Batch    40  of  1,040.    Elapsed: 0:00:18.\n",
      "  Batch    80  of  1,040.    Elapsed: 0:00:33.\n",
      "  Batch   120  of  1,040.    Elapsed: 0:00:47.\n",
      "  Batch   160  of  1,040.    Elapsed: 0:01:03.\n",
      "  Batch   200  of  1,040.    Elapsed: 0:01:18.\n",
      "  Batch   240  of  1,040.    Elapsed: 0:01:33.\n",
      "  Batch   280  of  1,040.    Elapsed: 0:01:48.\n",
      "  Batch   320  of  1,040.    Elapsed: 0:02:03.\n",
      "  Batch   360  of  1,040.    Elapsed: 0:02:17.\n",
      "  Batch   400  of  1,040.    Elapsed: 0:02:32.\n",
      "  Batch   440  of  1,040.    Elapsed: 0:02:46.\n",
      "  Batch   480  of  1,040.    Elapsed: 0:03:01.\n",
      "  Batch   520  of  1,040.    Elapsed: 0:03:15.\n",
      "  Batch   560  of  1,040.    Elapsed: 0:03:30.\n",
      "  Batch   600  of  1,040.    Elapsed: 0:03:45.\n",
      "  Batch   640  of  1,040.    Elapsed: 0:03:59.\n",
      "  Batch   680  of  1,040.    Elapsed: 0:04:14.\n",
      "  Batch   720  of  1,040.    Elapsed: 0:04:28.\n",
      "  Batch   760  of  1,040.    Elapsed: 0:04:43.\n",
      "  Batch   800  of  1,040.    Elapsed: 0:04:57.\n",
      "  Batch   840  of  1,040.    Elapsed: 0:05:12.\n",
      "  Batch   880  of  1,040.    Elapsed: 0:05:26.\n",
      "  Batch   920  of  1,040.    Elapsed: 0:05:41.\n",
      "  Batch   960  of  1,040.    Elapsed: 0:05:56.\n",
      "  Batch 1,000  of  1,040.    Elapsed: 0:06:11.\n",
      "\n",
      "  Average training loss: 0.14\n",
      "  Training epoch took: 0:06:26\n",
      "\n",
      "Training...\n",
      "----- Epoch 2 / 2 -----\n",
      "  Batch    40  of  1,040.    Elapsed: 0:00:15.\n",
      "  Batch    80  of  1,040.    Elapsed: 0:00:30.\n",
      "  Batch   120  of  1,040.    Elapsed: 0:00:45.\n",
      "  Batch   160  of  1,040.    Elapsed: 0:01:01.\n",
      "  Batch   200  of  1,040.    Elapsed: 0:01:15.\n",
      "  Batch   240  of  1,040.    Elapsed: 0:01:30.\n",
      "  Batch   280  of  1,040.    Elapsed: 0:01:46.\n",
      "  Batch   320  of  1,040.    Elapsed: 0:02:01.\n",
      "  Batch   360  of  1,040.    Elapsed: 0:02:16.\n",
      "  Batch   400  of  1,040.    Elapsed: 0:02:30.\n",
      "  Batch   440  of  1,040.    Elapsed: 0:02:45.\n",
      "  Batch   480  of  1,040.    Elapsed: 0:03:01.\n",
      "  Batch   520  of  1,040.    Elapsed: 0:03:16.\n",
      "  Batch   560  of  1,040.    Elapsed: 0:03:31.\n",
      "  Batch   600  of  1,040.    Elapsed: 0:03:46.\n",
      "  Batch   640  of  1,040.    Elapsed: 0:04:02.\n",
      "  Batch   680  of  1,040.    Elapsed: 0:04:17.\n",
      "  Batch   720  of  1,040.    Elapsed: 0:04:31.\n",
      "  Batch   760  of  1,040.    Elapsed: 0:04:46.\n",
      "  Batch   800  of  1,040.    Elapsed: 0:05:01.\n",
      "  Batch   840  of  1,040.    Elapsed: 0:05:15.\n",
      "  Batch   880  of  1,040.    Elapsed: 0:05:30.\n",
      "  Batch   920  of  1,040.    Elapsed: 0:05:45.\n",
      "  Batch   960  of  1,040.    Elapsed: 0:05:59.\n",
      "  Batch 1,000  of  1,040.    Elapsed: 0:06:14.\n",
      "\n",
      "  Average training loss: 0.03\n",
      "  Training epoch took: 0:06:28\n"
     ]
    }
   ],
   "source": [
    "accelerator = Accelerator(gradient_accumulation_steps=2)\n",
    "\n",
    "total_t0 = time.time()\n",
    "for epoch_i in range(0, epochs):\n",
    "    print('')\n",
    "    print('Training...')\n",
    "    print('----- Epoch {:} / {:} -----'.format(epoch_i + 1, epochs))\n",
    "\n",
    "    t0 = time.time()\n",
    "    total_train_loss = 0\n",
    "    model.train()\n",
    "\n",
    "    for step, batch in enumerate(train_dataloader):\n",
    "\n",
    "        with accelerator.accumulate(model):\n",
    "            if step % 40 == 0 and not step == 0:\n",
    "                elapsed = format_time(time.time() - t0) \n",
    "                # Report progress.\n",
    "                print('  Batch {:>5,}  of  {:>5,}.    Elapsed: {:}.'.format(step, len(train_dataloader), elapsed))\n",
    "\n",
    "            b_input_ids = batch[0].to(device).to(torch.int64)\n",
    "            b_input_mask = batch[1].to(device).to(torch.int64)\n",
    "            b_labels = batch[2].to(device).to(torch.int64)\n",
    "\n",
    "            model.zero_grad()        \n",
    "\n",
    "            loss = model(b_input_ids, \n",
    "                                       token_type_ids=None, \n",
    "                                       attention_mask=b_input_mask,\n",
    "                                       labels=b_labels)[0]\n",
    "            logits = model(b_input_ids, \n",
    "                                       token_type_ids=None, \n",
    "                                       attention_mask=b_input_mask,\n",
    "                                       labels=b_labels)[1]\n",
    "\n",
    "            total_train_loss += loss.item()\n",
    "            accelerator.backward(loss)\n",
    "    #         loss.backward()\n",
    "            torch.nn.utils.clip_grad_norm_(model.parameters(), 1.0)\n",
    "            optimizer.step()\n",
    "            scheduler.step()\n",
    "\n",
    "    avg_train_loss = total_train_loss / len(train_dataloader)            \n",
    "    training_time = format_time(time.time() - t0)\n",
    "\n",
    "    print('')\n",
    "    print('  Average training loss: {0:.2f}'.format(avg_train_loss))\n",
    "    print('  Training epoch took: {:}'.format(training_time))"
   ]
  },
  {
   "cell_type": "code",
   "execution_count": 68,
   "metadata": {
    "execution": {
     "iopub.execute_input": "2022-10-19T19:17:07.412281Z",
     "iopub.status.busy": "2022-10-19T19:17:07.411707Z",
     "iopub.status.idle": "2022-10-19T19:17:32.354013Z",
     "shell.execute_reply": "2022-10-19T19:17:32.351938Z"
    },
    "id": "MrKRozf-pE1H",
    "outputId": "2c2685b8-e616-43f7-d92a-7fec100ecd39",
    "papermill": {
     "duration": 24.973797,
     "end_time": "2022-10-19T19:17:32.357106",
     "exception": false,
     "start_time": "2022-10-19T19:17:07.383309",
     "status": "completed"
    },
    "tags": []
   },
   "outputs": [
    {
     "name": "stdout",
     "output_type": "stream",
     "text": [
      "\n",
      "Validation...\n",
      "  Accuracy: 0.99\n",
      "  F1: 0.99\n",
      "  Validation Loss: 0.05\n",
      "  Validation took: 0:00:35\n",
      "\n",
      "Validation...\n",
      "  Accuracy: 0.99\n",
      "  F1: 0.99\n",
      "  Validation Loss: 0.05\n",
      "  Validation took: 0:00:35\n",
      "\n",
      "Total training took 0:01:10 (h:mm:ss)\n"
     ]
    }
   ],
   "source": [
    "training_stats = []\n",
    "validations_labels_ep = []\n",
    "actual_labels_ep = []\n",
    "actual = np.zeros(shape=(0,0))\n",
    "total_t0 = time.time()\n",
    "for epoch_i in range(0, epochs):\n",
    "    print('')\n",
    "    print('Validation...')\n",
    "\n",
    "    t0 = time.time()\n",
    "\n",
    "    model.eval()\n",
    "\n",
    "    total_eval_accuracy = 0\n",
    "    total_eval_loss = 0\n",
    "    total_eval_f1 = 0\n",
    "    nb_eval_steps = 0\n",
    "    \n",
    "    validations = []\n",
    "    \n",
    "    validations_labels = []\n",
    "    actual_labels = []\n",
    "\n",
    "    for step, batch in enumerate(validation_dataloader):\n",
    "        b_input_ids = batch[0].to(device)\n",
    "        b_input_mask = batch[1].to(device)\n",
    "        b_labels = batch[2].to(device)\n",
    "    \n",
    "        with torch.no_grad():        \n",
    "            loss = model(b_input_ids, \n",
    "                                   token_type_ids=None, \n",
    "                                   attention_mask=b_input_mask,\n",
    "                                   labels=b_labels)[0]\n",
    "\n",
    "            logits = model(b_input_ids, \n",
    "                                   token_type_ids=None, \n",
    "                                   attention_mask=b_input_mask,\n",
    "                                   labels=b_labels)[1]\n",
    "            \n",
    "        total_eval_loss += loss.item()\n",
    "\n",
    "        logits = logits.detach().cpu().numpy()\n",
    "        label_ids = b_labels.to('cpu').numpy()\n",
    "\n",
    "\n",
    "        if(epoch_i == epochs-1):\n",
    "          actual = np.append(actual, label_ids)\n",
    "          validations.append(logits)\n",
    "\n",
    "        # print(\"shape \",actual.flatten().shape)        \n",
    "\n",
    "        if(step == len(validation_dataloader)-1 and epoch_i == epochs-1):\n",
    "          flat_validations = [item for sublist in validations for item in sublist]\n",
    "          flat_validations = np.argmax(flat_validations, axis=1).flatten()\n",
    "          validations_labels.append(flat_validations)\n",
    "\n",
    "        total_eval_accuracy += flat_accuracy(logits, label_ids)\n",
    "        total_eval_f1 += flat_f1(logits, label_ids)\n",
    "\n",
    "    validations_labels_ep.append(validations_labels)\n",
    "    actual_labels_ep.append(actual_labels)\n",
    "        \n",
    "    avg_val_accuracy = total_eval_accuracy / len(validation_dataloader)\n",
    "    print('  Accuracy: {0:.2f}'.format(avg_val_accuracy))\n",
    "\n",
    "    avg_val_f1 = total_eval_f1 / len(validation_dataloader)\n",
    "    print('  F1: {0:.2f}'.format(avg_val_f1))\n",
    "\n",
    "    avg_val_loss = total_eval_loss / len(validation_dataloader)\n",
    "    \n",
    "    validation_time = format_time(time.time() - t0)\n",
    "    \n",
    "    print('  Validation Loss: {0:.2f}'.format(avg_val_loss))\n",
    "    print('  Validation took: {:}'.format(validation_time))\n",
    "\n",
    "    training_stats.append(\n",
    "        {\n",
    "            'EPOCH': epoch_i + 1,\n",
    "            'Train. Loss': avg_train_loss,\n",
    "            'Valid. Loss': avg_val_loss,\n",
    "            'Valid. Accur.': avg_val_accuracy,\n",
    "            'Valid. F1' : avg_val_f1,\n",
    "            'Train. Time': training_time,\n",
    "            'Valid. Time': validation_time\n",
    "        }\n",
    "    )\n",
    "\n",
    "print('')\n",
    "print('Total training took {:} (h:mm:ss)'.format(format_time(time.time()-total_t0)))"
   ]
  },
  {
   "cell_type": "markdown",
   "metadata": {
    "id": "okFFJ3plXCOW",
    "papermill": {
     "duration": 0.018892,
     "end_time": "2022-10-19T19:17:32.395798",
     "exception": false,
     "start_time": "2022-10-19T19:17:32.376906",
     "status": "completed"
    },
    "tags": []
   },
   "source": [
    "# **Step 5: Evaluation**"
   ]
  },
  {
   "cell_type": "code",
   "execution_count": 69,
   "metadata": {
    "execution": {
     "iopub.execute_input": "2022-10-19T19:17:32.436801Z",
     "iopub.status.busy": "2022-10-19T19:17:32.435766Z",
     "iopub.status.idle": "2022-10-19T19:17:32.453453Z",
     "shell.execute_reply": "2022-10-19T19:17:32.452217Z"
    },
    "id": "NDOZnmEguCVl",
    "outputId": "e7274a2c-e1aa-498b-af3a-54620661056e",
    "papermill": {
     "duration": 0.04089,
     "end_time": "2022-10-19T19:17:32.455863",
     "exception": false,
     "start_time": "2022-10-19T19:17:32.414973",
     "status": "completed"
    },
    "tags": []
   },
   "outputs": [
    {
     "data": {
      "text/html": [
       "<div>\n",
       "<style scoped>\n",
       "    .dataframe tbody tr th:only-of-type {\n",
       "        vertical-align: middle;\n",
       "    }\n",
       "\n",
       "    .dataframe tbody tr th {\n",
       "        vertical-align: top;\n",
       "    }\n",
       "\n",
       "    .dataframe thead th {\n",
       "        text-align: right;\n",
       "    }\n",
       "</style>\n",
       "<table border=\"1\" class=\"dataframe\">\n",
       "  <thead>\n",
       "    <tr style=\"text-align: right;\">\n",
       "      <th></th>\n",
       "      <th>Train. Loss</th>\n",
       "      <th>Valid. Loss</th>\n",
       "      <th>Valid. Accur.</th>\n",
       "      <th>Valid. F1</th>\n",
       "      <th>Train. Time</th>\n",
       "      <th>Valid. Time</th>\n",
       "    </tr>\n",
       "    <tr>\n",
       "      <th>EPOCH</th>\n",
       "      <th></th>\n",
       "      <th></th>\n",
       "      <th></th>\n",
       "      <th></th>\n",
       "      <th></th>\n",
       "      <th></th>\n",
       "    </tr>\n",
       "  </thead>\n",
       "  <tbody>\n",
       "    <tr>\n",
       "      <th>1</th>\n",
       "      <td>0.035</td>\n",
       "      <td>0.047</td>\n",
       "      <td>0.988</td>\n",
       "      <td>0.988</td>\n",
       "      <td>0:06:28</td>\n",
       "      <td>0:00:35</td>\n",
       "    </tr>\n",
       "    <tr>\n",
       "      <th>2</th>\n",
       "      <td>0.035</td>\n",
       "      <td>0.047</td>\n",
       "      <td>0.988</td>\n",
       "      <td>0.988</td>\n",
       "      <td>0:06:28</td>\n",
       "      <td>0:00:35</td>\n",
       "    </tr>\n",
       "  </tbody>\n",
       "</table>\n",
       "</div>"
      ],
      "text/plain": [
       "       Train. Loss  Valid. Loss  Valid. Accur.  Valid. F1 Train. Time  \\\n",
       "EPOCH                                                                   \n",
       "1            0.035        0.047          0.988      0.988     0:06:28   \n",
       "2            0.035        0.047          0.988      0.988     0:06:28   \n",
       "\n",
       "      Valid. Time  \n",
       "EPOCH              \n",
       "1         0:00:35  \n",
       "2         0:00:35  "
      ]
     },
     "metadata": {},
     "output_type": "display_data"
    }
   ],
   "source": [
    "pd.set_option(\"display.precision\", 3)\n",
    "df_stats = pd.DataFrame(data=training_stats)\n",
    "df_stats = df_stats.set_index('EPOCH')\n",
    "display(df_stats)"
   ]
  },
  {
   "cell_type": "code",
   "execution_count": 70,
   "metadata": {
    "execution": {
     "iopub.execute_input": "2022-10-19T19:17:32.498638Z",
     "iopub.status.busy": "2022-10-19T19:17:32.496837Z",
     "iopub.status.idle": "2022-10-19T19:17:32.504101Z",
     "shell.execute_reply": "2022-10-19T19:17:32.503120Z"
    },
    "id": "fCfepTt-ee-_",
    "papermill": {
     "duration": 0.030821,
     "end_time": "2022-10-19T19:17:32.506543",
     "exception": false,
     "start_time": "2022-10-19T19:17:32.475722",
     "status": "completed"
    },
    "tags": []
   },
   "outputs": [],
   "source": [
    "orig = validations_labels_ep[1][0].tolist()\n",
    "pred = [round(x) for x in actual.tolist()]"
   ]
  },
  {
   "cell_type": "code",
   "execution_count": 71,
   "metadata": {
    "execution": {
     "iopub.execute_input": "2022-10-19T19:17:32.546171Z",
     "iopub.status.busy": "2022-10-19T19:17:32.545759Z",
     "iopub.status.idle": "2022-10-19T19:17:32.556596Z",
     "shell.execute_reply": "2022-10-19T19:17:32.555470Z"
    },
    "id": "gUl_TXhyt5DF",
    "papermill": {
     "duration": 0.033354,
     "end_time": "2022-10-19T19:17:32.559115",
     "exception": false,
     "start_time": "2022-10-19T19:17:32.525761",
     "status": "completed"
    },
    "tags": []
   },
   "outputs": [],
   "source": [
    "cm = confusion_matrix(orig, pred, labels=[0,1])"
   ]
  },
  {
   "cell_type": "code",
   "execution_count": 72,
   "metadata": {
    "execution": {
     "iopub.execute_input": "2022-10-19T19:17:32.601046Z",
     "iopub.status.busy": "2022-10-19T19:17:32.600035Z",
     "iopub.status.idle": "2022-10-19T19:17:32.903952Z",
     "shell.execute_reply": "2022-10-19T19:17:32.902769Z"
    },
    "id": "4w6sC1hht7KY",
    "outputId": "11e3059c-0874-4145-c5ab-7372296b3dd0",
    "papermill": {
     "duration": 0.326873,
     "end_time": "2022-10-19T19:17:32.906197",
     "exception": false,
     "start_time": "2022-10-19T19:17:32.579324",
     "status": "completed"
    },
    "tags": []
   },
   "outputs": [
    {
     "data": {
      "image/png": "[encoded data removed]",
      "text/plain": [
       "<Figure size 640x480 with 2 Axes>"
      ]
     },
     "metadata": {},
     "output_type": "display_data"
    }
   ],
   "source": [
    "plot_confusion_matrix(cm, classes=['TRUE','FAKE'], title ='Confusion matrix')"
   ]
  },
  {
   "cell_type": "code",
   "execution_count": 73,
   "metadata": {
    "execution": {
     "iopub.execute_input": "2022-10-19T19:17:32.951244Z",
     "iopub.status.busy": "2022-10-19T19:17:32.949394Z",
     "iopub.status.idle": "2022-10-19T19:17:32.997223Z",
     "shell.execute_reply": "2022-10-19T19:17:32.996116Z"
    },
    "id": "HnM-L1L9op5h",
    "papermill": {
     "duration": 0.073207,
     "end_time": "2022-10-19T19:17:33.000356",
     "exception": false,
     "start_time": "2022-10-19T19:17:32.927149",
     "status": "completed"
    },
    "tags": []
   },
   "outputs": [],
   "source": [
    "class_based = []\n",
    "class_based.append(\n",
    "        {\n",
    "            'class': 0,\n",
    "            'f1_score': f1_score(orig, pred, pos_label=0),\n",
    "            'precision_score': precision_score(orig, pred, pos_label=0),\n",
    "            'recall_score': precision_score(orig, pred, pos_label=0),\n",
    "        }\n",
    "    )\n",
    "class_based.append(\n",
    "        {\n",
    "            'class': 1,\n",
    "            'f1_score': f1_score(orig, pred, pos_label=1),\n",
    "            'precision_score': precision_score(orig, pred, pos_label=1),\n",
    "            'recall_score': precision_score(orig, pred, pos_label=1),\n",
    "        }\n",
    "    )"
   ]
  },
  {
   "cell_type": "code",
   "execution_count": 74,
   "metadata": {
    "execution": {
     "iopub.execute_input": "2022-10-19T19:17:33.041433Z",
     "iopub.status.busy": "2022-10-19T19:17:33.041049Z",
     "iopub.status.idle": "2022-10-19T19:17:33.054819Z",
     "shell.execute_reply": "2022-10-19T19:17:33.053701Z"
    },
    "id": "w41aRwZerPiP",
    "outputId": "f39d4855-d3f9-49d2-9dbf-e9e78f638db4",
    "papermill": {
     "duration": 0.036925,
     "end_time": "2022-10-19T19:17:33.057372",
     "exception": false,
     "start_time": "2022-10-19T19:17:33.020447",
     "status": "completed"
    },
    "tags": []
   },
   "outputs": [
    {
     "data": {
      "text/html": [
       "<div>\n",
       "<style scoped>\n",
       "    .dataframe tbody tr th:only-of-type {\n",
       "        vertical-align: middle;\n",
       "    }\n",
       "\n",
       "    .dataframe tbody tr th {\n",
       "        vertical-align: top;\n",
       "    }\n",
       "\n",
       "    .dataframe thead th {\n",
       "        text-align: right;\n",
       "    }\n",
       "</style>\n",
       "<table border=\"1\" class=\"dataframe\">\n",
       "  <thead>\n",
       "    <tr style=\"text-align: right;\">\n",
       "      <th></th>\n",
       "      <th>f1_score</th>\n",
       "      <th>precision_score</th>\n",
       "      <th>recall_score</th>\n",
       "    </tr>\n",
       "    <tr>\n",
       "      <th>class</th>\n",
       "      <th></th>\n",
       "      <th></th>\n",
       "      <th></th>\n",
       "    </tr>\n",
       "  </thead>\n",
       "  <tbody>\n",
       "    <tr>\n",
       "      <th>0</th>\n",
       "      <td>0.988</td>\n",
       "      <td>0.991</td>\n",
       "      <td>0.991</td>\n",
       "    </tr>\n",
       "    <tr>\n",
       "      <th>1</th>\n",
       "      <td>0.988</td>\n",
       "      <td>0.986</td>\n",
       "      <td>0.986</td>\n",
       "    </tr>\n",
       "  </tbody>\n",
       "</table>\n",
       "</div>"
      ],
      "text/plain": [
       "       f1_score  precision_score  recall_score\n",
       "class                                         \n",
       "0         0.988            0.991         0.991\n",
       "1         0.988            0.986         0.986"
      ]
     },
     "metadata": {},
     "output_type": "display_data"
    }
   ],
   "source": [
    "pd.set_option(\"display.precision\", 3)\n",
    "df_stats = pd.DataFrame(data=class_based)\n",
    "df_stats = df_stats.set_index('class')\n",
    "display(df_stats)"
   ]
  },
  {
   "cell_type": "raw",
   "metadata": {},
   "source": [
    "# Simple BERT (train time 6 minutes?):\n",
    "\n",
    "f1_score\tprecision_score\trecall_score\n",
    "class\t\t\t\n",
    "0\t0.991\t0.995\t0.995\n",
    "1\t0.990\t0.986\t0.986\n",
    "\n",
    "# LongFormer (train time ?):"
   ]
  },
  {
   "cell_type": "markdown",
   "metadata": {
    "id": "2D0N4Mb9XpwW",
    "papermill": {
     "duration": 0.019288,
     "end_time": "2022-10-19T19:17:33.097388",
     "exception": false,
     "start_time": "2022-10-19T19:17:33.078100",
     "status": "completed"
    },
    "tags": []
   },
   "source": [
    "**5.1 Test Data**"
   ]
  },
  {
   "cell_type": "code",
   "execution_count": 75,
   "metadata": {
    "execution": {
     "iopub.execute_input": "2022-10-19T19:17:33.139235Z",
     "iopub.status.busy": "2022-10-19T19:17:33.138182Z",
     "iopub.status.idle": "2022-10-19T19:17:40.880083Z",
     "shell.execute_reply": "2022-10-19T19:17:40.878996Z"
    },
    "id": "f_7HxgA1dEIU",
    "outputId": "8e878c6c-e88c-4d83-ee6c-f9e725dc4454",
    "papermill": {
     "duration": 7.765854,
     "end_time": "2022-10-19T19:17:40.882976",
     "exception": false,
     "start_time": "2022-10-19T19:17:33.117122",
     "status": "completed"
    },
    "tags": []
   },
   "outputs": [
    {
     "name": "stdout",
     "output_type": "stream",
     "text": [
      "Predicting label len 5200\n"
     ]
    }
   ],
   "source": [
    "print('Predicting label len {}'.format(len(test_input_ids)))\n",
    "\n",
    "model.eval()\n",
    "\n",
    "predictions = [] \n",
    "\n",
    "for batch in prediction_dataloader:\n",
    "    batch = tuple(t.to(device) for t in batch)\n",
    "    b_input_ids, b_input_mask, = batch\n",
    "    \n",
    "    with torch.no_grad():\n",
    "        outputs = model(b_input_ids, token_type_ids=None, \n",
    "                      attention_mask=b_input_mask)\n",
    "        \n",
    "    logits = outputs[0]\n",
    "    logits = logits.detach().cpu().numpy()\n",
    "    \n",
    "    predictions.append(logits)\n",
    "    \n",
    "predictions = np.argmax(np.concatenate(predictions, axis=0), axis=1)"
   ]
  },
  {
   "cell_type": "code",
   "execution_count": 76,
   "metadata": {},
   "outputs": [],
   "source": [
    "# prediction_dataloader used SequentialSampler, so can simply predictions merge with the test dataset\n",
    "# 1 is unreliable, 0 is reliable\n",
    "test['pred'] = predictions"
   ]
  },
  {
   "cell_type": "code",
   "execution_count": 77,
   "metadata": {},
   "outputs": [],
   "source": [
    "from transformers import TextClassificationPipeline"
   ]
  },
  {
   "cell_type": "code",
   "execution_count": 78,
   "metadata": {},
   "outputs": [],
   "source": [
    "import pandas as pd\n",
    "sanity_check = [(\"True\", \"Justice department finds more classified documents at Joe Biden’s home. The Guardian. New search turns up six more items from tenures as vice-president and in the Senate\"),\n",
    "     (\"True\", \"Taliban bans contraception calling use a ‘western conspiracy’ The Guardian\"),\n",
    "     (\"True\", \"Man arrested after plowing car into protesters at anti-immigration rally in Dublin InfoWars\"),\n",
    "     (\"True\", \"Man (30s) arrested after anti-immigration protester struck by car Irish Times\")]"
   ]
  },
  {
   "cell_type": "code",
   "execution_count": 79,
   "metadata": {},
   "outputs": [],
   "source": [
    "mapping = {'LABEL_1': 'Fake', 'LABEL_0': 'True'}"
   ]
  },
  {
   "cell_type": "code",
   "execution_count": 80,
   "metadata": {},
   "outputs": [
    {
     "name": "stderr",
     "output_type": "stream",
     "text": [
      "C:\\Git\\Tulip_troops_API\\venv-tulip-troops\\lib\\site-packages\\transformers\\pipelines\\text_classification.py:104: UserWarning: `return_all_scores` is now deprecated,  if want a similar funcionality use `top_k=None` instead of `return_all_scores=True` or `top_k=1` instead of `return_all_scores=False`.\n",
      "  warnings.warn(\n"
     ]
    }
   ],
   "source": [
    "# test a single prediction\n",
    "pipe = TextClassificationPipeline(model=model, tokenizer=tokenizer, return_all_scores=False, device=torch.cuda.current_device())\n",
    "res = pipe([t[1] for t in sanity_check])"
   ]
  },
  {
   "cell_type": "code",
   "execution_count": 81,
   "metadata": {},
   "outputs": [
    {
     "name": "stdout",
     "output_type": "stream",
     "text": [
      "Text: Justice department finds more classified documents at Joe Biden’s home. The Guardian. New search turns up six more items from tenures as vice-president and in the Senate\n",
      "\tLabel: True\n",
      "\tPredict: Fake\n",
      "\tConf: 0.8322080373764038\n",
      "\n",
      "Text: Taliban bans contraception calling use a ‘western conspiracy’ The Guardian\n",
      "\tLabel: True\n",
      "\tPredict: Fake\n",
      "\tConf: 0.9887142777442932\n",
      "\n",
      "Text: Man arrested after plowing car into protesters at anti-immigration rally in Dublin InfoWars\n",
      "\tLabel: True\n",
      "\tPredict: Fake\n",
      "\tConf: 0.9968608617782593\n",
      "\n",
      "Text: Man (30s) arrested after anti-immigration protester struck by car Irish Times\n",
      "\tLabel: True\n",
      "\tPredict: Fake\n",
      "\tConf: 0.9687663912773132\n",
      "\n"
     ]
    }
   ],
   "source": [
    "for (truth, text), pred in list(zip(sanity_check, res)):\n",
    "    prediction = mapping[pred['label']]\n",
    "    score = pred['score']\n",
    "    print(f'Text: {text}\\n\\tLabel: {truth}\\n\\tPredict: {prediction}\\n\\tConf: {score}\\n')"
   ]
  },
  {
   "cell_type": "code",
   "execution_count": null,
   "metadata": {},
   "outputs": [],
   "source": []
  }
 ],
 "metadata": {
  "kernelspec": {
   "display_name": "venv-tulip-troops",
   "language": "python",
   "name": "venv-tulip-troops"
  },
  "language_info": {
   "codemirror_mode": {
    "name": "ipython",
    "version": 3
   },
   "file_extension": ".py",
   "mimetype": "text/x-python",
   "name": "python",
   "nbconvert_exporter": "python",
   "pygments_lexer": "ipython3",
   "version": "3.8.10"
  },
  "papermill": {
   "default_parameters": {},
   "duration": 442.666202,
   "end_time": "2022-10-19T19:17:44.230781",
   "environment_variables": {},
   "exception": null,
   "input_path": "__notebook__.ipynb",
   "output_path": "__notebook__.ipynb",
   "parameters": {},
   "start_time": "2022-10-19T19:10:21.564579",
   "version": "2.3.4"
  },
  "widgets": {
   "application/vnd.jupyter.widget-state+json": {
    "state": {
     "00a38fc33d9947d880240abd60207d48": {
      "model_module": "@jupyter-widgets/controls",
      "model_module_version": "1.5.0",
      "model_name": "ProgressStyleModel",
      "state": {
       "_model_module": "@jupyter-widgets/controls",
       "_model_module_version": "1.5.0",
       "_model_name": "ProgressStyleModel",
       "_view_count": null,
       "_view_module": "@jupyter-widgets/base",
       "_view_module_version": "1.2.0",
       "_view_name": "StyleView",
       "bar_color": null,
       "description_width": ""
      }
     },
     "0209a558adfd442c8804183f01cedafb": {
      "model_module": "@jupyter-widgets/base",
      "model_module_version": "1.2.0",
      "model_name": "LayoutModel",
      "state": {
       "_model_module": "@jupyter-widgets/base",
       "_model_module_version": "1.2.0",
       "_model_name": "LayoutModel",
       "_view_count": null,
       "_view_module": "@jupyter-widgets/base",
       "_view_module_version": "1.2.0",
       "_view_name": "LayoutView",
       "align_content": null,
       "align_items": null,
       "align_self": null,
       "border": null,
       "bottom": null,
       "display": null,
       "flex": null,
       "flex_flow": null,
       "grid_area": null,
       "grid_auto_columns": null,
       "grid_auto_flow": null,
       "grid_auto_rows": null,
       "grid_column": null,
       "grid_gap": null,
       "grid_row": null,
       "grid_template_areas": null,
       "grid_template_columns": null,
       "grid_template_rows": null,
       "height": null,
       "justify_content": null,
       "justify_items": null,
       "left": null,
       "margin": null,
       "max_height": null,
       "max_width": null,
       "min_height": null,
       "min_width": null,
       "object_fit": null,
       "object_position": null,
       "order": null,
       "overflow": null,
       "overflow_x": null,
       "overflow_y": null,
       "padding": null,
       "right": null,
       "top": null,
       "visibility": null,
       "width": null
      }
     },
     "157b73c0785d4c519991892966225d7b": {
      "model_module": "@jupyter-widgets/controls",
      "model_module_version": "1.5.0",
      "model_name": "FloatProgressModel",
      "state": {
       "_dom_classes": [],
       "_model_module": "@jupyter-widgets/controls",
       "_model_module_version": "1.5.0",
       "_model_name": "FloatProgressModel",
       "_view_count": null,
       "_view_module": "@jupyter-widgets/controls",
       "_view_module_version": "1.5.0",
       "_view_name": "ProgressView",
       "bar_style": "success",
       "description": "",
       "description_tooltip": null,
       "layout": "IPY_MODEL_dba7596690dd4e9c9a41094f8183cf77",
       "max": 440473133,
       "min": 0,
       "orientation": "horizontal",
       "style": "IPY_MODEL_58816f89232e4d68a3b13ca8ee7da4cc",
       "value": 440473133
      }
     },
     "18581ba886cc4f63ad8e1d80aae0ec76": {
      "model_module": "@jupyter-widgets/controls",
      "model_module_version": "1.5.0",
      "model_name": "HTMLModel",
      "state": {
       "_dom_classes": [],
       "_model_module": "@jupyter-widgets/controls",
       "_model_module_version": "1.5.0",
       "_model_name": "HTMLModel",
       "_view_count": null,
       "_view_module": "@jupyter-widgets/controls",
       "_view_module_version": "1.5.0",
       "_view_name": "HTMLView",
       "description": "",
       "description_tooltip": null,
       "layout": "IPY_MODEL_f9bdd703f8794e1a811bbfe19d780f9c",
       "placeholder": "​",
       "style": "IPY_MODEL_994c5c5faff44cf8a922be628b4b3468",
       "value": " 28.0/28.0 [00:00&lt;00:00, 983B/s]"
      }
     },
     "1ac9b3eb1ee44aef9ba7fda4a1c7e1ce": {
      "model_module": "@jupyter-widgets/base",
      "model_module_version": "1.2.0",
      "model_name": "LayoutModel",
      "state": {
       "_model_module": "@jupyter-widgets/base",
       "_model_module_version": "1.2.0",
       "_model_name": "LayoutModel",
       "_view_count": null,
       "_view_module": "@jupyter-widgets/base",
       "_view_module_version": "1.2.0",
       "_view_name": "LayoutView",
       "align_content": null,
       "align_items": null,
       "align_self": null,
       "border": null,
       "bottom": null,
       "display": null,
       "flex": null,
       "flex_flow": null,
       "grid_area": null,
       "grid_auto_columns": null,
       "grid_auto_flow": null,
       "grid_auto_rows": null,
       "grid_column": null,
       "grid_gap": null,
       "grid_row": null,
       "grid_template_areas": null,
       "grid_template_columns": null,
       "grid_template_rows": null,
       "height": null,
       "justify_content": null,
       "justify_items": null,
       "left": null,
       "margin": null,
       "max_height": null,
       "max_width": null,
       "min_height": null,
       "min_width": null,
       "object_fit": null,
       "object_position": null,
       "order": null,
       "overflow": null,
       "overflow_x": null,
       "overflow_y": null,
       "padding": null,
       "right": null,
       "top": null,
       "visibility": null,
       "width": null
      }
     },
     "1fc5072829e241558164db66a33be42b": {
      "model_module": "@jupyter-widgets/base",
      "model_module_version": "1.2.0",
      "model_name": "LayoutModel",
      "state": {
       "_model_module": "@jupyter-widgets/base",
       "_model_module_version": "1.2.0",
       "_model_name": "LayoutModel",
       "_view_count": null,
       "_view_module": "@jupyter-widgets/base",
       "_view_module_version": "1.2.0",
       "_view_name": "LayoutView",
       "align_content": null,
       "align_items": null,
       "align_self": null,
       "border": null,
       "bottom": null,
       "display": null,
       "flex": null,
       "flex_flow": null,
       "grid_area": null,
       "grid_auto_columns": null,
       "grid_auto_flow": null,
       "grid_auto_rows": null,
       "grid_column": null,
       "grid_gap": null,
       "grid_row": null,
       "grid_template_areas": null,
       "grid_template_columns": null,
       "grid_template_rows": null,
       "height": null,
       "justify_content": null,
       "justify_items": null,
       "left": null,
       "margin": null,
       "max_height": null,
       "max_width": null,
       "min_height": null,
       "min_width": null,
       "object_fit": null,
       "object_position": null,
       "order": null,
       "overflow": null,
       "overflow_x": null,
       "overflow_y": null,
       "padding": null,
       "right": null,
       "top": null,
       "visibility": null,
       "width": null
      }
     },
     "23466e00e4664fad8cbd3e5ea5d2d411": {
      "model_module": "@jupyter-widgets/base",
      "model_module_version": "1.2.0",
      "model_name": "LayoutModel",
      "state": {
       "_model_module": "@jupyter-widgets/base",
       "_model_module_version": "1.2.0",
       "_model_name": "LayoutModel",
       "_view_count": null,
       "_view_module": "@jupyter-widgets/base",
       "_view_module_version": "1.2.0",
       "_view_name": "LayoutView",
       "align_content": null,
       "align_items": null,
       "align_self": null,
       "border": null,
       "bottom": null,
       "display": null,
       "flex": null,
       "flex_flow": null,
       "grid_area": null,
       "grid_auto_columns": null,
       "grid_auto_flow": null,
       "grid_auto_rows": null,
       "grid_column": null,
       "grid_gap": null,
       "grid_row": null,
       "grid_template_areas": null,
       "grid_template_columns": null,
       "grid_template_rows": null,
       "height": null,
       "justify_content": null,
       "justify_items": null,
       "left": null,
       "margin": null,
       "max_height": null,
       "max_width": null,
       "min_height": null,
       "min_width": null,
       "object_fit": null,
       "object_position": null,
       "order": null,
       "overflow": null,
       "overflow_x": null,
       "overflow_y": null,
       "padding": null,
       "right": null,
       "top": null,
       "visibility": null,
       "width": null
      }
     },
     "23f6f7ba35af4a128c2f83c31a128978": {
      "model_module": "@jupyter-widgets/controls",
      "model_module_version": "1.5.0",
      "model_name": "DescriptionStyleModel",
      "state": {
       "_model_module": "@jupyter-widgets/controls",
       "_model_module_version": "1.5.0",
       "_model_name": "DescriptionStyleModel",
       "_view_count": null,
       "_view_module": "@jupyter-widgets/base",
       "_view_module_version": "1.2.0",
       "_view_name": "StyleView",
       "description_width": ""
      }
     },
     "25fcaf4988124c2e902eec3821c5e3c3": {
      "model_module": "@jupyter-widgets/base",
      "model_module_version": "1.2.0",
      "model_name": "LayoutModel",
      "state": {
       "_model_module": "@jupyter-widgets/base",
       "_model_module_version": "1.2.0",
       "_model_name": "LayoutModel",
       "_view_count": null,
       "_view_module": "@jupyter-widgets/base",
       "_view_module_version": "1.2.0",
       "_view_name": "LayoutView",
       "align_content": null,
       "align_items": null,
       "align_self": null,
       "border": null,
       "bottom": null,
       "display": null,
       "flex": null,
       "flex_flow": null,
       "grid_area": null,
       "grid_auto_columns": null,
       "grid_auto_flow": null,
       "grid_auto_rows": null,
       "grid_column": null,
       "grid_gap": null,
       "grid_row": null,
       "grid_template_areas": null,
       "grid_template_columns": null,
       "grid_template_rows": null,
       "height": null,
       "justify_content": null,
       "justify_items": null,
       "left": null,
       "margin": null,
       "max_height": null,
       "max_width": null,
       "min_height": null,
       "min_width": null,
       "object_fit": null,
       "object_position": null,
       "order": null,
       "overflow": null,
       "overflow_x": null,
       "overflow_y": null,
       "padding": null,
       "right": null,
       "top": null,
       "visibility": null,
       "width": null
      }
     },
     "3d5773a8a51e483ab6cb8cd2da893806": {
      "model_module": "@jupyter-widgets/controls",
      "model_module_version": "1.5.0",
      "model_name": "FloatProgressModel",
      "state": {
       "_dom_classes": [],
       "_model_module": "@jupyter-widgets/controls",
       "_model_module_version": "1.5.0",
       "_model_name": "FloatProgressModel",
       "_view_count": null,
       "_view_module": "@jupyter-widgets/controls",
       "_view_module_version": "1.5.0",
       "_view_name": "ProgressView",
       "bar_style": "success",
       "description": "",
       "description_tooltip": null,
       "layout": "IPY_MODEL_835b455e1a114f24aa6504e4c7cc102f",
       "max": 570,
       "min": 0,
       "orientation": "horizontal",
       "style": "IPY_MODEL_00a38fc33d9947d880240abd60207d48",
       "value": 570
      }
     },
     "3eada98d49504f968bb00cd5e3f63679": {
      "model_module": "@jupyter-widgets/controls",
      "model_module_version": "1.5.0",
      "model_name": "HBoxModel",
      "state": {
       "_dom_classes": [],
       "_model_module": "@jupyter-widgets/controls",
       "_model_module_version": "1.5.0",
       "_model_name": "HBoxModel",
       "_view_count": null,
       "_view_module": "@jupyter-widgets/controls",
       "_view_module_version": "1.5.0",
       "_view_name": "HBoxView",
       "box_style": "",
       "children": [
        "IPY_MODEL_4630a7d9dffa4ffeb4c860487ca6a2c8",
        "IPY_MODEL_3d5773a8a51e483ab6cb8cd2da893806",
        "IPY_MODEL_820cd69aa02a487ca3cbd4e9d050e76e"
       ],
       "layout": "IPY_MODEL_1fc5072829e241558164db66a33be42b"
      }
     },
     "43c643143974487a9334fcf0887f309f": {
      "model_module": "@jupyter-widgets/base",
      "model_module_version": "1.2.0",
      "model_name": "LayoutModel",
      "state": {
       "_model_module": "@jupyter-widgets/base",
       "_model_module_version": "1.2.0",
       "_model_name": "LayoutModel",
       "_view_count": null,
       "_view_module": "@jupyter-widgets/base",
       "_view_module_version": "1.2.0",
       "_view_name": "LayoutView",
       "align_content": null,
       "align_items": null,
       "align_self": null,
       "border": null,
       "bottom": null,
       "display": null,
       "flex": null,
       "flex_flow": null,
       "grid_area": null,
       "grid_auto_columns": null,
       "grid_auto_flow": null,
       "grid_auto_rows": null,
       "grid_column": null,
       "grid_gap": null,
       "grid_row": null,
       "grid_template_areas": null,
       "grid_template_columns": null,
       "grid_template_rows": null,
       "height": null,
       "justify_content": null,
       "justify_items": null,
       "left": null,
       "margin": null,
       "max_height": null,
       "max_width": null,
       "min_height": null,
       "min_width": null,
       "object_fit": null,
       "object_position": null,
       "order": null,
       "overflow": null,
       "overflow_x": null,
       "overflow_y": null,
       "padding": null,
       "right": null,
       "top": null,
       "visibility": null,
       "width": null
      }
     },
     "4630a7d9dffa4ffeb4c860487ca6a2c8": {
      "model_module": "@jupyter-widgets/controls",
      "model_module_version": "1.5.0",
      "model_name": "HTMLModel",
      "state": {
       "_dom_classes": [],
       "_model_module": "@jupyter-widgets/controls",
       "_model_module_version": "1.5.0",
       "_model_name": "HTMLModel",
       "_view_count": null,
       "_view_module": "@jupyter-widgets/controls",
       "_view_module_version": "1.5.0",
       "_view_name": "HTMLView",
       "description": "",
       "description_tooltip": null,
       "layout": "IPY_MODEL_538c349bc5bd424991195689210a82fc",
       "placeholder": "​",
       "style": "IPY_MODEL_49b1edb9e6664de5a5fc2f19e4149ba7",
       "value": "Downloading: 100%"
      }
     },
     "48c960c490f04eb7ac36a5845e0965f3": {
      "model_module": "@jupyter-widgets/controls",
      "model_module_version": "1.5.0",
      "model_name": "HTMLModel",
      "state": {
       "_dom_classes": [],
       "_model_module": "@jupyter-widgets/controls",
       "_model_module_version": "1.5.0",
       "_model_name": "HTMLModel",
       "_view_count": null,
       "_view_module": "@jupyter-widgets/controls",
       "_view_module_version": "1.5.0",
       "_view_name": "HTMLView",
       "description": "",
       "description_tooltip": null,
       "layout": "IPY_MODEL_62b82d16780644f789c7ac80ee9f070e",
       "placeholder": "​",
       "style": "IPY_MODEL_a595beebae764ea89601ca29e977d600",
       "value": "Downloading: 100%"
      }
     },
     "49b1edb9e6664de5a5fc2f19e4149ba7": {
      "model_module": "@jupyter-widgets/controls",
      "model_module_version": "1.5.0",
      "model_name": "DescriptionStyleModel",
      "state": {
       "_model_module": "@jupyter-widgets/controls",
       "_model_module_version": "1.5.0",
       "_model_name": "DescriptionStyleModel",
       "_view_count": null,
       "_view_module": "@jupyter-widgets/base",
       "_view_module_version": "1.2.0",
       "_view_name": "StyleView",
       "description_width": ""
      }
     },
     "4b016e49220542d2a5ede7f09b002165": {
      "model_module": "@jupyter-widgets/controls",
      "model_module_version": "1.5.0",
      "model_name": "DescriptionStyleModel",
      "state": {
       "_model_module": "@jupyter-widgets/controls",
       "_model_module_version": "1.5.0",
       "_model_name": "DescriptionStyleModel",
       "_view_count": null,
       "_view_module": "@jupyter-widgets/base",
       "_view_module_version": "1.2.0",
       "_view_name": "StyleView",
       "description_width": ""
      }
     },
     "538c349bc5bd424991195689210a82fc": {
      "model_module": "@jupyter-widgets/base",
      "model_module_version": "1.2.0",
      "model_name": "LayoutModel",
      "state": {
       "_model_module": "@jupyter-widgets/base",
       "_model_module_version": "1.2.0",
       "_model_name": "LayoutModel",
       "_view_count": null,
       "_view_module": "@jupyter-widgets/base",
       "_view_module_version": "1.2.0",
       "_view_name": "LayoutView",
       "align_content": null,
       "align_items": null,
       "align_self": null,
       "border": null,
       "bottom": null,
       "display": null,
       "flex": null,
       "flex_flow": null,
       "grid_area": null,
       "grid_auto_columns": null,
       "grid_auto_flow": null,
       "grid_auto_rows": null,
       "grid_column": null,
       "grid_gap": null,
       "grid_row": null,
       "grid_template_areas": null,
       "grid_template_columns": null,
       "grid_template_rows": null,
       "height": null,
       "justify_content": null,
       "justify_items": null,
       "left": null,
       "margin": null,
       "max_height": null,
       "max_width": null,
       "min_height": null,
       "min_width": null,
       "object_fit": null,
       "object_position": null,
       "order": null,
       "overflow": null,
       "overflow_x": null,
       "overflow_y": null,
       "padding": null,
       "right": null,
       "top": null,
       "visibility": null,
       "width": null
      }
     },
     "54b21a6c26ca4e8abe8dcf9e98af3060": {
      "model_module": "@jupyter-widgets/controls",
      "model_module_version": "1.5.0",
      "model_name": "DescriptionStyleModel",
      "state": {
       "_model_module": "@jupyter-widgets/controls",
       "_model_module_version": "1.5.0",
       "_model_name": "DescriptionStyleModel",
       "_view_count": null,
       "_view_module": "@jupyter-widgets/base",
       "_view_module_version": "1.2.0",
       "_view_name": "StyleView",
       "description_width": ""
      }
     },
     "58816f89232e4d68a3b13ca8ee7da4cc": {
      "model_module": "@jupyter-widgets/controls",
      "model_module_version": "1.5.0",
      "model_name": "ProgressStyleModel",
      "state": {
       "_model_module": "@jupyter-widgets/controls",
       "_model_module_version": "1.5.0",
       "_model_name": "ProgressStyleModel",
       "_view_count": null,
       "_view_module": "@jupyter-widgets/base",
       "_view_module_version": "1.2.0",
       "_view_name": "StyleView",
       "bar_color": null,
       "description_width": ""
      }
     },
     "5affdc9e5d994e49bcc2afaabaec9345": {
      "model_module": "@jupyter-widgets/base",
      "model_module_version": "1.2.0",
      "model_name": "LayoutModel",
      "state": {
       "_model_module": "@jupyter-widgets/base",
       "_model_module_version": "1.2.0",
       "_model_name": "LayoutModel",
       "_view_count": null,
       "_view_module": "@jupyter-widgets/base",
       "_view_module_version": "1.2.0",
       "_view_name": "LayoutView",
       "align_content": null,
       "align_items": null,
       "align_self": null,
       "border": null,
       "bottom": null,
       "display": null,
       "flex": null,
       "flex_flow": null,
       "grid_area": null,
       "grid_auto_columns": null,
       "grid_auto_flow": null,
       "grid_auto_rows": null,
       "grid_column": null,
       "grid_gap": null,
       "grid_row": null,
       "grid_template_areas": null,
       "grid_template_columns": null,
       "grid_template_rows": null,
       "height": null,
       "justify_content": null,
       "justify_items": null,
       "left": null,
       "margin": null,
       "max_height": null,
       "max_width": null,
       "min_height": null,
       "min_width": null,
       "object_fit": null,
       "object_position": null,
       "order": null,
       "overflow": null,
       "overflow_x": null,
       "overflow_y": null,
       "padding": null,
       "right": null,
       "top": null,
       "visibility": null,
       "width": null
      }
     },
     "60808166ced7425e90bd719fa6af33b9": {
      "model_module": "@jupyter-widgets/controls",
      "model_module_version": "1.5.0",
      "model_name": "HBoxModel",
      "state": {
       "_dom_classes": [],
       "_model_module": "@jupyter-widgets/controls",
       "_model_module_version": "1.5.0",
       "_model_name": "HBoxModel",
       "_view_count": null,
       "_view_module": "@jupyter-widgets/controls",
       "_view_module_version": "1.5.0",
       "_view_name": "HBoxView",
       "box_style": "",
       "children": [
        "IPY_MODEL_a0706e1023b04fa980aa1c67ad6087f4",
        "IPY_MODEL_157b73c0785d4c519991892966225d7b",
        "IPY_MODEL_678609d77f9044549eae67426e0569a3"
       ],
       "layout": "IPY_MODEL_74b423e802ca4979a01fc5e20c010aac"
      }
     },
     "62b82d16780644f789c7ac80ee9f070e": {
      "model_module": "@jupyter-widgets/base",
      "model_module_version": "1.2.0",
      "model_name": "LayoutModel",
      "state": {
       "_model_module": "@jupyter-widgets/base",
       "_model_module_version": "1.2.0",
       "_model_name": "LayoutModel",
       "_view_count": null,
       "_view_module": "@jupyter-widgets/base",
       "_view_module_version": "1.2.0",
       "_view_name": "LayoutView",
       "align_content": null,
       "align_items": null,
       "align_self": null,
       "border": null,
       "bottom": null,
       "display": null,
       "flex": null,
       "flex_flow": null,
       "grid_area": null,
       "grid_auto_columns": null,
       "grid_auto_flow": null,
       "grid_auto_rows": null,
       "grid_column": null,
       "grid_gap": null,
       "grid_row": null,
       "grid_template_areas": null,
       "grid_template_columns": null,
       "grid_template_rows": null,
       "height": null,
       "justify_content": null,
       "justify_items": null,
       "left": null,
       "margin": null,
       "max_height": null,
       "max_width": null,
       "min_height": null,
       "min_width": null,
       "object_fit": null,
       "object_position": null,
       "order": null,
       "overflow": null,
       "overflow_x": null,
       "overflow_y": null,
       "padding": null,
       "right": null,
       "top": null,
       "visibility": null,
       "width": null
      }
     },
     "678609d77f9044549eae67426e0569a3": {
      "model_module": "@jupyter-widgets/controls",
      "model_module_version": "1.5.0",
      "model_name": "HTMLModel",
      "state": {
       "_dom_classes": [],
       "_model_module": "@jupyter-widgets/controls",
       "_model_module_version": "1.5.0",
       "_model_name": "HTMLModel",
       "_view_count": null,
       "_view_module": "@jupyter-widgets/controls",
       "_view_module_version": "1.5.0",
       "_view_name": "HTMLView",
       "description": "",
       "description_tooltip": null,
       "layout": "IPY_MODEL_fd4d9d5c379b49679302431d2ca332a9",
       "placeholder": "​",
       "style": "IPY_MODEL_9a45eb2b731c4a0c9c8e808e9f2a2dfb",
       "value": " 420M/420M [00:14&lt;00:00, 31.8MB/s]"
      }
     },
     "6c40242f188343d89a426bc2518fed05": {
      "model_module": "@jupyter-widgets/base",
      "model_module_version": "1.2.0",
      "model_name": "LayoutModel",
      "state": {
       "_model_module": "@jupyter-widgets/base",
       "_model_module_version": "1.2.0",
       "_model_name": "LayoutModel",
       "_view_count": null,
       "_view_module": "@jupyter-widgets/base",
       "_view_module_version": "1.2.0",
       "_view_name": "LayoutView",
       "align_content": null,
       "align_items": null,
       "align_self": null,
       "border": null,
       "bottom": null,
       "display": null,
       "flex": null,
       "flex_flow": null,
       "grid_area": null,
       "grid_auto_columns": null,
       "grid_auto_flow": null,
       "grid_auto_rows": null,
       "grid_column": null,
       "grid_gap": null,
       "grid_row": null,
       "grid_template_areas": null,
       "grid_template_columns": null,
       "grid_template_rows": null,
       "height": null,
       "justify_content": null,
       "justify_items": null,
       "left": null,
       "margin": null,
       "max_height": null,
       "max_width": null,
       "min_height": null,
       "min_width": null,
       "object_fit": null,
       "object_position": null,
       "order": null,
       "overflow": null,
       "overflow_x": null,
       "overflow_y": null,
       "padding": null,
       "right": null,
       "top": null,
       "visibility": null,
       "width": null
      }
     },
     "6e5a998e16c045b58b47472243f9aa04": {
      "model_module": "@jupyter-widgets/controls",
      "model_module_version": "1.5.0",
      "model_name": "HBoxModel",
      "state": {
       "_dom_classes": [],
       "_model_module": "@jupyter-widgets/controls",
       "_model_module_version": "1.5.0",
       "_model_name": "HBoxModel",
       "_view_count": null,
       "_view_module": "@jupyter-widgets/controls",
       "_view_module_version": "1.5.0",
       "_view_name": "HBoxView",
       "box_style": "",
       "children": [
        "IPY_MODEL_48c960c490f04eb7ac36a5845e0965f3",
        "IPY_MODEL_d6fa815397f44352afe0562442c044f2",
        "IPY_MODEL_7dd4c023f8a34981bc7275a0ac528704"
       ],
       "layout": "IPY_MODEL_25fcaf4988124c2e902eec3821c5e3c3"
      }
     },
     "74b423e802ca4979a01fc5e20c010aac": {
      "model_module": "@jupyter-widgets/base",
      "model_module_version": "1.2.0",
      "model_name": "LayoutModel",
      "state": {
       "_model_module": "@jupyter-widgets/base",
       "_model_module_version": "1.2.0",
       "_model_name": "LayoutModel",
       "_view_count": null,
       "_view_module": "@jupyter-widgets/base",
       "_view_module_version": "1.2.0",
       "_view_name": "LayoutView",
       "align_content": null,
       "align_items": null,
       "align_self": null,
       "border": null,
       "bottom": null,
       "display": null,
       "flex": null,
       "flex_flow": null,
       "grid_area": null,
       "grid_auto_columns": null,
       "grid_auto_flow": null,
       "grid_auto_rows": null,
       "grid_column": null,
       "grid_gap": null,
       "grid_row": null,
       "grid_template_areas": null,
       "grid_template_columns": null,
       "grid_template_rows": null,
       "height": null,
       "justify_content": null,
       "justify_items": null,
       "left": null,
       "margin": null,
       "max_height": null,
       "max_width": null,
       "min_height": null,
       "min_width": null,
       "object_fit": null,
       "object_position": null,
       "order": null,
       "overflow": null,
       "overflow_x": null,
       "overflow_y": null,
       "padding": null,
       "right": null,
       "top": null,
       "visibility": null,
       "width": null
      }
     },
     "7cee3e1a6c754e8290527c76090f4de3": {
      "model_module": "@jupyter-widgets/controls",
      "model_module_version": "1.5.0",
      "model_name": "HTMLModel",
      "state": {
       "_dom_classes": [],
       "_model_module": "@jupyter-widgets/controls",
       "_model_module_version": "1.5.0",
       "_model_name": "HTMLModel",
       "_view_count": null,
       "_view_module": "@jupyter-widgets/controls",
       "_view_module_version": "1.5.0",
       "_view_name": "HTMLView",
       "description": "",
       "description_tooltip": null,
       "layout": "IPY_MODEL_6c40242f188343d89a426bc2518fed05",
       "placeholder": "​",
       "style": "IPY_MODEL_4b016e49220542d2a5ede7f09b002165",
       "value": "Downloading: 100%"
      }
     },
     "7dd4c023f8a34981bc7275a0ac528704": {
      "model_module": "@jupyter-widgets/controls",
      "model_module_version": "1.5.0",
      "model_name": "HTMLModel",
      "state": {
       "_dom_classes": [],
       "_model_module": "@jupyter-widgets/controls",
       "_model_module_version": "1.5.0",
       "_model_name": "HTMLModel",
       "_view_count": null,
       "_view_module": "@jupyter-widgets/controls",
       "_view_module_version": "1.5.0",
       "_view_name": "HTMLView",
       "description": "",
       "description_tooltip": null,
       "layout": "IPY_MODEL_1ac9b3eb1ee44aef9ba7fda4a1c7e1ce",
       "placeholder": "​",
       "style": "IPY_MODEL_54b21a6c26ca4e8abe8dcf9e98af3060",
       "value": " 226k/226k [00:00&lt;00:00, 2.61MB/s]"
      }
     },
     "820cd69aa02a487ca3cbd4e9d050e76e": {
      "model_module": "@jupyter-widgets/controls",
      "model_module_version": "1.5.0",
      "model_name": "HTMLModel",
      "state": {
       "_dom_classes": [],
       "_model_module": "@jupyter-widgets/controls",
       "_model_module_version": "1.5.0",
       "_model_name": "HTMLModel",
       "_view_count": null,
       "_view_module": "@jupyter-widgets/controls",
       "_view_module_version": "1.5.0",
       "_view_name": "HTMLView",
       "description": "",
       "description_tooltip": null,
       "layout": "IPY_MODEL_43c643143974487a9334fcf0887f309f",
       "placeholder": "​",
       "style": "IPY_MODEL_a54faf1e7730422396b83bd1e6fc9b36",
       "value": " 570/570 [00:00&lt;00:00, 20.3kB/s]"
      }
     },
     "835b455e1a114f24aa6504e4c7cc102f": {
      "model_module": "@jupyter-widgets/base",
      "model_module_version": "1.2.0",
      "model_name": "LayoutModel",
      "state": {
       "_model_module": "@jupyter-widgets/base",
       "_model_module_version": "1.2.0",
       "_model_name": "LayoutModel",
       "_view_count": null,
       "_view_module": "@jupyter-widgets/base",
       "_view_module_version": "1.2.0",
       "_view_name": "LayoutView",
       "align_content": null,
       "align_items": null,
       "align_self": null,
       "border": null,
       "bottom": null,
       "display": null,
       "flex": null,
       "flex_flow": null,
       "grid_area": null,
       "grid_auto_columns": null,
       "grid_auto_flow": null,
       "grid_auto_rows": null,
       "grid_column": null,
       "grid_gap": null,
       "grid_row": null,
       "grid_template_areas": null,
       "grid_template_columns": null,
       "grid_template_rows": null,
       "height": null,
       "justify_content": null,
       "justify_items": null,
       "left": null,
       "margin": null,
       "max_height": null,
       "max_width": null,
       "min_height": null,
       "min_width": null,
       "object_fit": null,
       "object_position": null,
       "order": null,
       "overflow": null,
       "overflow_x": null,
       "overflow_y": null,
       "padding": null,
       "right": null,
       "top": null,
       "visibility": null,
       "width": null
      }
     },
     "9884cd49fe9e46059a85ed518f998650": {
      "model_module": "@jupyter-widgets/base",
      "model_module_version": "1.2.0",
      "model_name": "LayoutModel",
      "state": {
       "_model_module": "@jupyter-widgets/base",
       "_model_module_version": "1.2.0",
       "_model_name": "LayoutModel",
       "_view_count": null,
       "_view_module": "@jupyter-widgets/base",
       "_view_module_version": "1.2.0",
       "_view_name": "LayoutView",
       "align_content": null,
       "align_items": null,
       "align_self": null,
       "border": null,
       "bottom": null,
       "display": null,
       "flex": null,
       "flex_flow": null,
       "grid_area": null,
       "grid_auto_columns": null,
       "grid_auto_flow": null,
       "grid_auto_rows": null,
       "grid_column": null,
       "grid_gap": null,
       "grid_row": null,
       "grid_template_areas": null,
       "grid_template_columns": null,
       "grid_template_rows": null,
       "height": null,
       "justify_content": null,
       "justify_items": null,
       "left": null,
       "margin": null,
       "max_height": null,
       "max_width": null,
       "min_height": null,
       "min_width": null,
       "object_fit": null,
       "object_position": null,
       "order": null,
       "overflow": null,
       "overflow_x": null,
       "overflow_y": null,
       "padding": null,
       "right": null,
       "top": null,
       "visibility": null,
       "width": null
      }
     },
     "994c5c5faff44cf8a922be628b4b3468": {
      "model_module": "@jupyter-widgets/controls",
      "model_module_version": "1.5.0",
      "model_name": "DescriptionStyleModel",
      "state": {
       "_model_module": "@jupyter-widgets/controls",
       "_model_module_version": "1.5.0",
       "_model_name": "DescriptionStyleModel",
       "_view_count": null,
       "_view_module": "@jupyter-widgets/base",
       "_view_module_version": "1.2.0",
       "_view_name": "StyleView",
       "description_width": ""
      }
     },
     "9a45eb2b731c4a0c9c8e808e9f2a2dfb": {
      "model_module": "@jupyter-widgets/controls",
      "model_module_version": "1.5.0",
      "model_name": "DescriptionStyleModel",
      "state": {
       "_model_module": "@jupyter-widgets/controls",
       "_model_module_version": "1.5.0",
       "_model_name": "DescriptionStyleModel",
       "_view_count": null,
       "_view_module": "@jupyter-widgets/base",
       "_view_module_version": "1.2.0",
       "_view_name": "StyleView",
       "description_width": ""
      }
     },
     "a0706e1023b04fa980aa1c67ad6087f4": {
      "model_module": "@jupyter-widgets/controls",
      "model_module_version": "1.5.0",
      "model_name": "HTMLModel",
      "state": {
       "_dom_classes": [],
       "_model_module": "@jupyter-widgets/controls",
       "_model_module_version": "1.5.0",
       "_model_name": "HTMLModel",
       "_view_count": null,
       "_view_module": "@jupyter-widgets/controls",
       "_view_module_version": "1.5.0",
       "_view_name": "HTMLView",
       "description": "",
       "description_tooltip": null,
       "layout": "IPY_MODEL_23466e00e4664fad8cbd3e5ea5d2d411",
       "placeholder": "​",
       "style": "IPY_MODEL_23f6f7ba35af4a128c2f83c31a128978",
       "value": "Downloading: 100%"
      }
     },
     "a4acade0597e4c2aa526fca0b2a95120": {
      "model_module": "@jupyter-widgets/controls",
      "model_module_version": "1.5.0",
      "model_name": "FloatProgressModel",
      "state": {
       "_dom_classes": [],
       "_model_module": "@jupyter-widgets/controls",
       "_model_module_version": "1.5.0",
       "_model_name": "FloatProgressModel",
       "_view_count": null,
       "_view_module": "@jupyter-widgets/controls",
       "_view_module_version": "1.5.0",
       "_view_name": "ProgressView",
       "bar_style": "success",
       "description": "",
       "description_tooltip": null,
       "layout": "IPY_MODEL_9884cd49fe9e46059a85ed518f998650",
       "max": 28,
       "min": 0,
       "orientation": "horizontal",
       "style": "IPY_MODEL_d00fef0318a04064b2271a7941933a1d",
       "value": 28
      }
     },
     "a54faf1e7730422396b83bd1e6fc9b36": {
      "model_module": "@jupyter-widgets/controls",
      "model_module_version": "1.5.0",
      "model_name": "DescriptionStyleModel",
      "state": {
       "_model_module": "@jupyter-widgets/controls",
       "_model_module_version": "1.5.0",
       "_model_name": "DescriptionStyleModel",
       "_view_count": null,
       "_view_module": "@jupyter-widgets/base",
       "_view_module_version": "1.2.0",
       "_view_name": "StyleView",
       "description_width": ""
      }
     },
     "a595beebae764ea89601ca29e977d600": {
      "model_module": "@jupyter-widgets/controls",
      "model_module_version": "1.5.0",
      "model_name": "DescriptionStyleModel",
      "state": {
       "_model_module": "@jupyter-widgets/controls",
       "_model_module_version": "1.5.0",
       "_model_name": "DescriptionStyleModel",
       "_view_count": null,
       "_view_module": "@jupyter-widgets/base",
       "_view_module_version": "1.2.0",
       "_view_name": "StyleView",
       "description_width": ""
      }
     },
     "d00fef0318a04064b2271a7941933a1d": {
      "model_module": "@jupyter-widgets/controls",
      "model_module_version": "1.5.0",
      "model_name": "ProgressStyleModel",
      "state": {
       "_model_module": "@jupyter-widgets/controls",
       "_model_module_version": "1.5.0",
       "_model_name": "ProgressStyleModel",
       "_view_count": null,
       "_view_module": "@jupyter-widgets/base",
       "_view_module_version": "1.2.0",
       "_view_name": "StyleView",
       "bar_color": null,
       "description_width": ""
      }
     },
     "d2c1747e2f334666ab0d855eb4921bd4": {
      "model_module": "@jupyter-widgets/controls",
      "model_module_version": "1.5.0",
      "model_name": "ProgressStyleModel",
      "state": {
       "_model_module": "@jupyter-widgets/controls",
       "_model_module_version": "1.5.0",
       "_model_name": "ProgressStyleModel",
       "_view_count": null,
       "_view_module": "@jupyter-widgets/base",
       "_view_module_version": "1.2.0",
       "_view_name": "StyleView",
       "bar_color": null,
       "description_width": ""
      }
     },
     "d6fa815397f44352afe0562442c044f2": {
      "model_module": "@jupyter-widgets/controls",
      "model_module_version": "1.5.0",
      "model_name": "FloatProgressModel",
      "state": {
       "_dom_classes": [],
       "_model_module": "@jupyter-widgets/controls",
       "_model_module_version": "1.5.0",
       "_model_name": "FloatProgressModel",
       "_view_count": null,
       "_view_module": "@jupyter-widgets/controls",
       "_view_module_version": "1.5.0",
       "_view_name": "ProgressView",
       "bar_style": "success",
       "description": "",
       "description_tooltip": null,
       "layout": "IPY_MODEL_5affdc9e5d994e49bcc2afaabaec9345",
       "max": 231508,
       "min": 0,
       "orientation": "horizontal",
       "style": "IPY_MODEL_d2c1747e2f334666ab0d855eb4921bd4",
       "value": 231508
      }
     },
     "dba7596690dd4e9c9a41094f8183cf77": {
      "model_module": "@jupyter-widgets/base",
      "model_module_version": "1.2.0",
      "model_name": "LayoutModel",
      "state": {
       "_model_module": "@jupyter-widgets/base",
       "_model_module_version": "1.2.0",
       "_model_name": "LayoutModel",
       "_view_count": null,
       "_view_module": "@jupyter-widgets/base",
       "_view_module_version": "1.2.0",
       "_view_name": "LayoutView",
       "align_content": null,
       "align_items": null,
       "align_self": null,
       "border": null,
       "bottom": null,
       "display": null,
       "flex": null,
       "flex_flow": null,
       "grid_area": null,
       "grid_auto_columns": null,
       "grid_auto_flow": null,
       "grid_auto_rows": null,
       "grid_column": null,
       "grid_gap": null,
       "grid_row": null,
       "grid_template_areas": null,
       "grid_template_columns": null,
       "grid_template_rows": null,
       "height": null,
       "justify_content": null,
       "justify_items": null,
       "left": null,
       "margin": null,
       "max_height": null,
       "max_width": null,
       "min_height": null,
       "min_width": null,
       "object_fit": null,
       "object_position": null,
       "order": null,
       "overflow": null,
       "overflow_x": null,
       "overflow_y": null,
       "padding": null,
       "right": null,
       "top": null,
       "visibility": null,
       "width": null
      }
     },
     "f5dc166106584151a2ebbcf422df7b31": {
      "model_module": "@jupyter-widgets/controls",
      "model_module_version": "1.5.0",
      "model_name": "HBoxModel",
      "state": {
       "_dom_classes": [],
       "_model_module": "@jupyter-widgets/controls",
       "_model_module_version": "1.5.0",
       "_model_name": "HBoxModel",
       "_view_count": null,
       "_view_module": "@jupyter-widgets/controls",
       "_view_module_version": "1.5.0",
       "_view_name": "HBoxView",
       "box_style": "",
       "children": [
        "IPY_MODEL_7cee3e1a6c754e8290527c76090f4de3",
        "IPY_MODEL_a4acade0597e4c2aa526fca0b2a95120",
        "IPY_MODEL_18581ba886cc4f63ad8e1d80aae0ec76"
       ],
       "layout": "IPY_MODEL_0209a558adfd442c8804183f01cedafb"
      }
     },
     "f9bdd703f8794e1a811bbfe19d780f9c": {
      "model_module": "@jupyter-widgets/base",
      "model_module_version": "1.2.0",
      "model_name": "LayoutModel",
      "state": {
       "_model_module": "@jupyter-widgets/base",
       "_model_module_version": "1.2.0",
       "_model_name": "LayoutModel",
       "_view_count": null,
       "_view_module": "@jupyter-widgets/base",
       "_view_module_version": "1.2.0",
       "_view_name": "LayoutView",
       "align_content": null,
       "align_items": null,
       "align_self": null,
       "border": null,
       "bottom": null,
       "display": null,
       "flex": null,
       "flex_flow": null,
       "grid_area": null,
       "grid_auto_columns": null,
       "grid_auto_flow": null,
       "grid_auto_rows": null,
       "grid_column": null,
       "grid_gap": null,
       "grid_row": null,
       "grid_template_areas": null,
       "grid_template_columns": null,
       "grid_template_rows": null,
       "height": null,
       "justify_content": null,
       "justify_items": null,
       "left": null,
       "margin": null,
       "max_height": null,
       "max_width": null,
       "min_height": null,
       "min_width": null,
       "object_fit": null,
       "object_position": null,
       "order": null,
       "overflow": null,
       "overflow_x": null,
       "overflow_y": null,
       "padding": null,
       "right": null,
       "top": null,
       "visibility": null,
       "width": null
      }
     },
     "fd4d9d5c379b49679302431d2ca332a9": {
      "model_module": "@jupyter-widgets/base",
      "model_module_version": "1.2.0",
      "model_name": "LayoutModel",
      "state": {
       "_model_module": "@jupyter-widgets/base",
       "_model_module_version": "1.2.0",
       "_model_name": "LayoutModel",
       "_view_count": null,
       "_view_module": "@jupyter-widgets/base",
       "_view_module_version": "1.2.0",
       "_view_name": "LayoutView",
       "align_content": null,
       "align_items": null,
       "align_self": null,
       "border": null,
       "bottom": null,
       "display": null,
       "flex": null,
       "flex_flow": null,
       "grid_area": null,
       "grid_auto_columns": null,
       "grid_auto_flow": null,
       "grid_auto_rows": null,
       "grid_column": null,
       "grid_gap": null,
       "grid_row": null,
       "grid_template_areas": null,
       "grid_template_columns": null,
       "grid_template_rows": null,
       "height": null,
       "justify_content": null,
       "justify_items": null,
       "left": null,
       "margin": null,
       "max_height": null,
       "max_width": null,
       "min_height": null,
       "min_width": null,
       "object_fit": null,
       "object_position": null,
       "order": null,
       "overflow": null,
       "overflow_x": null,
       "overflow_y": null,
       "padding": null,
       "right": null,
       "top": null,
       "visibility": null,
       "width": null
      }
     }
    },
    "version_major": 2,
    "version_minor": 0
   }
  }
 },
 "nbformat": 4,
 "nbformat_minor": 5
}
