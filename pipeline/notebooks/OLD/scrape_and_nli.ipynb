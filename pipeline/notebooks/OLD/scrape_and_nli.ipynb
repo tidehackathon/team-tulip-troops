{
 "cells": [
  {
   "cell_type": "code",
   "execution_count": null,
   "metadata": {},
   "outputs": [],
   "source": [
    "%cd ../src\n",
    "%load_ext autoreload\n",
    "%autoreload 2"
   ]
  },
  {
   "cell_type": "code",
   "execution_count": null,
   "metadata": {},
   "outputs": [],
   "source": [
    "import requests\n",
    "requests.packages.urllib3.disable_warnings() \n",
    "\n",
    "import claim_verification"
   ]
  },
  {
   "cell_type": "markdown",
   "metadata": {},
   "source": [
    "## Brad pitt married to Britney Spears? (fake)"
   ]
  },
  {
   "cell_type": "code",
   "execution_count": null,
   "metadata": {},
   "outputs": [],
   "source": [
    "claim = \"brad pitt is to marry with britney spears\"\n",
    "evidence = claim_verification.investigate_claim(claim, model_type='zero-shot')"
   ]
  },
  {
   "cell_type": "code",
   "execution_count": null,
   "metadata": {},
   "outputs": [],
   "source": [
    "claim = \"brad pitt is not married to britney spears\"\n",
    "evidence = claim_verification.investigate_claim(claim, model_type='zero-shot')"
   ]
  },
  {
   "cell_type": "markdown",
   "metadata": {},
   "source": [
    "## Joe Biden classified documents found? (true)"
   ]
  },
  {
   "cell_type": "code",
   "execution_count": null,
   "metadata": {
    "scrolled": true
   },
   "outputs": [],
   "source": [
    "claim = \"Joe Biden took home classified documents after leaving the vice-presidency\"\n",
    "evidence = claim_verification.investigate_claim(claim, model_type='zero-shot')"
   ]
  },
  {
   "cell_type": "code",
   "execution_count": null,
   "metadata": {},
   "outputs": [],
   "source": [
    "claim = \"Joe Biden never took home any classified documents after leaving the vice-presidency\"\n",
    "evidence = claim_verification.investigate_claim(claim, model_type='zero-shot')"
   ]
  },
  {
   "cell_type": "markdown",
   "metadata": {},
   "source": [
    "## COVID-19 vaccine causes infertility (fake)"
   ]
  },
  {
   "cell_type": "code",
   "execution_count": null,
   "metadata": {},
   "outputs": [],
   "source": [
    "claim = \"COVID-19 vaccine causes infertility\"\n",
    "evidence = claim_verification.investigate_claim(claim, model_type='zero-shot')"
   ]
  },
  {
   "cell_type": "code",
   "execution_count": null,
   "metadata": {},
   "outputs": [],
   "source": [
    "claim = \"COVID-19 vaccine does not cause infertility\"\n",
    "evidence = claim_verification.investigate_claim(claim, model_type='zero-shot')"
   ]
  },
  {
   "cell_type": "markdown",
   "metadata": {},
   "source": [
    "## Jan Smit met de US president (fake, but no relevant evidence)"
   ]
  },
  {
   "cell_type": "code",
   "execution_count": null,
   "metadata": {
    "scrolled": true
   },
   "outputs": [],
   "source": [
    "claim = \"jan smit has met with US president in 2012\"\n",
    "evidence = claim_verification.investigate_claim(claim, model_type='zero-shot')"
   ]
  },
  {
   "cell_type": "markdown",
   "metadata": {},
   "source": [
    "# Try other models"
   ]
  },
  {
   "cell_type": "code",
   "execution_count": null,
   "metadata": {},
   "outputs": [],
   "source": [
    "from sentence_transformers import CrossEncoder\n",
    "from transformers import pipeline\n",
    "import requests\n",
    "import pandas as pd\n",
    "import numpy as np\n",
    "from nltk.tokenize import sent_tokenize\n",
    "import torch\n",
    "\n",
    "requests.packages.urllib3.disable_warnings() \n",
    "\n",
    "import get_evidences"
   ]
  },
  {
   "cell_type": "markdown",
   "metadata": {},
   "source": [
    "### Setup"
   ]
  },
  {
   "cell_type": "code",
   "execution_count": null,
   "metadata": {},
   "outputs": [],
   "source": [
    "snli_labels = ['contradiction', 'entailment', 'neutral']"
   ]
  },
  {
   "cell_type": "code",
   "execution_count": null,
   "metadata": {},
   "outputs": [],
   "source": [
    "claim = 'COVID-19 vaccine causes infertility'\n",
    "evidence = claim_verification.load_evidence(claim)\n",
    "context = evidence.text[0]"
   ]
  },
  {
   "cell_type": "markdown",
   "metadata": {},
   "source": [
    "### Q&A"
   ]
  },
  {
   "cell_type": "code",
   "execution_count": null,
   "metadata": {},
   "outputs": [],
   "source": [
    "from transformers import pipeline\n",
    "summarizer = pipeline(\"summarization\", model=\"facebook/bart-large-cnn\")"
   ]
  },
  {
   "cell_type": "code",
   "execution_count": null,
   "metadata": {},
   "outputs": [],
   "source": [
    "summarized_context = summarizer(context, min_length=5, max_length=50)\n",
    "summarized_context = summarized_context[0]['summary_text']\n",
    "summarized_context"
   ]
  },
  {
   "cell_type": "code",
   "execution_count": null,
   "metadata": {},
   "outputs": [],
   "source": [
    "snli_labels[model.predict([(claim, summarized_context)]).argmax(axis=1)[0]]"
   ]
  },
  {
   "cell_type": "code",
   "execution_count": null,
   "metadata": {},
   "outputs": [],
   "source": [
    "snli_labels[model.predict([claim, test[4]]).argmax()]"
   ]
  },
  {
   "cell_type": "code",
   "execution_count": null,
   "metadata": {},
   "outputs": [],
   "source": [
    "claim = 'COVID-19 vaccine causes infertility'"
   ]
  },
  {
   "cell_type": "code",
   "execution_count": null,
   "metadata": {},
   "outputs": [],
   "source": [
    "test[3]"
   ]
  },
  {
   "cell_type": "code",
   "execution_count": null,
   "metadata": {},
   "outputs": [],
   "source": [
    "model.predict([claim, summarized_context])"
   ]
  },
  {
   "cell_type": "code",
   "execution_count": null,
   "metadata": {},
   "outputs": [],
   "source": [
    "summarized_text = summarizer(context, min_length=10, max_length=128)[0]['summary_text']\n",
    "sentences = summarized_text.split('.')\n",
    "sentences = [sent for sent in sentences if len(sent.split(' '))>3]\n",
    "\n",
    "print(claim)\n",
    "print(snli_labels[model.predict([(claim, summarized_text)]).argmax(axis=1)[0]]+'\\n')\n",
    "for sent in sentences:\n",
    "    print(sent)\n",
    "    print(snli_labels[model.predict([(claim, sent)]).argmax(axis=1)[0]])\n",
    "    print()"
   ]
  },
  {
   "cell_type": "code",
   "execution_count": null,
   "metadata": {},
   "outputs": [],
   "source": [
    "snli_labels[model.predict([('COVID-19 vaccine does not cause infertility', 'COVID-19 vaccine causes infertility')]).argmax(axis=1)[0]]"
   ]
  },
  {
   "cell_type": "raw",
   "metadata": {},
   "source": [
    "qa_model = pipeline(model=\"andi611/distilbert-base-uncased-qa-boolq\")\n",
    "context = f\"Focus on the following statement: {claim}. Based purely on the following information, the statement is correct. {evidence.text[0]}.\"\n",
    "conclusion = qa_model(context)\n",
    "print(conclusion)"
   ]
  },
  {
   "cell_type": "code",
   "execution_count": null,
   "metadata": {},
   "outputs": [],
   "source": [
    "# https://huggingface.co/datasets/snli\n",
    "model = CrossEncoder('cross-encoder/nli-distilroberta-base')\n",
    "\n",
    "result = model.predict([(claim, summarized_context)])\n",
    "print(result)\n",
    "snli_labels[result.argmax(axis=1)[0]]"
   ]
  },
  {
   "cell_type": "raw",
   "metadata": {},
   "source": [
    "import torch\n",
    "from transformers import BigBirdForNaturalQuestions, BigBirdTokenizerFast\n",
    "\n",
    "device = torch.device(\"cuda:0\") if torch.cuda.is_available() else torch.device(\"cpu\")\n",
    "model_id = \"vasudevgupta/bigbird-roberta-natural-questions\"\n",
    "bigbird = BigBirdForQuestionAnswering.from_pretrained(model_id).to(device)\n",
    "tokenizer = BigBirdTokenizer.from_pretrained(model_id)\n",
    "\n",
    "def get_answer(question, context):\n",
    "\n",
    "    encoding = tokenizer(question, context, return_tensors=\"pt\", max_length=256, padding=\"max_length\", truncation=True)\n",
    "    input_ids = encoding.input_ids.to(device)\n",
    "    attention_mask = encoding.attention_mask.to(device)\n",
    "\n",
    "    with torch.no_grad():\n",
    "        start_scores, end_scores = bigbird(input_ids=input_ids, attention_mask=attention_mask).to_tuple()\n",
    "\n",
    "    # Let's take the most likely token using `argmax` and retrieve the answer\n",
    "    all_tokens = tokenizer.convert_ids_to_tokens(encoding[\"input_ids\"][0].tolist())\n",
    "\n",
    "    answer_tokens = all_tokens[torch.argmax(start_scores): torch.argmax(end_scores)+1]\n",
    "    answer = tokenizer.decode(tokenizer.convert_tokens_to_ids(answer_tokens))\n",
    "\n",
    "    return answer\n",
    "    \n",
    "question = f\"Is the following claim false? {claim}\"\n",
    "get_answer(question, evidence.text[0])"
   ]
  },
  {
   "cell_type": "markdown",
   "metadata": {},
   "source": [
    "### Zero-shot"
   ]
  },
  {
   "cell_type": "code",
   "execution_count": null,
   "metadata": {},
   "outputs": [],
   "source": [
    "from transformers import pipeline\n",
    "\n",
    "zero_shot_model = pipeline(model=\"facebook/bart-large-mnli\")"
   ]
  },
  {
   "cell_type": "code",
   "execution_count": null,
   "metadata": {},
   "outputs": [],
   "source": [
    "claim1 = \"Joe Biden took home classified documents after leaving the vice-presidency\"\n",
    "claim2 = 'documents were found in the home of Biden'\n",
    "\n",
    "conclusion = oracle(claim2, candidate_labels=[f\"{claim1} is true\", f\"{claim1} is false\"])\n",
    "print(conclusion)"
   ]
  },
  {
   "cell_type": "code",
   "execution_count": null,
   "metadata": {},
   "outputs": [],
   "source": [
    "temp_labels = [f\"{claim1} is {str(bool(0))}\", f\"{claim1} is {str(bool(1))}\"]\n",
    "\n",
    "claim1 = \"Joe Biden took home classified documents after leaving the vice-presidency\"\n",
    "claim2 = 'documents were not found in the home of Biden'\n",
    "\n",
    "conclusion = oracle(claim2, candidate_labels=temp_labels)\n",
    "bool(np.argmax(conclusion['scores']))"
   ]
  },
  {
   "cell_type": "code",
   "execution_count": null,
   "metadata": {},
   "outputs": [],
   "source": [
    "context = f\"{evidence.text[0]}.\"\n",
    "conclusion = oracle(context, candidate_labels=[f\"{claim} is true\", f\"{claim} is false\"])\n",
    "print(conclusion)"
   ]
  },
  {
   "cell_type": "code",
   "execution_count": null,
   "metadata": {},
   "outputs": [],
   "source": [
    "context = f\"{evidence.text[0]}.\"\n",
    "conclusion = oracle(context, candidate_labels=[f\"{claim} is false\", \n",
    "                                               f\"{claim} is true\"])\n",
    "print(conclusion)"
   ]
  },
  {
   "cell_type": "code",
   "execution_count": null,
   "metadata": {},
   "outputs": [],
   "source": [
    "context = f\"Claim: COVID-19 vaccine does not cause infertility. Information: {summarized_context}.\"\n",
    "conclusion = oracle(context, candidate_labels=[\"False claim\", \"True claim\"])\n",
    "print(conclusion)"
   ]
  },
  {
   "cell_type": "code",
   "execution_count": null,
   "metadata": {},
   "outputs": [],
   "source": [
    "context = f\"Claim: {claim}. Information: {summarized_context}.\"\n",
    "conclusion = oracle(context, candidate_labels=[\"False claim\", \"True claim\"])\n",
    "print(conclusion)"
   ]
  },
  {
   "cell_type": "code",
   "execution_count": null,
   "metadata": {},
   "outputs": [],
   "source": [
    "# claim = 'COVID-19 vaccine causes infertility'\n",
    "# for ev in evidence['text'].values:\n",
    "#     context = f\"{claim}. This is logically supported by the following passages. {ev}\"\n",
    "#     conclusion = oracle(context, candidate_labels=[\"true\", \"unsure\", \"false\"])\n",
    "#     print(conclusion)"
   ]
  },
  {
   "cell_type": "markdown",
   "metadata": {},
   "source": [
    "## Text Generation"
   ]
  },
  {
   "cell_type": "code",
   "execution_count": null,
   "metadata": {},
   "outputs": [],
   "source": [
    "generator = pipeline(model=\"gpt2\", max_length=100)"
   ]
  },
  {
   "cell_type": "code",
   "execution_count": null,
   "metadata": {},
   "outputs": [],
   "source": [
    "generator(f\"{summarized_context}. Therefore, is the claim '{claim}' true or false?\", do_sample=False)"
   ]
  },
  {
   "cell_type": "markdown",
   "metadata": {},
   "source": [
    "### Bevindingen\n",
    "\n",
    "- NLI is te streng"
   ]
  },
  {
   "cell_type": "code",
   "execution_count": null,
   "metadata": {},
   "outputs": [],
   "source": []
  }
 ],
 "metadata": {
  "kernelspec": {
   "display_name": "venv-team-tulip",
   "language": "python",
   "name": "venv-team-tulip"
  },
  "language_info": {
   "codemirror_mode": {
    "name": "ipython",
    "version": 3
   },
   "file_extension": ".py",
   "mimetype": "text/x-python",
   "name": "python",
   "nbconvert_exporter": "python",
   "pygments_lexer": "ipython3",
   "version": "3.8.10"
  }
 },
 "nbformat": 4,
 "nbformat_minor": 4
}
